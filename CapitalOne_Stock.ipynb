{
  "nbformat": 4,
  "nbformat_minor": 0,
  "metadata": {
    "colab": {
      "provenance": [],
      "mount_file_id": "1nG4c3RcRIqqLomzYPKRkilJVuyKQ4880",
      "authorship_tag": "ABX9TyNZB410pitOhdF/fEY9bdNg",
      "include_colab_link": true
    },
    "kernelspec": {
      "name": "python3",
      "display_name": "Python 3"
    },
    "language_info": {
      "name": "python"
    }
  },
  "cells": [
    {
      "cell_type": "markdown",
      "metadata": {
        "id": "view-in-github",
        "colab_type": "text"
      },
      "source": [
        "<a href=\"https://colab.research.google.com/github/jsale017/Capital_One_Stock_Evaluation/blob/main/CapitalOne_Stock.ipynb\" target=\"_parent\"><img src=\"https://colab.research.google.com/assets/colab-badge.svg\" alt=\"Open In Colab\"/></a>"
      ]
    },
    {
      "cell_type": "code",
      "source": [
        "#pip install mpl_finance"
      ],
      "metadata": {
        "id": "SDPOEFNF5uli"
      },
      "execution_count": null,
      "outputs": []
    },
    {
      "cell_type": "code",
      "source": [
        "#pip install --upgrade pandas_datareader"
      ],
      "metadata": {
        "id": "lbn7zIkA7BXY"
      },
      "execution_count": null,
      "outputs": []
    },
    {
      "cell_type": "markdown",
      "source": [
        "# Analyzing Capital One Historical Stock Data with Machine Learning\n",
        "\n",
        "### By: Jose Salerno\n",
        "---\n",
        "\n",
        "\n",
        "\n",
        "---\n",
        "\n"
      ],
      "metadata": {
        "id": "HwIHP6FqmZXf"
      }
    },
    {
      "cell_type": "markdown",
      "source": [
        "# Notebook Outline:"
      ],
      "metadata": {
        "id": "6TKLPUW2r6KG"
      }
    },
    {
      "cell_type": "markdown",
      "source": [
        "## 1. Motivation\n",
        "\n",
        "## 2. Introduction\n",
        "\n",
        "## 3. Exploratory Phase (EDA)\n",
        "\n",
        "## 4. Models Creation\n",
        "\n",
        "## 5. Visualizations\n",
        "\n",
        "## 6. Limitations\n",
        "\n",
        "## 7. Conclusion\n",
        "\n",
        "## 8. References\n",
        "\n",
        "---\n",
        "\n",
        "\n",
        "---\n",
        "\n",
        "\n",
        "\n",
        "\n",
        "\n",
        "\n"
      ],
      "metadata": {
        "id": "ToYER5LupWcu"
      }
    },
    {
      "cell_type": "markdown",
      "source": [
        "# 1. Motivation:\n",
        "As an undergraduate student at Florida International University, I developed a strong foundation in Finance, which led me to gain a comprehensive understanding of stock analysis and competitive performance evaluations. I had the opportunity to work on a project that involved analyzing a company's stock, which was a thrilling challenge that taught me how to use Excel and evaluate financial metrics such as the Capital Asset Pricing Model (CAPM), Dividend Discount Model (DDM), and Free Cash Flow Evaluations (FCF)\n",
        "\n",
        "As a graduate student pursuing a Master of Science in Business Analytics degree at Questrom School of Business at Boston University, I am excited to continue honing my analytical and programming skills. So, I embarked on the challenge of analyzing the stock of Capital One company, which allowed me to apply my improved insights and predictions."
      ],
      "metadata": {
        "id": "MMwTJse2mqWs"
      }
    },
    {
      "cell_type": "markdown",
      "source": [],
      "metadata": {
        "id": "G86l9gmIQv3g"
      }
    },
    {
      "cell_type": "markdown",
      "source": [
        "## Background:\n",
        "\n",
        "1. What is the Beta?\n",
        "    - Beta is an important metric that helps investors understand the relationship between a stock's volatility and the systematic risk of the overall market. Specifically, Beta measures a stock's volatility by analyzing its correlation with the S&P, which is used as a benchmark for the market. If a stock has a Beta value that's higher than 1, it's considered to be more volatile than the market. To calculate a stock's Beta Coefficient, we divide its covariance by the variance. By understanding a stock's Beta, investors can determine whether it movement is correlated with the market. For example, if the market goes up, a stock with a high Beta value would also go up.\n",
        "\n",
        "2. What is the CAPM Model?\n",
        "    - The Capital Asset Pricing Model (CAPM) is a financial model that aims to calculate the expected return on investment based on the level of risk involved. Beta describes the connection between an asset's expected return and systematic risk in this model. Beta measures the volatility of a stock or portfolio relative to the market as a whole. The higher the Beta, the higher the risk, and thus, the higher the expected return.\n",
        "\n",
        "    - The CAPM establishes a linear relationship between the expected return on investment and the level of risk involved, as calculated by the Beta of a stock or portfolio, the risk-free rate (typically the Treasury bill rate), and the expected return on investment. By using this model, investors can make more informed decisions about where to invest their money based on their tolerance for risk and the potential return on investment.\n",
        "\n",
        "3. What is Dividend Discounted Model (DDM)?\n",
        "    - The Discounted Dividend Model (DDM) is a financial tool used by investors to estimate the value of a stock based on the potential returns from its future dividend payments.\n",
        "\n",
        "    - The DDM operates on the principle that the current market price of a share of stock is equal to the sum of all its future dividend payments, discounted back to the present day. This discounted value is determined using a discount rate, which is the rate of return an investor expects to receive on their investment.\n",
        "\n",
        "    - By using the DDM, investors can predict the future price of a stock by assuming that its dividends will grow at a fixed rate indefinitely. This allows investors to make informed decisions about whether to buy or sell a particular stock based on its expected future returns.\n",
        "\n",
        "4. What is the Free Cash FLow Evaluation?\n",
        "    - Free Cash Flow (FCF) is a financial metric that provides valuable insights into a company's financial health. Essentially, FCF represents the cash a company generates after accounting for expenses, including capital expenditures. However, unlike net income or earnings, FCF excludes non-cash expenses from the income statement.\n",
        "\n",
        "    - By evaluating FCF, investors, analysts, and other stakeholders can gain a better understanding of a company's cash-generating ability, which is critical for its long-term success. For instance, a company with a positive FCF indicates that it has enough cash to invest in growth opportunities, pay dividends, reduce debt, or buy back shares.\n",
        "\n",
        "\n",
        "---\n"
      ],
      "metadata": {
        "id": "Wwc-_Hxko7if"
      }
    },
    {
      "cell_type": "markdown",
      "source": [
        "# 2. Introduction"
      ],
      "metadata": {
        "id": "FbaQEdCeqfqn"
      }
    },
    {
      "cell_type": "markdown",
      "source": [
        "#### What is the aim of the project:\n",
        "\n",
        "- The purpose of this project is to delve into the details of various financial metrics and gain an in-depth understanding of how they are calculated. Additionally, the project seeks to gain a comprehensive understanding of how Capital One's stock performs in the market and how competitive it is compared to other players in the market. By studying these factors, the project aims to provide a detailed analysis that can assist in making informed financial decisions when it comes to investing in the COF stock."
      ],
      "metadata": {
        "id": "z7b50448qs1s"
      }
    },
    {
      "cell_type": "markdown",
      "source": [
        "#### Who is the Capital One:\n",
        "- Capital One is a highly reputable and well-known American financial institution that specializes in a range of financial services, including credit cards, auto loans, banking, and savings accounts. The company is committed to serving millions of customers across the United States and helping them achieve their financial goals. In addition to its core mission, Capital One is dedicated to improving the well-being of communities across the country by creating affordable housing, supporting black and Hispanic entrepreneurs, and more.\n",
        "\n",
        "- As a company that relies on data to better serve its customers, Capital One is committed to collecting and analyzing vast amounts of customer data to enhance the customer experience. This allows the company to personalize services, protect against fraud and potential risks, and comply with state and federal regulations. Capital One's use of data is both ethical and responsible, helping to ensure that customers can trust the company with their financial information. To delve deeper into the success of the company, I decided to analyze its competitive standing in the stock market.\n",
        "\n"
      ],
      "metadata": {
        "id": "fvyzZbawqlU8"
      }
    },
    {
      "cell_type": "markdown",
      "source": [
        "#### Data Source:\n",
        "- Source: Yahoo Finance\n",
        "- URL: https://finance.yahoo.com/quote/COF/"
      ],
      "metadata": {
        "id": "NuSMNqo3sFpm"
      }
    },
    {
      "cell_type": "markdown",
      "source": [
        "# 3. Exploratory Phase (EDA) and Cleaning"
      ],
      "metadata": {
        "id": "biO2HYwTq8dZ"
      }
    },
    {
      "cell_type": "code",
      "execution_count": null,
      "metadata": {
        "id": "uLpYXttR5Nhm",
        "colab": {
          "base_uri": "https://localhost:8080/"
        },
        "outputId": "89d224a9-8bfd-4165-b0d0-b6a786076918"
      },
      "outputs": [
        {
          "output_type": "stream",
          "name": "stderr",
          "text": [
            "/usr/local/lib/python3.10/dist-packages/yfinance/base.py:48: FutureWarning: The default dtype for empty Series will be 'object' instead of 'float64' in a future version. Specify a dtype explicitly to silence this warning.\n",
            "  _empty_series = pd.Series()\n"
          ]
        }
      ],
      "source": [
        "# Importing necessary packages\n",
        "import numpy as np\n",
        "import pandas_datareader as pdr\n",
        "import datetime as dt\n",
        "import pandas as pd\n",
        "from sklearn.linear_model import LinearRegression\n",
        "import plotly.graph_objects as go\n",
        "import matplotlib.pyplot as plt\n",
        "import yfinance as yf\n",
        "from sklearn.model_selection import train_test_split"
      ]
    },
    {
      "cell_type": "code",
      "source": [
        "# Retriving data from Yahoo Finance\n",
        "start = '2018-01-01'\n",
        "end = dt.datetime.now()\n",
        "tickers = ['COF', '^GSPC']\n",
        "\n",
        "data = yf.download(tickers, start=start, end=end, interval='1mo')"
      ],
      "metadata": {
        "colab": {
          "base_uri": "https://localhost:8080/"
        },
        "id": "t3OpzT005lh8",
        "outputId": "d5c648b0-e5b4-49ea-9bfa-2ab47afe0035"
      },
      "execution_count": null,
      "outputs": [
        {
          "output_type": "stream",
          "name": "stdout",
          "text": [
            "[*********************100%%**********************]  2 of 2 completed\n"
          ]
        }
      ]
    },
    {
      "cell_type": "code",
      "source": [
        "data = data.reset_index()"
      ],
      "metadata": {
        "id": "YMqolv4_6ohi"
      },
      "execution_count": null,
      "outputs": []
    },
    {
      "cell_type": "code",
      "source": [
        "data.head()"
      ],
      "metadata": {
        "colab": {
          "base_uri": "https://localhost:8080/",
          "height": 237
        },
        "id": "UTFjnksODszY",
        "outputId": "0f4a4506-6c60-4b27-d5a0-3827ff6098f9"
      },
      "execution_count": null,
      "outputs": [
        {
          "output_type": "execute_result",
          "data": {
            "text/plain": [
              "        Date  Adj Close                    Close                     High  \\\n",
              "                    COF        ^GSPC         COF        ^GSPC         COF   \n",
              "0 2018-01-01  93.190292  2823.810059  103.959999  2823.810059  106.500000   \n",
              "1 2018-02-01  87.784958  2713.830078   97.930000  2713.830078  104.879997   \n",
              "2 2018-03-01  86.269432  2640.870117   95.820000  2640.870117  101.440002   \n",
              "3 2018-04-01  81.587738  2648.050049   90.620003  2648.050049   99.150002   \n",
              "4 2018-05-01  84.630852  2705.270020   94.000000  2705.270020   97.870003   \n",
              "\n",
              "                      Low                     Open                 Volume  \\\n",
              "         ^GSPC        COF        ^GSPC         COF        ^GSPC       COF   \n",
              "0  2872.870117  98.750000  2682.360107  100.080002  2683.729980  51193200   \n",
              "1  2835.959961  88.750000  2532.689941  103.769997  2816.449951  47921500   \n",
              "2  2801.899902  92.389999  2585.889893   98.010002  2715.219971  44531300   \n",
              "3  2717.489990  90.589996  2553.800049   95.529999  2633.449951  54039300   \n",
              "4  2742.239990  86.949997  2594.620117   90.349998  2642.959961  64502000   \n",
              "\n",
              "                \n",
              "         ^GSPC  \n",
              "0  77318690000  \n",
              "1  79933970000  \n",
              "2  76803890000  \n",
              "3  70194700000  \n",
              "4  76011820000  "
            ],
            "text/html": [
              "\n",
              "  <div id=\"df-71fc367d-6f40-4811-b0ec-0b374046203a\" class=\"colab-df-container\">\n",
              "    <div>\n",
              "<style scoped>\n",
              "    .dataframe tbody tr th:only-of-type {\n",
              "        vertical-align: middle;\n",
              "    }\n",
              "\n",
              "    .dataframe tbody tr th {\n",
              "        vertical-align: top;\n",
              "    }\n",
              "\n",
              "    .dataframe thead tr th {\n",
              "        text-align: left;\n",
              "    }\n",
              "</style>\n",
              "<table border=\"1\" class=\"dataframe\">\n",
              "  <thead>\n",
              "    <tr>\n",
              "      <th></th>\n",
              "      <th>Date</th>\n",
              "      <th colspan=\"2\" halign=\"left\">Adj Close</th>\n",
              "      <th colspan=\"2\" halign=\"left\">Close</th>\n",
              "      <th colspan=\"2\" halign=\"left\">High</th>\n",
              "      <th colspan=\"2\" halign=\"left\">Low</th>\n",
              "      <th colspan=\"2\" halign=\"left\">Open</th>\n",
              "      <th colspan=\"2\" halign=\"left\">Volume</th>\n",
              "    </tr>\n",
              "    <tr>\n",
              "      <th></th>\n",
              "      <th></th>\n",
              "      <th>COF</th>\n",
              "      <th>^GSPC</th>\n",
              "      <th>COF</th>\n",
              "      <th>^GSPC</th>\n",
              "      <th>COF</th>\n",
              "      <th>^GSPC</th>\n",
              "      <th>COF</th>\n",
              "      <th>^GSPC</th>\n",
              "      <th>COF</th>\n",
              "      <th>^GSPC</th>\n",
              "      <th>COF</th>\n",
              "      <th>^GSPC</th>\n",
              "    </tr>\n",
              "  </thead>\n",
              "  <tbody>\n",
              "    <tr>\n",
              "      <th>0</th>\n",
              "      <td>2018-01-01</td>\n",
              "      <td>93.190292</td>\n",
              "      <td>2823.810059</td>\n",
              "      <td>103.959999</td>\n",
              "      <td>2823.810059</td>\n",
              "      <td>106.500000</td>\n",
              "      <td>2872.870117</td>\n",
              "      <td>98.750000</td>\n",
              "      <td>2682.360107</td>\n",
              "      <td>100.080002</td>\n",
              "      <td>2683.729980</td>\n",
              "      <td>51193200</td>\n",
              "      <td>77318690000</td>\n",
              "    </tr>\n",
              "    <tr>\n",
              "      <th>1</th>\n",
              "      <td>2018-02-01</td>\n",
              "      <td>87.784958</td>\n",
              "      <td>2713.830078</td>\n",
              "      <td>97.930000</td>\n",
              "      <td>2713.830078</td>\n",
              "      <td>104.879997</td>\n",
              "      <td>2835.959961</td>\n",
              "      <td>88.750000</td>\n",
              "      <td>2532.689941</td>\n",
              "      <td>103.769997</td>\n",
              "      <td>2816.449951</td>\n",
              "      <td>47921500</td>\n",
              "      <td>79933970000</td>\n",
              "    </tr>\n",
              "    <tr>\n",
              "      <th>2</th>\n",
              "      <td>2018-03-01</td>\n",
              "      <td>86.269432</td>\n",
              "      <td>2640.870117</td>\n",
              "      <td>95.820000</td>\n",
              "      <td>2640.870117</td>\n",
              "      <td>101.440002</td>\n",
              "      <td>2801.899902</td>\n",
              "      <td>92.389999</td>\n",
              "      <td>2585.889893</td>\n",
              "      <td>98.010002</td>\n",
              "      <td>2715.219971</td>\n",
              "      <td>44531300</td>\n",
              "      <td>76803890000</td>\n",
              "    </tr>\n",
              "    <tr>\n",
              "      <th>3</th>\n",
              "      <td>2018-04-01</td>\n",
              "      <td>81.587738</td>\n",
              "      <td>2648.050049</td>\n",
              "      <td>90.620003</td>\n",
              "      <td>2648.050049</td>\n",
              "      <td>99.150002</td>\n",
              "      <td>2717.489990</td>\n",
              "      <td>90.589996</td>\n",
              "      <td>2553.800049</td>\n",
              "      <td>95.529999</td>\n",
              "      <td>2633.449951</td>\n",
              "      <td>54039300</td>\n",
              "      <td>70194700000</td>\n",
              "    </tr>\n",
              "    <tr>\n",
              "      <th>4</th>\n",
              "      <td>2018-05-01</td>\n",
              "      <td>84.630852</td>\n",
              "      <td>2705.270020</td>\n",
              "      <td>94.000000</td>\n",
              "      <td>2705.270020</td>\n",
              "      <td>97.870003</td>\n",
              "      <td>2742.239990</td>\n",
              "      <td>86.949997</td>\n",
              "      <td>2594.620117</td>\n",
              "      <td>90.349998</td>\n",
              "      <td>2642.959961</td>\n",
              "      <td>64502000</td>\n",
              "      <td>76011820000</td>\n",
              "    </tr>\n",
              "  </tbody>\n",
              "</table>\n",
              "</div>\n",
              "    <div class=\"colab-df-buttons\">\n",
              "\n",
              "  <div class=\"colab-df-container\">\n",
              "    <button class=\"colab-df-convert\" onclick=\"convertToInteractive('df-71fc367d-6f40-4811-b0ec-0b374046203a')\"\n",
              "            title=\"Convert this dataframe to an interactive table.\"\n",
              "            style=\"display:none;\">\n",
              "\n",
              "  <svg xmlns=\"http://www.w3.org/2000/svg\" height=\"24px\" viewBox=\"0 -960 960 960\">\n",
              "    <path d=\"M120-120v-720h720v720H120Zm60-500h600v-160H180v160Zm220 220h160v-160H400v160Zm0 220h160v-160H400v160ZM180-400h160v-160H180v160Zm440 0h160v-160H620v160ZM180-180h160v-160H180v160Zm440 0h160v-160H620v160Z\"/>\n",
              "  </svg>\n",
              "    </button>\n",
              "\n",
              "  <style>\n",
              "    .colab-df-container {\n",
              "      display:flex;\n",
              "      gap: 12px;\n",
              "    }\n",
              "\n",
              "    .colab-df-convert {\n",
              "      background-color: #E8F0FE;\n",
              "      border: none;\n",
              "      border-radius: 50%;\n",
              "      cursor: pointer;\n",
              "      display: none;\n",
              "      fill: #1967D2;\n",
              "      height: 32px;\n",
              "      padding: 0 0 0 0;\n",
              "      width: 32px;\n",
              "    }\n",
              "\n",
              "    .colab-df-convert:hover {\n",
              "      background-color: #E2EBFA;\n",
              "      box-shadow: 0px 1px 2px rgba(60, 64, 67, 0.3), 0px 1px 3px 1px rgba(60, 64, 67, 0.15);\n",
              "      fill: #174EA6;\n",
              "    }\n",
              "\n",
              "    .colab-df-buttons div {\n",
              "      margin-bottom: 4px;\n",
              "    }\n",
              "\n",
              "    [theme=dark] .colab-df-convert {\n",
              "      background-color: #3B4455;\n",
              "      fill: #D2E3FC;\n",
              "    }\n",
              "\n",
              "    [theme=dark] .colab-df-convert:hover {\n",
              "      background-color: #434B5C;\n",
              "      box-shadow: 0px 1px 3px 1px rgba(0, 0, 0, 0.15);\n",
              "      filter: drop-shadow(0px 1px 2px rgba(0, 0, 0, 0.3));\n",
              "      fill: #FFFFFF;\n",
              "    }\n",
              "  </style>\n",
              "\n",
              "    <script>\n",
              "      const buttonEl =\n",
              "        document.querySelector('#df-71fc367d-6f40-4811-b0ec-0b374046203a button.colab-df-convert');\n",
              "      buttonEl.style.display =\n",
              "        google.colab.kernel.accessAllowed ? 'block' : 'none';\n",
              "\n",
              "      async function convertToInteractive(key) {\n",
              "        const element = document.querySelector('#df-71fc367d-6f40-4811-b0ec-0b374046203a');\n",
              "        const dataTable =\n",
              "          await google.colab.kernel.invokeFunction('convertToInteractive',\n",
              "                                                    [key], {});\n",
              "        if (!dataTable) return;\n",
              "\n",
              "        const docLinkHtml = 'Like what you see? Visit the ' +\n",
              "          '<a target=\"_blank\" href=https://colab.research.google.com/notebooks/data_table.ipynb>data table notebook</a>'\n",
              "          + ' to learn more about interactive tables.';\n",
              "        element.innerHTML = '';\n",
              "        dataTable['output_type'] = 'display_data';\n",
              "        await google.colab.output.renderOutput(dataTable, element);\n",
              "        const docLink = document.createElement('div');\n",
              "        docLink.innerHTML = docLinkHtml;\n",
              "        element.appendChild(docLink);\n",
              "      }\n",
              "    </script>\n",
              "  </div>\n",
              "\n",
              "\n",
              "<div id=\"df-dcac77e7-f534-429b-b868-e9024c292d69\">\n",
              "  <button class=\"colab-df-quickchart\" onclick=\"quickchart('df-dcac77e7-f534-429b-b868-e9024c292d69')\"\n",
              "            title=\"Suggest charts\"\n",
              "            style=\"display:none;\">\n",
              "\n",
              "<svg xmlns=\"http://www.w3.org/2000/svg\" height=\"24px\"viewBox=\"0 0 24 24\"\n",
              "     width=\"24px\">\n",
              "    <g>\n",
              "        <path d=\"M19 3H5c-1.1 0-2 .9-2 2v14c0 1.1.9 2 2 2h14c1.1 0 2-.9 2-2V5c0-1.1-.9-2-2-2zM9 17H7v-7h2v7zm4 0h-2V7h2v10zm4 0h-2v-4h2v4z\"/>\n",
              "    </g>\n",
              "</svg>\n",
              "  </button>\n",
              "\n",
              "<style>\n",
              "  .colab-df-quickchart {\n",
              "      --bg-color: #E8F0FE;\n",
              "      --fill-color: #1967D2;\n",
              "      --hover-bg-color: #E2EBFA;\n",
              "      --hover-fill-color: #174EA6;\n",
              "      --disabled-fill-color: #AAA;\n",
              "      --disabled-bg-color: #DDD;\n",
              "  }\n",
              "\n",
              "  [theme=dark] .colab-df-quickchart {\n",
              "      --bg-color: #3B4455;\n",
              "      --fill-color: #D2E3FC;\n",
              "      --hover-bg-color: #434B5C;\n",
              "      --hover-fill-color: #FFFFFF;\n",
              "      --disabled-bg-color: #3B4455;\n",
              "      --disabled-fill-color: #666;\n",
              "  }\n",
              "\n",
              "  .colab-df-quickchart {\n",
              "    background-color: var(--bg-color);\n",
              "    border: none;\n",
              "    border-radius: 50%;\n",
              "    cursor: pointer;\n",
              "    display: none;\n",
              "    fill: var(--fill-color);\n",
              "    height: 32px;\n",
              "    padding: 0;\n",
              "    width: 32px;\n",
              "  }\n",
              "\n",
              "  .colab-df-quickchart:hover {\n",
              "    background-color: var(--hover-bg-color);\n",
              "    box-shadow: 0 1px 2px rgba(60, 64, 67, 0.3), 0 1px 3px 1px rgba(60, 64, 67, 0.15);\n",
              "    fill: var(--button-hover-fill-color);\n",
              "  }\n",
              "\n",
              "  .colab-df-quickchart-complete:disabled,\n",
              "  .colab-df-quickchart-complete:disabled:hover {\n",
              "    background-color: var(--disabled-bg-color);\n",
              "    fill: var(--disabled-fill-color);\n",
              "    box-shadow: none;\n",
              "  }\n",
              "\n",
              "  .colab-df-spinner {\n",
              "    border: 2px solid var(--fill-color);\n",
              "    border-color: transparent;\n",
              "    border-bottom-color: var(--fill-color);\n",
              "    animation:\n",
              "      spin 1s steps(1) infinite;\n",
              "  }\n",
              "\n",
              "  @keyframes spin {\n",
              "    0% {\n",
              "      border-color: transparent;\n",
              "      border-bottom-color: var(--fill-color);\n",
              "      border-left-color: var(--fill-color);\n",
              "    }\n",
              "    20% {\n",
              "      border-color: transparent;\n",
              "      border-left-color: var(--fill-color);\n",
              "      border-top-color: var(--fill-color);\n",
              "    }\n",
              "    30% {\n",
              "      border-color: transparent;\n",
              "      border-left-color: var(--fill-color);\n",
              "      border-top-color: var(--fill-color);\n",
              "      border-right-color: var(--fill-color);\n",
              "    }\n",
              "    40% {\n",
              "      border-color: transparent;\n",
              "      border-right-color: var(--fill-color);\n",
              "      border-top-color: var(--fill-color);\n",
              "    }\n",
              "    60% {\n",
              "      border-color: transparent;\n",
              "      border-right-color: var(--fill-color);\n",
              "    }\n",
              "    80% {\n",
              "      border-color: transparent;\n",
              "      border-right-color: var(--fill-color);\n",
              "      border-bottom-color: var(--fill-color);\n",
              "    }\n",
              "    90% {\n",
              "      border-color: transparent;\n",
              "      border-bottom-color: var(--fill-color);\n",
              "    }\n",
              "  }\n",
              "</style>\n",
              "\n",
              "  <script>\n",
              "    async function quickchart(key) {\n",
              "      const quickchartButtonEl =\n",
              "        document.querySelector('#' + key + ' button');\n",
              "      quickchartButtonEl.disabled = true;  // To prevent multiple clicks.\n",
              "      quickchartButtonEl.classList.add('colab-df-spinner');\n",
              "      try {\n",
              "        const charts = await google.colab.kernel.invokeFunction(\n",
              "            'suggestCharts', [key], {});\n",
              "      } catch (error) {\n",
              "        console.error('Error during call to suggestCharts:', error);\n",
              "      }\n",
              "      quickchartButtonEl.classList.remove('colab-df-spinner');\n",
              "      quickchartButtonEl.classList.add('colab-df-quickchart-complete');\n",
              "    }\n",
              "    (() => {\n",
              "      let quickchartButtonEl =\n",
              "        document.querySelector('#df-dcac77e7-f534-429b-b868-e9024c292d69 button');\n",
              "      quickchartButtonEl.style.display =\n",
              "        google.colab.kernel.accessAllowed ? 'block' : 'none';\n",
              "    })();\n",
              "  </script>\n",
              "</div>\n",
              "    </div>\n",
              "  </div>\n"
            ]
          },
          "metadata": {},
          "execution_count": 257
        }
      ]
    },
    {
      "cell_type": "code",
      "source": [
        "data.info()"
      ],
      "metadata": {
        "colab": {
          "base_uri": "https://localhost:8080/"
        },
        "id": "nclsN7b37fJV",
        "outputId": "de64e03f-4b00-4718-f93f-956c11d6036a"
      },
      "execution_count": null,
      "outputs": [
        {
          "output_type": "stream",
          "name": "stdout",
          "text": [
            "<class 'pandas.core.frame.DataFrame'>\n",
            "RangeIndex: 72 entries, 0 to 71\n",
            "Data columns (total 13 columns):\n",
            " #   Column              Non-Null Count  Dtype         \n",
            "---  ------              --------------  -----         \n",
            " 0   (Date, )            72 non-null     datetime64[ns]\n",
            " 1   (Adj Close, COF)    72 non-null     float64       \n",
            " 2   (Adj Close, ^GSPC)  72 non-null     float64       \n",
            " 3   (Close, COF)        72 non-null     float64       \n",
            " 4   (Close, ^GSPC)      72 non-null     float64       \n",
            " 5   (High, COF)         72 non-null     float64       \n",
            " 6   (High, ^GSPC)       72 non-null     float64       \n",
            " 7   (Low, COF)          72 non-null     float64       \n",
            " 8   (Low, ^GSPC)        72 non-null     float64       \n",
            " 9   (Open, COF)         72 non-null     float64       \n",
            " 10  (Open, ^GSPC)       72 non-null     float64       \n",
            " 11  (Volume, COF)       72 non-null     int64         \n",
            " 12  (Volume, ^GSPC)     72 non-null     int64         \n",
            "dtypes: datetime64[ns](1), float64(10), int64(2)\n",
            "memory usage: 7.4 KB\n"
          ]
        }
      ]
    },
    {
      "cell_type": "code",
      "source": [
        "data.describe()"
      ],
      "metadata": {
        "colab": {
          "base_uri": "https://localhost:8080/",
          "height": 332
        },
        "id": "eINvlMsk7hy7",
        "outputId": "7e7d2fd5-aadf-4912-c1b7-279b224df5e6"
      },
      "execution_count": null,
      "outputs": [
        {
          "output_type": "execute_result",
          "data": {
            "text/plain": [
              "        Adj Close                    Close                     High  \\\n",
              "              COF        ^GSPC         COF        ^GSPC         COF   \n",
              "count   72.000000    72.000000   72.000000    72.000000   72.000000   \n",
              "mean    98.918086  3594.693193  104.576250  3594.693193  112.618056   \n",
              "std     26.151497   698.850890   26.446887   698.850890   27.350527   \n",
              "min     47.003143  2506.850098   50.419998  2506.850098   66.410004   \n",
              "25%     81.867592  2923.339966   90.385002  2923.339966   94.642502   \n",
              "50%     93.107952  3667.934937   98.969997  3667.934937  104.965000   \n",
              "75%    113.763641  4184.327393  117.514997  4184.327393  123.754997   \n",
              "max    157.125336  4766.180176  165.970001  4766.180176  177.949997   \n",
              "\n",
              "                           Low                     Open               \\\n",
              "             ^GSPC         COF        ^GSPC         COF        ^GSPC   \n",
              "count    72.000000   72.000000    72.000000   72.000000    72.000000   \n",
              "mean   3708.546658   96.801389  3431.329037  104.451945  3570.664717   \n",
              "std     705.822465   25.805133   679.289186   26.766876   697.468403   \n",
              "min    2708.949951   38.000000  2191.860107   46.430000  2476.959961   \n",
              "25%    2961.827454   84.582502  2788.915039   90.589998  2905.997498   \n",
              "50%    3815.549927   91.965000  3537.854980   99.485001  3627.825073   \n",
              "75%    4312.065063  105.190001  4068.604858  111.754997  4185.267334   \n",
              "max    4818.620117  155.460007  4560.000000  165.960007  4778.140137   \n",
              "\n",
              "             Volume                \n",
              "                COF         ^GSPC  \n",
              "count  7.200000e+01  7.200000e+01  \n",
              "mean   6.042483e+07  8.757628e+10  \n",
              "std    1.880996e+07  1.721338e+10  \n",
              "min    3.571710e+07  5.696825e+10  \n",
              "25%    4.930625e+07  7.727867e+10  \n",
              "50%    5.643885e+07  8.384082e+10  \n",
              "75%    6.517905e+07  9.312289e+10  \n",
              "max    1.337959e+08  1.621854e+11  "
            ],
            "text/html": [
              "\n",
              "  <div id=\"df-c988ebbb-420c-4837-91b4-d49370ee2668\" class=\"colab-df-container\">\n",
              "    <div>\n",
              "<style scoped>\n",
              "    .dataframe tbody tr th:only-of-type {\n",
              "        vertical-align: middle;\n",
              "    }\n",
              "\n",
              "    .dataframe tbody tr th {\n",
              "        vertical-align: top;\n",
              "    }\n",
              "\n",
              "    .dataframe thead tr th {\n",
              "        text-align: left;\n",
              "    }\n",
              "</style>\n",
              "<table border=\"1\" class=\"dataframe\">\n",
              "  <thead>\n",
              "    <tr>\n",
              "      <th></th>\n",
              "      <th colspan=\"2\" halign=\"left\">Adj Close</th>\n",
              "      <th colspan=\"2\" halign=\"left\">Close</th>\n",
              "      <th colspan=\"2\" halign=\"left\">High</th>\n",
              "      <th colspan=\"2\" halign=\"left\">Low</th>\n",
              "      <th colspan=\"2\" halign=\"left\">Open</th>\n",
              "      <th colspan=\"2\" halign=\"left\">Volume</th>\n",
              "    </tr>\n",
              "    <tr>\n",
              "      <th></th>\n",
              "      <th>COF</th>\n",
              "      <th>^GSPC</th>\n",
              "      <th>COF</th>\n",
              "      <th>^GSPC</th>\n",
              "      <th>COF</th>\n",
              "      <th>^GSPC</th>\n",
              "      <th>COF</th>\n",
              "      <th>^GSPC</th>\n",
              "      <th>COF</th>\n",
              "      <th>^GSPC</th>\n",
              "      <th>COF</th>\n",
              "      <th>^GSPC</th>\n",
              "    </tr>\n",
              "  </thead>\n",
              "  <tbody>\n",
              "    <tr>\n",
              "      <th>count</th>\n",
              "      <td>72.000000</td>\n",
              "      <td>72.000000</td>\n",
              "      <td>72.000000</td>\n",
              "      <td>72.000000</td>\n",
              "      <td>72.000000</td>\n",
              "      <td>72.000000</td>\n",
              "      <td>72.000000</td>\n",
              "      <td>72.000000</td>\n",
              "      <td>72.000000</td>\n",
              "      <td>72.000000</td>\n",
              "      <td>7.200000e+01</td>\n",
              "      <td>7.200000e+01</td>\n",
              "    </tr>\n",
              "    <tr>\n",
              "      <th>mean</th>\n",
              "      <td>98.918086</td>\n",
              "      <td>3594.693193</td>\n",
              "      <td>104.576250</td>\n",
              "      <td>3594.693193</td>\n",
              "      <td>112.618056</td>\n",
              "      <td>3708.546658</td>\n",
              "      <td>96.801389</td>\n",
              "      <td>3431.329037</td>\n",
              "      <td>104.451945</td>\n",
              "      <td>3570.664717</td>\n",
              "      <td>6.042483e+07</td>\n",
              "      <td>8.757628e+10</td>\n",
              "    </tr>\n",
              "    <tr>\n",
              "      <th>std</th>\n",
              "      <td>26.151497</td>\n",
              "      <td>698.850890</td>\n",
              "      <td>26.446887</td>\n",
              "      <td>698.850890</td>\n",
              "      <td>27.350527</td>\n",
              "      <td>705.822465</td>\n",
              "      <td>25.805133</td>\n",
              "      <td>679.289186</td>\n",
              "      <td>26.766876</td>\n",
              "      <td>697.468403</td>\n",
              "      <td>1.880996e+07</td>\n",
              "      <td>1.721338e+10</td>\n",
              "    </tr>\n",
              "    <tr>\n",
              "      <th>min</th>\n",
              "      <td>47.003143</td>\n",
              "      <td>2506.850098</td>\n",
              "      <td>50.419998</td>\n",
              "      <td>2506.850098</td>\n",
              "      <td>66.410004</td>\n",
              "      <td>2708.949951</td>\n",
              "      <td>38.000000</td>\n",
              "      <td>2191.860107</td>\n",
              "      <td>46.430000</td>\n",
              "      <td>2476.959961</td>\n",
              "      <td>3.571710e+07</td>\n",
              "      <td>5.696825e+10</td>\n",
              "    </tr>\n",
              "    <tr>\n",
              "      <th>25%</th>\n",
              "      <td>81.867592</td>\n",
              "      <td>2923.339966</td>\n",
              "      <td>90.385002</td>\n",
              "      <td>2923.339966</td>\n",
              "      <td>94.642502</td>\n",
              "      <td>2961.827454</td>\n",
              "      <td>84.582502</td>\n",
              "      <td>2788.915039</td>\n",
              "      <td>90.589998</td>\n",
              "      <td>2905.997498</td>\n",
              "      <td>4.930625e+07</td>\n",
              "      <td>7.727867e+10</td>\n",
              "    </tr>\n",
              "    <tr>\n",
              "      <th>50%</th>\n",
              "      <td>93.107952</td>\n",
              "      <td>3667.934937</td>\n",
              "      <td>98.969997</td>\n",
              "      <td>3667.934937</td>\n",
              "      <td>104.965000</td>\n",
              "      <td>3815.549927</td>\n",
              "      <td>91.965000</td>\n",
              "      <td>3537.854980</td>\n",
              "      <td>99.485001</td>\n",
              "      <td>3627.825073</td>\n",
              "      <td>5.643885e+07</td>\n",
              "      <td>8.384082e+10</td>\n",
              "    </tr>\n",
              "    <tr>\n",
              "      <th>75%</th>\n",
              "      <td>113.763641</td>\n",
              "      <td>4184.327393</td>\n",
              "      <td>117.514997</td>\n",
              "      <td>4184.327393</td>\n",
              "      <td>123.754997</td>\n",
              "      <td>4312.065063</td>\n",
              "      <td>105.190001</td>\n",
              "      <td>4068.604858</td>\n",
              "      <td>111.754997</td>\n",
              "      <td>4185.267334</td>\n",
              "      <td>6.517905e+07</td>\n",
              "      <td>9.312289e+10</td>\n",
              "    </tr>\n",
              "    <tr>\n",
              "      <th>max</th>\n",
              "      <td>157.125336</td>\n",
              "      <td>4766.180176</td>\n",
              "      <td>165.970001</td>\n",
              "      <td>4766.180176</td>\n",
              "      <td>177.949997</td>\n",
              "      <td>4818.620117</td>\n",
              "      <td>155.460007</td>\n",
              "      <td>4560.000000</td>\n",
              "      <td>165.960007</td>\n",
              "      <td>4778.140137</td>\n",
              "      <td>1.337959e+08</td>\n",
              "      <td>1.621854e+11</td>\n",
              "    </tr>\n",
              "  </tbody>\n",
              "</table>\n",
              "</div>\n",
              "    <div class=\"colab-df-buttons\">\n",
              "\n",
              "  <div class=\"colab-df-container\">\n",
              "    <button class=\"colab-df-convert\" onclick=\"convertToInteractive('df-c988ebbb-420c-4837-91b4-d49370ee2668')\"\n",
              "            title=\"Convert this dataframe to an interactive table.\"\n",
              "            style=\"display:none;\">\n",
              "\n",
              "  <svg xmlns=\"http://www.w3.org/2000/svg\" height=\"24px\" viewBox=\"0 -960 960 960\">\n",
              "    <path d=\"M120-120v-720h720v720H120Zm60-500h600v-160H180v160Zm220 220h160v-160H400v160Zm0 220h160v-160H400v160ZM180-400h160v-160H180v160Zm440 0h160v-160H620v160ZM180-180h160v-160H180v160Zm440 0h160v-160H620v160Z\"/>\n",
              "  </svg>\n",
              "    </button>\n",
              "\n",
              "  <style>\n",
              "    .colab-df-container {\n",
              "      display:flex;\n",
              "      gap: 12px;\n",
              "    }\n",
              "\n",
              "    .colab-df-convert {\n",
              "      background-color: #E8F0FE;\n",
              "      border: none;\n",
              "      border-radius: 50%;\n",
              "      cursor: pointer;\n",
              "      display: none;\n",
              "      fill: #1967D2;\n",
              "      height: 32px;\n",
              "      padding: 0 0 0 0;\n",
              "      width: 32px;\n",
              "    }\n",
              "\n",
              "    .colab-df-convert:hover {\n",
              "      background-color: #E2EBFA;\n",
              "      box-shadow: 0px 1px 2px rgba(60, 64, 67, 0.3), 0px 1px 3px 1px rgba(60, 64, 67, 0.15);\n",
              "      fill: #174EA6;\n",
              "    }\n",
              "\n",
              "    .colab-df-buttons div {\n",
              "      margin-bottom: 4px;\n",
              "    }\n",
              "\n",
              "    [theme=dark] .colab-df-convert {\n",
              "      background-color: #3B4455;\n",
              "      fill: #D2E3FC;\n",
              "    }\n",
              "\n",
              "    [theme=dark] .colab-df-convert:hover {\n",
              "      background-color: #434B5C;\n",
              "      box-shadow: 0px 1px 3px 1px rgba(0, 0, 0, 0.15);\n",
              "      filter: drop-shadow(0px 1px 2px rgba(0, 0, 0, 0.3));\n",
              "      fill: #FFFFFF;\n",
              "    }\n",
              "  </style>\n",
              "\n",
              "    <script>\n",
              "      const buttonEl =\n",
              "        document.querySelector('#df-c988ebbb-420c-4837-91b4-d49370ee2668 button.colab-df-convert');\n",
              "      buttonEl.style.display =\n",
              "        google.colab.kernel.accessAllowed ? 'block' : 'none';\n",
              "\n",
              "      async function convertToInteractive(key) {\n",
              "        const element = document.querySelector('#df-c988ebbb-420c-4837-91b4-d49370ee2668');\n",
              "        const dataTable =\n",
              "          await google.colab.kernel.invokeFunction('convertToInteractive',\n",
              "                                                    [key], {});\n",
              "        if (!dataTable) return;\n",
              "\n",
              "        const docLinkHtml = 'Like what you see? Visit the ' +\n",
              "          '<a target=\"_blank\" href=https://colab.research.google.com/notebooks/data_table.ipynb>data table notebook</a>'\n",
              "          + ' to learn more about interactive tables.';\n",
              "        element.innerHTML = '';\n",
              "        dataTable['output_type'] = 'display_data';\n",
              "        await google.colab.output.renderOutput(dataTable, element);\n",
              "        const docLink = document.createElement('div');\n",
              "        docLink.innerHTML = docLinkHtml;\n",
              "        element.appendChild(docLink);\n",
              "      }\n",
              "    </script>\n",
              "  </div>\n",
              "\n",
              "\n",
              "<div id=\"df-ee6634a0-3837-4210-b618-985246b69993\">\n",
              "  <button class=\"colab-df-quickchart\" onclick=\"quickchart('df-ee6634a0-3837-4210-b618-985246b69993')\"\n",
              "            title=\"Suggest charts\"\n",
              "            style=\"display:none;\">\n",
              "\n",
              "<svg xmlns=\"http://www.w3.org/2000/svg\" height=\"24px\"viewBox=\"0 0 24 24\"\n",
              "     width=\"24px\">\n",
              "    <g>\n",
              "        <path d=\"M19 3H5c-1.1 0-2 .9-2 2v14c0 1.1.9 2 2 2h14c1.1 0 2-.9 2-2V5c0-1.1-.9-2-2-2zM9 17H7v-7h2v7zm4 0h-2V7h2v10zm4 0h-2v-4h2v4z\"/>\n",
              "    </g>\n",
              "</svg>\n",
              "  </button>\n",
              "\n",
              "<style>\n",
              "  .colab-df-quickchart {\n",
              "      --bg-color: #E8F0FE;\n",
              "      --fill-color: #1967D2;\n",
              "      --hover-bg-color: #E2EBFA;\n",
              "      --hover-fill-color: #174EA6;\n",
              "      --disabled-fill-color: #AAA;\n",
              "      --disabled-bg-color: #DDD;\n",
              "  }\n",
              "\n",
              "  [theme=dark] .colab-df-quickchart {\n",
              "      --bg-color: #3B4455;\n",
              "      --fill-color: #D2E3FC;\n",
              "      --hover-bg-color: #434B5C;\n",
              "      --hover-fill-color: #FFFFFF;\n",
              "      --disabled-bg-color: #3B4455;\n",
              "      --disabled-fill-color: #666;\n",
              "  }\n",
              "\n",
              "  .colab-df-quickchart {\n",
              "    background-color: var(--bg-color);\n",
              "    border: none;\n",
              "    border-radius: 50%;\n",
              "    cursor: pointer;\n",
              "    display: none;\n",
              "    fill: var(--fill-color);\n",
              "    height: 32px;\n",
              "    padding: 0;\n",
              "    width: 32px;\n",
              "  }\n",
              "\n",
              "  .colab-df-quickchart:hover {\n",
              "    background-color: var(--hover-bg-color);\n",
              "    box-shadow: 0 1px 2px rgba(60, 64, 67, 0.3), 0 1px 3px 1px rgba(60, 64, 67, 0.15);\n",
              "    fill: var(--button-hover-fill-color);\n",
              "  }\n",
              "\n",
              "  .colab-df-quickchart-complete:disabled,\n",
              "  .colab-df-quickchart-complete:disabled:hover {\n",
              "    background-color: var(--disabled-bg-color);\n",
              "    fill: var(--disabled-fill-color);\n",
              "    box-shadow: none;\n",
              "  }\n",
              "\n",
              "  .colab-df-spinner {\n",
              "    border: 2px solid var(--fill-color);\n",
              "    border-color: transparent;\n",
              "    border-bottom-color: var(--fill-color);\n",
              "    animation:\n",
              "      spin 1s steps(1) infinite;\n",
              "  }\n",
              "\n",
              "  @keyframes spin {\n",
              "    0% {\n",
              "      border-color: transparent;\n",
              "      border-bottom-color: var(--fill-color);\n",
              "      border-left-color: var(--fill-color);\n",
              "    }\n",
              "    20% {\n",
              "      border-color: transparent;\n",
              "      border-left-color: var(--fill-color);\n",
              "      border-top-color: var(--fill-color);\n",
              "    }\n",
              "    30% {\n",
              "      border-color: transparent;\n",
              "      border-left-color: var(--fill-color);\n",
              "      border-top-color: var(--fill-color);\n",
              "      border-right-color: var(--fill-color);\n",
              "    }\n",
              "    40% {\n",
              "      border-color: transparent;\n",
              "      border-right-color: var(--fill-color);\n",
              "      border-top-color: var(--fill-color);\n",
              "    }\n",
              "    60% {\n",
              "      border-color: transparent;\n",
              "      border-right-color: var(--fill-color);\n",
              "    }\n",
              "    80% {\n",
              "      border-color: transparent;\n",
              "      border-right-color: var(--fill-color);\n",
              "      border-bottom-color: var(--fill-color);\n",
              "    }\n",
              "    90% {\n",
              "      border-color: transparent;\n",
              "      border-bottom-color: var(--fill-color);\n",
              "    }\n",
              "  }\n",
              "</style>\n",
              "\n",
              "  <script>\n",
              "    async function quickchart(key) {\n",
              "      const quickchartButtonEl =\n",
              "        document.querySelector('#' + key + ' button');\n",
              "      quickchartButtonEl.disabled = true;  // To prevent multiple clicks.\n",
              "      quickchartButtonEl.classList.add('colab-df-spinner');\n",
              "      try {\n",
              "        const charts = await google.colab.kernel.invokeFunction(\n",
              "            'suggestCharts', [key], {});\n",
              "      } catch (error) {\n",
              "        console.error('Error during call to suggestCharts:', error);\n",
              "      }\n",
              "      quickchartButtonEl.classList.remove('colab-df-spinner');\n",
              "      quickchartButtonEl.classList.add('colab-df-quickchart-complete');\n",
              "    }\n",
              "    (() => {\n",
              "      let quickchartButtonEl =\n",
              "        document.querySelector('#df-ee6634a0-3837-4210-b618-985246b69993 button');\n",
              "      quickchartButtonEl.style.display =\n",
              "        google.colab.kernel.accessAllowed ? 'block' : 'none';\n",
              "    })();\n",
              "  </script>\n",
              "</div>\n",
              "    </div>\n",
              "  </div>\n"
            ]
          },
          "metadata": {},
          "execution_count": 259
        }
      ]
    },
    {
      "cell_type": "markdown",
      "source": [
        "\n",
        "\n",
        "---\n",
        "\n"
      ],
      "metadata": {
        "id": "OxnAuDXDv23g"
      }
    },
    {
      "cell_type": "markdown",
      "source": [
        "# 4. Model Creations"
      ],
      "metadata": {
        "id": "IKHt29y0rDQU"
      }
    },
    {
      "cell_type": "markdown",
      "source": [
        "### Calculating the Beta of the Market"
      ],
      "metadata": {
        "id": "omelRDOfrGFH"
      }
    },
    {
      "cell_type": "code",
      "source": [
        "# Obtaining the log returns of the adjusted close\n",
        "log_returns_adj_close = np.log(data['Adj Close']/data['Adj Close'].shift())\n",
        "print(log_returns_adj_close)"
      ],
      "metadata": {
        "colab": {
          "base_uri": "https://localhost:8080/"
        },
        "id": "5EYSt5vv7jnp",
        "outputId": "cd1fe818-ed62-4771-9a66-83a7b775693b"
      },
      "execution_count": null,
      "outputs": [
        {
          "output_type": "stream",
          "name": "stdout",
          "text": [
            "         COF     ^GSPC\n",
            "0        NaN       NaN\n",
            "1  -0.059753 -0.039726\n",
            "2  -0.017415 -0.027252\n",
            "3  -0.055796  0.002715\n",
            "4   0.036620  0.021378\n",
            "..       ...       ...\n",
            "67 -0.133556 -0.017875\n",
            "68 -0.048235 -0.049946\n",
            "69  0.042761 -0.022225\n",
            "70  0.097471  0.085424\n",
            "71  0.155370  0.032606\n",
            "\n",
            "[72 rows x 2 columns]\n"
          ]
        }
      ]
    },
    {
      "cell_type": "code",
      "source": [
        "# Calculating coveriance\n",
        "cov = log_returns_adj_close.cov()"
      ],
      "metadata": {
        "id": "EZRW3jgP8bKn"
      },
      "execution_count": null,
      "outputs": []
    },
    {
      "cell_type": "code",
      "source": [
        "# Variance of the SPY\n",
        "var = log_returns_adj_close['^GSPC'].var()\n",
        "print('The variance calculated for the S&P is:', round(var, 3))"
      ],
      "metadata": {
        "colab": {
          "base_uri": "https://localhost:8080/"
        },
        "id": "yA07EVar8sNU",
        "outputId": "4a0caaff-2140-4258-9bba-d07b3c128146"
      },
      "execution_count": null,
      "outputs": [
        {
          "output_type": "stream",
          "name": "stdout",
          "text": [
            "The variance calculated for the S&P is: 0.003\n"
          ]
        }
      ]
    },
    {
      "cell_type": "code",
      "source": [
        "# Calculating Beta\n",
        "Beta = cov.loc['COF','^GSPC']/var\n",
        "print(\"The Beta calculated for the COF Stock:\", round(Beta, 2))"
      ],
      "metadata": {
        "colab": {
          "base_uri": "https://localhost:8080/"
        },
        "id": "2zozfYhT9Tm5",
        "outputId": "8a630048-646f-4f48-8ca0-8d95e81c1883"
      },
      "execution_count": null,
      "outputs": [
        {
          "output_type": "stream",
          "name": "stdout",
          "text": [
            "The Beta calculated for the COF Stock: 1.52\n"
          ]
        }
      ]
    },
    {
      "cell_type": "code",
      "source": [
        "# Verifying accurate Beta\n",
        "cov.loc['^GSPC']/var"
      ],
      "metadata": {
        "colab": {
          "base_uri": "https://localhost:8080/"
        },
        "id": "6Hb6TB4lFsH5",
        "outputId": "5a050323-54d1-48b6-e784-e4495339dc46"
      },
      "execution_count": null,
      "outputs": [
        {
          "output_type": "execute_result",
          "data": {
            "text/plain": [
              "COF      1.518363\n",
              "^GSPC    1.000000\n",
              "Name: ^GSPC, dtype: float64"
            ]
          },
          "metadata": {},
          "execution_count": 264
        }
      ]
    },
    {
      "cell_type": "markdown",
      "source": [
        "### Spliting the Data to implement a Linear Regression Model"
      ],
      "metadata": {
        "id": "j8PPhtdcrLJN"
      }
    },
    {
      "cell_type": "code",
      "source": [
        "from sklearn.impute import SimpleImputer"
      ],
      "metadata": {
        "id": "F4BgUspPc5E8"
      },
      "execution_count": null,
      "outputs": []
    },
    {
      "cell_type": "code",
      "source": [
        "X = log_returns_adj_close[['^GSPC']].values\n",
        "y = log_returns_adj_close['COF'].values\n",
        "\n",
        "# Splitting data\n",
        "X_train, X_test, y_train, y_test = train_test_split(X, y, test_size=0.3, random_state=17)\n",
        "\n",
        "# Imputing zero for missing values\n",
        "imputer = SimpleImputer(strategy='constant', fill_value = 0)\n",
        "X_train_imputed = imputer.fit_transform(X_train)\n",
        "\n",
        "lr = LinearRegression()\n",
        "lr.fit(X_train_imputed, y_train)\n",
        "y_prediction = lr.predict(X_train)"
      ],
      "metadata": {
        "id": "olrDUq3AcxN6"
      },
      "execution_count": null,
      "outputs": []
    },
    {
      "cell_type": "code",
      "source": [
        "from sklearn.metrics import mean_squared_error\n",
        "lin_rmse = mean_squared_error(y_train, y_prediction, squared=False)\n",
        "print(f\"The training data RMSE is {lin_rmse:.3f}\")"
      ],
      "metadata": {
        "colab": {
          "base_uri": "https://localhost:8080/"
        },
        "id": "Um7rAwN_iTue",
        "outputId": "a7512288-ef29-43b1-9a2e-da65436a4428"
      },
      "execution_count": null,
      "outputs": [
        {
          "output_type": "stream",
          "name": "stdout",
          "text": [
            "The training data RMSE is 0.087\n"
          ]
        }
      ]
    },
    {
      "cell_type": "code",
      "source": [
        "## Utilizing Cross Validation to futher inspect the performance of the LR Model\n",
        "from sklearn.model_selection import cross_val_score\n",
        "cv_rmse = cross_val_score(lr, X_train_imputed, y_train, scoring='neg_root_mean_squared_error', cv=5)\n",
        "-cv_rmse"
      ],
      "metadata": {
        "colab": {
          "base_uri": "https://localhost:8080/"
        },
        "id": "5doGo7fnZwj4",
        "outputId": "1274e669-0fb7-4177-e339-ca90fa9bb122"
      },
      "execution_count": null,
      "outputs": [
        {
          "output_type": "execute_result",
          "data": {
            "text/plain": [
              "array([0.06448359, 0.15593451, 0.08321404, 0.03577472, 0.07798441])"
            ]
          },
          "metadata": {},
          "execution_count": 268
        }
      ]
    },
    {
      "cell_type": "code",
      "source": [
        "## Removing the null values from the y_test\n",
        "null = np.isnan(y_test)\n",
        "X_test_cleaned = X_test[~null]\n",
        "y_test_cleaned = y_test[~null]\n",
        "\n",
        "# Imputing zero for missing values\n",
        "X_test_cleaned_imputed = imputer.transform(X_test_cleaned)\n",
        "\n",
        "y_test_prediction = lr.predict(X_test_cleaned_imputed)\n",
        "lin_rmse_test = mean_squared_error(y_test_cleaned, y_test_prediction, squared=False)\n",
        "print(f\"The cleaned test data RMSE is {lin_rmse_test:.3f}\")"
      ],
      "metadata": {
        "colab": {
          "base_uri": "https://localhost:8080/"
        },
        "id": "5vZgw5ENaR4_",
        "outputId": "70f5a876-e25c-42a5-f55d-362cc6b24c59"
      },
      "execution_count": null,
      "outputs": [
        {
          "output_type": "stream",
          "name": "stdout",
          "text": [
            "The cleaned test data RMSE is 0.057\n"
          ]
        }
      ]
    },
    {
      "cell_type": "markdown",
      "source": [
        "### Calculating the Capital Asset Pricing Model"
      ],
      "metadata": {
        "id": "xe1qIe7srREc"
      }
    },
    {
      "cell_type": "code",
      "source": [
        "## Calculating the Risk Free Rate\n",
        "risk_free_rate = yf.Ticker('^TNX').get_info()['previousClose']*0.01\n",
        "risk_free_rate"
      ],
      "metadata": {
        "colab": {
          "base_uri": "https://localhost:8080/"
        },
        "id": "fuVKdG1LLZh7",
        "outputId": "40d207ae-a65e-4aad-c728-cb95cd226053"
      },
      "execution_count": null,
      "outputs": [
        {
          "output_type": "execute_result",
          "data": {
            "text/plain": [
              "0.0393"
            ]
          },
          "metadata": {},
          "execution_count": 270
        }
      ]
    },
    {
      "cell_type": "code",
      "source": [
        "## Measuring expected Return utilizing Capital Asset Pricing Model\n",
        "market_return = .10     # Market Return is about 10% per year as by S&P500\n",
        "expected_return = risk_free_rate + Beta*(market_return - risk_free_rate)\n",
        "print(f\"The Capital Asset Pricing Return is {expected_return:.3f}\")"
      ],
      "metadata": {
        "colab": {
          "base_uri": "https://localhost:8080/"
        },
        "id": "5wbxYac-N5r5",
        "outputId": "d36f381b-c60f-4ac6-8668-9b28eddfbdef"
      },
      "execution_count": null,
      "outputs": [
        {
          "output_type": "stream",
          "name": "stdout",
          "text": [
            "The Capital Asset Pricing Return is 0.131\n"
          ]
        }
      ]
    },
    {
      "cell_type": "markdown",
      "source": [
        "### Calculating the Gordon Growth Model"
      ],
      "metadata": {
        "id": "blU2qUy1ubGl"
      }
    },
    {
      "cell_type": "code",
      "source": [
        "ticker = yf.Ticker('COF')\n",
        "COF = ticker.actions\n",
        "COF"
      ],
      "metadata": {
        "id": "xAc0zJaVukMo",
        "colab": {
          "base_uri": "https://localhost:8080/",
          "height": 454
        },
        "outputId": "33f631bb-95b9-4fda-80b1-e66e62d9bbb3"
      },
      "execution_count": null,
      "outputs": [
        {
          "output_type": "execute_result",
          "data": {
            "text/plain": [
              "                           Dividends  Stock Splits\n",
              "Date                                              \n",
              "1995-05-04 00:00:00-04:00   0.026667           0.0\n",
              "1995-08-04 00:00:00-04:00   0.026667           0.0\n",
              "1995-11-03 00:00:00-05:00   0.026667           0.0\n",
              "1996-02-02 00:00:00-05:00   0.026667           0.0\n",
              "1996-04-26 00:00:00-04:00   0.026667           0.0\n",
              "...                              ...           ...\n",
              "2022-11-10 00:00:00-05:00   0.600000           0.0\n",
              "2023-02-03 00:00:00-05:00   0.600000           0.0\n",
              "2023-05-12 00:00:00-04:00   0.600000           0.0\n",
              "2023-08-04 00:00:00-04:00   0.600000           0.0\n",
              "2023-11-10 00:00:00-05:00   0.600000           0.0\n",
              "\n",
              "[116 rows x 2 columns]"
            ],
            "text/html": [
              "\n",
              "  <div id=\"df-39b3f339-147d-4ae5-a443-e740b8bb7517\" class=\"colab-df-container\">\n",
              "    <div>\n",
              "<style scoped>\n",
              "    .dataframe tbody tr th:only-of-type {\n",
              "        vertical-align: middle;\n",
              "    }\n",
              "\n",
              "    .dataframe tbody tr th {\n",
              "        vertical-align: top;\n",
              "    }\n",
              "\n",
              "    .dataframe thead th {\n",
              "        text-align: right;\n",
              "    }\n",
              "</style>\n",
              "<table border=\"1\" class=\"dataframe\">\n",
              "  <thead>\n",
              "    <tr style=\"text-align: right;\">\n",
              "      <th></th>\n",
              "      <th>Dividends</th>\n",
              "      <th>Stock Splits</th>\n",
              "    </tr>\n",
              "    <tr>\n",
              "      <th>Date</th>\n",
              "      <th></th>\n",
              "      <th></th>\n",
              "    </tr>\n",
              "  </thead>\n",
              "  <tbody>\n",
              "    <tr>\n",
              "      <th>1995-05-04 00:00:00-04:00</th>\n",
              "      <td>0.026667</td>\n",
              "      <td>0.0</td>\n",
              "    </tr>\n",
              "    <tr>\n",
              "      <th>1995-08-04 00:00:00-04:00</th>\n",
              "      <td>0.026667</td>\n",
              "      <td>0.0</td>\n",
              "    </tr>\n",
              "    <tr>\n",
              "      <th>1995-11-03 00:00:00-05:00</th>\n",
              "      <td>0.026667</td>\n",
              "      <td>0.0</td>\n",
              "    </tr>\n",
              "    <tr>\n",
              "      <th>1996-02-02 00:00:00-05:00</th>\n",
              "      <td>0.026667</td>\n",
              "      <td>0.0</td>\n",
              "    </tr>\n",
              "    <tr>\n",
              "      <th>1996-04-26 00:00:00-04:00</th>\n",
              "      <td>0.026667</td>\n",
              "      <td>0.0</td>\n",
              "    </tr>\n",
              "    <tr>\n",
              "      <th>...</th>\n",
              "      <td>...</td>\n",
              "      <td>...</td>\n",
              "    </tr>\n",
              "    <tr>\n",
              "      <th>2022-11-10 00:00:00-05:00</th>\n",
              "      <td>0.600000</td>\n",
              "      <td>0.0</td>\n",
              "    </tr>\n",
              "    <tr>\n",
              "      <th>2023-02-03 00:00:00-05:00</th>\n",
              "      <td>0.600000</td>\n",
              "      <td>0.0</td>\n",
              "    </tr>\n",
              "    <tr>\n",
              "      <th>2023-05-12 00:00:00-04:00</th>\n",
              "      <td>0.600000</td>\n",
              "      <td>0.0</td>\n",
              "    </tr>\n",
              "    <tr>\n",
              "      <th>2023-08-04 00:00:00-04:00</th>\n",
              "      <td>0.600000</td>\n",
              "      <td>0.0</td>\n",
              "    </tr>\n",
              "    <tr>\n",
              "      <th>2023-11-10 00:00:00-05:00</th>\n",
              "      <td>0.600000</td>\n",
              "      <td>0.0</td>\n",
              "    </tr>\n",
              "  </tbody>\n",
              "</table>\n",
              "<p>116 rows × 2 columns</p>\n",
              "</div>\n",
              "    <div class=\"colab-df-buttons\">\n",
              "\n",
              "  <div class=\"colab-df-container\">\n",
              "    <button class=\"colab-df-convert\" onclick=\"convertToInteractive('df-39b3f339-147d-4ae5-a443-e740b8bb7517')\"\n",
              "            title=\"Convert this dataframe to an interactive table.\"\n",
              "            style=\"display:none;\">\n",
              "\n",
              "  <svg xmlns=\"http://www.w3.org/2000/svg\" height=\"24px\" viewBox=\"0 -960 960 960\">\n",
              "    <path d=\"M120-120v-720h720v720H120Zm60-500h600v-160H180v160Zm220 220h160v-160H400v160Zm0 220h160v-160H400v160ZM180-400h160v-160H180v160Zm440 0h160v-160H620v160ZM180-180h160v-160H180v160Zm440 0h160v-160H620v160Z\"/>\n",
              "  </svg>\n",
              "    </button>\n",
              "\n",
              "  <style>\n",
              "    .colab-df-container {\n",
              "      display:flex;\n",
              "      gap: 12px;\n",
              "    }\n",
              "\n",
              "    .colab-df-convert {\n",
              "      background-color: #E8F0FE;\n",
              "      border: none;\n",
              "      border-radius: 50%;\n",
              "      cursor: pointer;\n",
              "      display: none;\n",
              "      fill: #1967D2;\n",
              "      height: 32px;\n",
              "      padding: 0 0 0 0;\n",
              "      width: 32px;\n",
              "    }\n",
              "\n",
              "    .colab-df-convert:hover {\n",
              "      background-color: #E2EBFA;\n",
              "      box-shadow: 0px 1px 2px rgba(60, 64, 67, 0.3), 0px 1px 3px 1px rgba(60, 64, 67, 0.15);\n",
              "      fill: #174EA6;\n",
              "    }\n",
              "\n",
              "    .colab-df-buttons div {\n",
              "      margin-bottom: 4px;\n",
              "    }\n",
              "\n",
              "    [theme=dark] .colab-df-convert {\n",
              "      background-color: #3B4455;\n",
              "      fill: #D2E3FC;\n",
              "    }\n",
              "\n",
              "    [theme=dark] .colab-df-convert:hover {\n",
              "      background-color: #434B5C;\n",
              "      box-shadow: 0px 1px 3px 1px rgba(0, 0, 0, 0.15);\n",
              "      filter: drop-shadow(0px 1px 2px rgba(0, 0, 0, 0.3));\n",
              "      fill: #FFFFFF;\n",
              "    }\n",
              "  </style>\n",
              "\n",
              "    <script>\n",
              "      const buttonEl =\n",
              "        document.querySelector('#df-39b3f339-147d-4ae5-a443-e740b8bb7517 button.colab-df-convert');\n",
              "      buttonEl.style.display =\n",
              "        google.colab.kernel.accessAllowed ? 'block' : 'none';\n",
              "\n",
              "      async function convertToInteractive(key) {\n",
              "        const element = document.querySelector('#df-39b3f339-147d-4ae5-a443-e740b8bb7517');\n",
              "        const dataTable =\n",
              "          await google.colab.kernel.invokeFunction('convertToInteractive',\n",
              "                                                    [key], {});\n",
              "        if (!dataTable) return;\n",
              "\n",
              "        const docLinkHtml = 'Like what you see? Visit the ' +\n",
              "          '<a target=\"_blank\" href=https://colab.research.google.com/notebooks/data_table.ipynb>data table notebook</a>'\n",
              "          + ' to learn more about interactive tables.';\n",
              "        element.innerHTML = '';\n",
              "        dataTable['output_type'] = 'display_data';\n",
              "        await google.colab.output.renderOutput(dataTable, element);\n",
              "        const docLink = document.createElement('div');\n",
              "        docLink.innerHTML = docLinkHtml;\n",
              "        element.appendChild(docLink);\n",
              "      }\n",
              "    </script>\n",
              "  </div>\n",
              "\n",
              "\n",
              "<div id=\"df-6b172b1d-afd5-4af6-9cc4-450a5d9ec2b1\">\n",
              "  <button class=\"colab-df-quickchart\" onclick=\"quickchart('df-6b172b1d-afd5-4af6-9cc4-450a5d9ec2b1')\"\n",
              "            title=\"Suggest charts\"\n",
              "            style=\"display:none;\">\n",
              "\n",
              "<svg xmlns=\"http://www.w3.org/2000/svg\" height=\"24px\"viewBox=\"0 0 24 24\"\n",
              "     width=\"24px\">\n",
              "    <g>\n",
              "        <path d=\"M19 3H5c-1.1 0-2 .9-2 2v14c0 1.1.9 2 2 2h14c1.1 0 2-.9 2-2V5c0-1.1-.9-2-2-2zM9 17H7v-7h2v7zm4 0h-2V7h2v10zm4 0h-2v-4h2v4z\"/>\n",
              "    </g>\n",
              "</svg>\n",
              "  </button>\n",
              "\n",
              "<style>\n",
              "  .colab-df-quickchart {\n",
              "      --bg-color: #E8F0FE;\n",
              "      --fill-color: #1967D2;\n",
              "      --hover-bg-color: #E2EBFA;\n",
              "      --hover-fill-color: #174EA6;\n",
              "      --disabled-fill-color: #AAA;\n",
              "      --disabled-bg-color: #DDD;\n",
              "  }\n",
              "\n",
              "  [theme=dark] .colab-df-quickchart {\n",
              "      --bg-color: #3B4455;\n",
              "      --fill-color: #D2E3FC;\n",
              "      --hover-bg-color: #434B5C;\n",
              "      --hover-fill-color: #FFFFFF;\n",
              "      --disabled-bg-color: #3B4455;\n",
              "      --disabled-fill-color: #666;\n",
              "  }\n",
              "\n",
              "  .colab-df-quickchart {\n",
              "    background-color: var(--bg-color);\n",
              "    border: none;\n",
              "    border-radius: 50%;\n",
              "    cursor: pointer;\n",
              "    display: none;\n",
              "    fill: var(--fill-color);\n",
              "    height: 32px;\n",
              "    padding: 0;\n",
              "    width: 32px;\n",
              "  }\n",
              "\n",
              "  .colab-df-quickchart:hover {\n",
              "    background-color: var(--hover-bg-color);\n",
              "    box-shadow: 0 1px 2px rgba(60, 64, 67, 0.3), 0 1px 3px 1px rgba(60, 64, 67, 0.15);\n",
              "    fill: var(--button-hover-fill-color);\n",
              "  }\n",
              "\n",
              "  .colab-df-quickchart-complete:disabled,\n",
              "  .colab-df-quickchart-complete:disabled:hover {\n",
              "    background-color: var(--disabled-bg-color);\n",
              "    fill: var(--disabled-fill-color);\n",
              "    box-shadow: none;\n",
              "  }\n",
              "\n",
              "  .colab-df-spinner {\n",
              "    border: 2px solid var(--fill-color);\n",
              "    border-color: transparent;\n",
              "    border-bottom-color: var(--fill-color);\n",
              "    animation:\n",
              "      spin 1s steps(1) infinite;\n",
              "  }\n",
              "\n",
              "  @keyframes spin {\n",
              "    0% {\n",
              "      border-color: transparent;\n",
              "      border-bottom-color: var(--fill-color);\n",
              "      border-left-color: var(--fill-color);\n",
              "    }\n",
              "    20% {\n",
              "      border-color: transparent;\n",
              "      border-left-color: var(--fill-color);\n",
              "      border-top-color: var(--fill-color);\n",
              "    }\n",
              "    30% {\n",
              "      border-color: transparent;\n",
              "      border-left-color: var(--fill-color);\n",
              "      border-top-color: var(--fill-color);\n",
              "      border-right-color: var(--fill-color);\n",
              "    }\n",
              "    40% {\n",
              "      border-color: transparent;\n",
              "      border-right-color: var(--fill-color);\n",
              "      border-top-color: var(--fill-color);\n",
              "    }\n",
              "    60% {\n",
              "      border-color: transparent;\n",
              "      border-right-color: var(--fill-color);\n",
              "    }\n",
              "    80% {\n",
              "      border-color: transparent;\n",
              "      border-right-color: var(--fill-color);\n",
              "      border-bottom-color: var(--fill-color);\n",
              "    }\n",
              "    90% {\n",
              "      border-color: transparent;\n",
              "      border-bottom-color: var(--fill-color);\n",
              "    }\n",
              "  }\n",
              "</style>\n",
              "\n",
              "  <script>\n",
              "    async function quickchart(key) {\n",
              "      const quickchartButtonEl =\n",
              "        document.querySelector('#' + key + ' button');\n",
              "      quickchartButtonEl.disabled = true;  // To prevent multiple clicks.\n",
              "      quickchartButtonEl.classList.add('colab-df-spinner');\n",
              "      try {\n",
              "        const charts = await google.colab.kernel.invokeFunction(\n",
              "            'suggestCharts', [key], {});\n",
              "      } catch (error) {\n",
              "        console.error('Error during call to suggestCharts:', error);\n",
              "      }\n",
              "      quickchartButtonEl.classList.remove('colab-df-spinner');\n",
              "      quickchartButtonEl.classList.add('colab-df-quickchart-complete');\n",
              "    }\n",
              "    (() => {\n",
              "      let quickchartButtonEl =\n",
              "        document.querySelector('#df-6b172b1d-afd5-4af6-9cc4-450a5d9ec2b1 button');\n",
              "      quickchartButtonEl.style.display =\n",
              "        google.colab.kernel.accessAllowed ? 'block' : 'none';\n",
              "    })();\n",
              "  </script>\n",
              "</div>\n",
              "    </div>\n",
              "  </div>\n"
            ]
          },
          "metadata": {},
          "execution_count": 272
        }
      ]
    },
    {
      "cell_type": "code",
      "source": [
        "COF_stock_split = COF['Stock Splits'].to_numpy()\n",
        "COF_stock_split"
      ],
      "metadata": {
        "colab": {
          "base_uri": "https://localhost:8080/"
        },
        "id": "WxNI8AM0qHyE",
        "outputId": "2ce7614a-6cff-4b3d-9ef4-5b68ed936afb"
      },
      "execution_count": null,
      "outputs": [
        {
          "output_type": "execute_result",
          "data": {
            "text/plain": [
              "array([0., 0., 0., 0., 0., 0., 0., 0., 0., 0., 0., 0., 0., 0., 0., 0., 0.,\n",
              "       3., 0., 0., 0., 0., 0., 0., 0., 0., 0., 0., 0., 0., 0., 0., 0., 0.,\n",
              "       0., 0., 0., 0., 0., 0., 0., 0., 0., 0., 0., 0., 0., 0., 0., 0., 0.,\n",
              "       0., 0., 0., 0., 0., 0., 0., 0., 0., 0., 0., 0., 0., 0., 0., 0., 0.,\n",
              "       0., 0., 0., 0., 0., 0., 0., 0., 0., 0., 0., 0., 0., 0., 0., 0., 0.,\n",
              "       0., 0., 0., 0., 0., 0., 0., 0., 0., 0., 0., 0., 0., 0., 0., 0., 0.,\n",
              "       0., 0., 0., 0., 0., 0., 0., 0., 0., 0., 0., 0., 0., 0.])"
            ]
          },
          "metadata": {},
          "execution_count": 273
        }
      ]
    },
    {
      "cell_type": "code",
      "source": [
        "## Replacing zeros with one in the stock splits historical data\n",
        "COF_stock_split = np.where(COF_stock_split == 0, 1, COF_stock_split)\n",
        "COF_stock_split"
      ],
      "metadata": {
        "colab": {
          "base_uri": "https://localhost:8080/"
        },
        "id": "6z5XlVMstdt4",
        "outputId": "5187ba25-3a3c-4023-fb3d-ec0d3894bebf"
      },
      "execution_count": null,
      "outputs": [
        {
          "output_type": "execute_result",
          "data": {
            "text/plain": [
              "array([1., 1., 1., 1., 1., 1., 1., 1., 1., 1., 1., 1., 1., 1., 1., 1., 1.,\n",
              "       3., 1., 1., 1., 1., 1., 1., 1., 1., 1., 1., 1., 1., 1., 1., 1., 1.,\n",
              "       1., 1., 1., 1., 1., 1., 1., 1., 1., 1., 1., 1., 1., 1., 1., 1., 1.,\n",
              "       1., 1., 1., 1., 1., 1., 1., 1., 1., 1., 1., 1., 1., 1., 1., 1., 1.,\n",
              "       1., 1., 1., 1., 1., 1., 1., 1., 1., 1., 1., 1., 1., 1., 1., 1., 1.,\n",
              "       1., 1., 1., 1., 1., 1., 1., 1., 1., 1., 1., 1., 1., 1., 1., 1., 1.,\n",
              "       1., 1., 1., 1., 1., 1., 1., 1., 1., 1., 1., 1., 1., 1.])"
            ]
          },
          "metadata": {},
          "execution_count": 274
        }
      ]
    },
    {
      "cell_type": "code",
      "source": [
        "## Adding the adjusted stock split into the DataFrame\n",
        "COF['adjusted_stocksplit'] = COF_stock_split.tolist()"
      ],
      "metadata": {
        "id": "Zg4q7bf3tqT3"
      },
      "execution_count": null,
      "outputs": []
    },
    {
      "cell_type": "code",
      "source": [
        "## Calculating adjusted dividends\n",
        "COF['adjusted_dividends'] = COF['Dividends'] * COF['adjusted_stocksplit']"
      ],
      "metadata": {
        "id": "775zcWiltxTe"
      },
      "execution_count": null,
      "outputs": []
    },
    {
      "cell_type": "code",
      "source": [
        "COF['year'] = COF.index.year"
      ],
      "metadata": {
        "id": "3O_Ce2X9t-Rh"
      },
      "execution_count": null,
      "outputs": []
    },
    {
      "cell_type": "code",
      "source": [
        "COF = COF.groupby(by=[\"year\"]).sum()"
      ],
      "metadata": {
        "id": "x0Wt9iIQuQ67"
      },
      "execution_count": null,
      "outputs": []
    },
    {
      "cell_type": "code",
      "source": [
        "## Calculating the dividend change\n",
        "COF['div_PCT_Change'] = COF['adjusted_dividends'].pct_change(fill_method = 'ffill')\n",
        "COF"
      ],
      "metadata": {
        "colab": {
          "base_uri": "https://localhost:8080/",
          "height": 989
        },
        "id": "x7aO3lPX8B0V",
        "outputId": "2e765474-9639-4442-dde9-0373e8d3c22b"
      },
      "execution_count": null,
      "outputs": [
        {
          "output_type": "execute_result",
          "data": {
            "text/plain": [
              "      Dividends  Stock Splits  adjusted_stocksplit  adjusted_dividends  \\\n",
              "year                                                                     \n",
              "1995   0.080001           0.0                  3.0            0.080001   \n",
              "1996   0.106668           0.0                  4.0            0.106668   \n",
              "1997   0.106668           0.0                  4.0            0.106668   \n",
              "1998   0.106668           0.0                  4.0            0.106668   \n",
              "1999   0.108334           3.0                  7.0            0.108334   \n",
              "2000   0.108000           0.0                  4.0            0.108000   \n",
              "2001   0.108000           0.0                  4.0            0.108000   \n",
              "2002   0.109000           0.0                  4.0            0.109000   \n",
              "2003   0.109000           0.0                  4.0            0.109000   \n",
              "2004   0.112000           0.0                  4.0            0.112000   \n",
              "2005   0.108000           0.0                  4.0            0.108000   \n",
              "2006   0.108000           0.0                  4.0            0.108000   \n",
              "2007   0.108000           0.0                  4.0            0.108000   \n",
              "2008   1.500000           0.0                  4.0            1.500000   \n",
              "2009   0.525000           0.0                  4.0            0.525000   \n",
              "2010   0.200000           0.0                  4.0            0.200000   \n",
              "2011   0.200000           0.0                  4.0            0.200000   \n",
              "2012   0.200000           0.0                  4.0            0.200000   \n",
              "2013   0.950000           0.0                  4.0            0.950000   \n",
              "2014   1.200000           0.0                  4.0            1.200000   \n",
              "2015   1.500000           0.0                  4.0            1.500000   \n",
              "2016   1.600000           0.0                  4.0            1.600000   \n",
              "2017   1.600000           0.0                  4.0            1.600000   \n",
              "2018   1.600000           0.0                  4.0            1.600000   \n",
              "2019   1.600000           0.0                  4.0            1.600000   \n",
              "2020   1.000000           0.0                  4.0            1.000000   \n",
              "2021   2.600000           0.0                  4.0            2.600000   \n",
              "2022   2.400000           0.0                  4.0            2.400000   \n",
              "2023   2.400000           0.0                  4.0            2.400000   \n",
              "\n",
              "      div_PCT_Change  \n",
              "year                  \n",
              "1995             NaN  \n",
              "1996        0.333333  \n",
              "1997        0.000000  \n",
              "1998        0.000000  \n",
              "1999        0.015619  \n",
              "2000       -0.003083  \n",
              "2001        0.000000  \n",
              "2002        0.009259  \n",
              "2003        0.000000  \n",
              "2004        0.027523  \n",
              "2005       -0.035714  \n",
              "2006        0.000000  \n",
              "2007        0.000000  \n",
              "2008       12.888889  \n",
              "2009       -0.650000  \n",
              "2010       -0.619048  \n",
              "2011        0.000000  \n",
              "2012        0.000000  \n",
              "2013        3.750000  \n",
              "2014        0.263158  \n",
              "2015        0.250000  \n",
              "2016        0.066667  \n",
              "2017        0.000000  \n",
              "2018        0.000000  \n",
              "2019        0.000000  \n",
              "2020       -0.375000  \n",
              "2021        1.600000  \n",
              "2022       -0.076923  \n",
              "2023        0.000000  "
            ],
            "text/html": [
              "\n",
              "  <div id=\"df-e9037edb-91c0-439f-964f-04b56531162c\" class=\"colab-df-container\">\n",
              "    <div>\n",
              "<style scoped>\n",
              "    .dataframe tbody tr th:only-of-type {\n",
              "        vertical-align: middle;\n",
              "    }\n",
              "\n",
              "    .dataframe tbody tr th {\n",
              "        vertical-align: top;\n",
              "    }\n",
              "\n",
              "    .dataframe thead th {\n",
              "        text-align: right;\n",
              "    }\n",
              "</style>\n",
              "<table border=\"1\" class=\"dataframe\">\n",
              "  <thead>\n",
              "    <tr style=\"text-align: right;\">\n",
              "      <th></th>\n",
              "      <th>Dividends</th>\n",
              "      <th>Stock Splits</th>\n",
              "      <th>adjusted_stocksplit</th>\n",
              "      <th>adjusted_dividends</th>\n",
              "      <th>div_PCT_Change</th>\n",
              "    </tr>\n",
              "    <tr>\n",
              "      <th>year</th>\n",
              "      <th></th>\n",
              "      <th></th>\n",
              "      <th></th>\n",
              "      <th></th>\n",
              "      <th></th>\n",
              "    </tr>\n",
              "  </thead>\n",
              "  <tbody>\n",
              "    <tr>\n",
              "      <th>1995</th>\n",
              "      <td>0.080001</td>\n",
              "      <td>0.0</td>\n",
              "      <td>3.0</td>\n",
              "      <td>0.080001</td>\n",
              "      <td>NaN</td>\n",
              "    </tr>\n",
              "    <tr>\n",
              "      <th>1996</th>\n",
              "      <td>0.106668</td>\n",
              "      <td>0.0</td>\n",
              "      <td>4.0</td>\n",
              "      <td>0.106668</td>\n",
              "      <td>0.333333</td>\n",
              "    </tr>\n",
              "    <tr>\n",
              "      <th>1997</th>\n",
              "      <td>0.106668</td>\n",
              "      <td>0.0</td>\n",
              "      <td>4.0</td>\n",
              "      <td>0.106668</td>\n",
              "      <td>0.000000</td>\n",
              "    </tr>\n",
              "    <tr>\n",
              "      <th>1998</th>\n",
              "      <td>0.106668</td>\n",
              "      <td>0.0</td>\n",
              "      <td>4.0</td>\n",
              "      <td>0.106668</td>\n",
              "      <td>0.000000</td>\n",
              "    </tr>\n",
              "    <tr>\n",
              "      <th>1999</th>\n",
              "      <td>0.108334</td>\n",
              "      <td>3.0</td>\n",
              "      <td>7.0</td>\n",
              "      <td>0.108334</td>\n",
              "      <td>0.015619</td>\n",
              "    </tr>\n",
              "    <tr>\n",
              "      <th>2000</th>\n",
              "      <td>0.108000</td>\n",
              "      <td>0.0</td>\n",
              "      <td>4.0</td>\n",
              "      <td>0.108000</td>\n",
              "      <td>-0.003083</td>\n",
              "    </tr>\n",
              "    <tr>\n",
              "      <th>2001</th>\n",
              "      <td>0.108000</td>\n",
              "      <td>0.0</td>\n",
              "      <td>4.0</td>\n",
              "      <td>0.108000</td>\n",
              "      <td>0.000000</td>\n",
              "    </tr>\n",
              "    <tr>\n",
              "      <th>2002</th>\n",
              "      <td>0.109000</td>\n",
              "      <td>0.0</td>\n",
              "      <td>4.0</td>\n",
              "      <td>0.109000</td>\n",
              "      <td>0.009259</td>\n",
              "    </tr>\n",
              "    <tr>\n",
              "      <th>2003</th>\n",
              "      <td>0.109000</td>\n",
              "      <td>0.0</td>\n",
              "      <td>4.0</td>\n",
              "      <td>0.109000</td>\n",
              "      <td>0.000000</td>\n",
              "    </tr>\n",
              "    <tr>\n",
              "      <th>2004</th>\n",
              "      <td>0.112000</td>\n",
              "      <td>0.0</td>\n",
              "      <td>4.0</td>\n",
              "      <td>0.112000</td>\n",
              "      <td>0.027523</td>\n",
              "    </tr>\n",
              "    <tr>\n",
              "      <th>2005</th>\n",
              "      <td>0.108000</td>\n",
              "      <td>0.0</td>\n",
              "      <td>4.0</td>\n",
              "      <td>0.108000</td>\n",
              "      <td>-0.035714</td>\n",
              "    </tr>\n",
              "    <tr>\n",
              "      <th>2006</th>\n",
              "      <td>0.108000</td>\n",
              "      <td>0.0</td>\n",
              "      <td>4.0</td>\n",
              "      <td>0.108000</td>\n",
              "      <td>0.000000</td>\n",
              "    </tr>\n",
              "    <tr>\n",
              "      <th>2007</th>\n",
              "      <td>0.108000</td>\n",
              "      <td>0.0</td>\n",
              "      <td>4.0</td>\n",
              "      <td>0.108000</td>\n",
              "      <td>0.000000</td>\n",
              "    </tr>\n",
              "    <tr>\n",
              "      <th>2008</th>\n",
              "      <td>1.500000</td>\n",
              "      <td>0.0</td>\n",
              "      <td>4.0</td>\n",
              "      <td>1.500000</td>\n",
              "      <td>12.888889</td>\n",
              "    </tr>\n",
              "    <tr>\n",
              "      <th>2009</th>\n",
              "      <td>0.525000</td>\n",
              "      <td>0.0</td>\n",
              "      <td>4.0</td>\n",
              "      <td>0.525000</td>\n",
              "      <td>-0.650000</td>\n",
              "    </tr>\n",
              "    <tr>\n",
              "      <th>2010</th>\n",
              "      <td>0.200000</td>\n",
              "      <td>0.0</td>\n",
              "      <td>4.0</td>\n",
              "      <td>0.200000</td>\n",
              "      <td>-0.619048</td>\n",
              "    </tr>\n",
              "    <tr>\n",
              "      <th>2011</th>\n",
              "      <td>0.200000</td>\n",
              "      <td>0.0</td>\n",
              "      <td>4.0</td>\n",
              "      <td>0.200000</td>\n",
              "      <td>0.000000</td>\n",
              "    </tr>\n",
              "    <tr>\n",
              "      <th>2012</th>\n",
              "      <td>0.200000</td>\n",
              "      <td>0.0</td>\n",
              "      <td>4.0</td>\n",
              "      <td>0.200000</td>\n",
              "      <td>0.000000</td>\n",
              "    </tr>\n",
              "    <tr>\n",
              "      <th>2013</th>\n",
              "      <td>0.950000</td>\n",
              "      <td>0.0</td>\n",
              "      <td>4.0</td>\n",
              "      <td>0.950000</td>\n",
              "      <td>3.750000</td>\n",
              "    </tr>\n",
              "    <tr>\n",
              "      <th>2014</th>\n",
              "      <td>1.200000</td>\n",
              "      <td>0.0</td>\n",
              "      <td>4.0</td>\n",
              "      <td>1.200000</td>\n",
              "      <td>0.263158</td>\n",
              "    </tr>\n",
              "    <tr>\n",
              "      <th>2015</th>\n",
              "      <td>1.500000</td>\n",
              "      <td>0.0</td>\n",
              "      <td>4.0</td>\n",
              "      <td>1.500000</td>\n",
              "      <td>0.250000</td>\n",
              "    </tr>\n",
              "    <tr>\n",
              "      <th>2016</th>\n",
              "      <td>1.600000</td>\n",
              "      <td>0.0</td>\n",
              "      <td>4.0</td>\n",
              "      <td>1.600000</td>\n",
              "      <td>0.066667</td>\n",
              "    </tr>\n",
              "    <tr>\n",
              "      <th>2017</th>\n",
              "      <td>1.600000</td>\n",
              "      <td>0.0</td>\n",
              "      <td>4.0</td>\n",
              "      <td>1.600000</td>\n",
              "      <td>0.000000</td>\n",
              "    </tr>\n",
              "    <tr>\n",
              "      <th>2018</th>\n",
              "      <td>1.600000</td>\n",
              "      <td>0.0</td>\n",
              "      <td>4.0</td>\n",
              "      <td>1.600000</td>\n",
              "      <td>0.000000</td>\n",
              "    </tr>\n",
              "    <tr>\n",
              "      <th>2019</th>\n",
              "      <td>1.600000</td>\n",
              "      <td>0.0</td>\n",
              "      <td>4.0</td>\n",
              "      <td>1.600000</td>\n",
              "      <td>0.000000</td>\n",
              "    </tr>\n",
              "    <tr>\n",
              "      <th>2020</th>\n",
              "      <td>1.000000</td>\n",
              "      <td>0.0</td>\n",
              "      <td>4.0</td>\n",
              "      <td>1.000000</td>\n",
              "      <td>-0.375000</td>\n",
              "    </tr>\n",
              "    <tr>\n",
              "      <th>2021</th>\n",
              "      <td>2.600000</td>\n",
              "      <td>0.0</td>\n",
              "      <td>4.0</td>\n",
              "      <td>2.600000</td>\n",
              "      <td>1.600000</td>\n",
              "    </tr>\n",
              "    <tr>\n",
              "      <th>2022</th>\n",
              "      <td>2.400000</td>\n",
              "      <td>0.0</td>\n",
              "      <td>4.0</td>\n",
              "      <td>2.400000</td>\n",
              "      <td>-0.076923</td>\n",
              "    </tr>\n",
              "    <tr>\n",
              "      <th>2023</th>\n",
              "      <td>2.400000</td>\n",
              "      <td>0.0</td>\n",
              "      <td>4.0</td>\n",
              "      <td>2.400000</td>\n",
              "      <td>0.000000</td>\n",
              "    </tr>\n",
              "  </tbody>\n",
              "</table>\n",
              "</div>\n",
              "    <div class=\"colab-df-buttons\">\n",
              "\n",
              "  <div class=\"colab-df-container\">\n",
              "    <button class=\"colab-df-convert\" onclick=\"convertToInteractive('df-e9037edb-91c0-439f-964f-04b56531162c')\"\n",
              "            title=\"Convert this dataframe to an interactive table.\"\n",
              "            style=\"display:none;\">\n",
              "\n",
              "  <svg xmlns=\"http://www.w3.org/2000/svg\" height=\"24px\" viewBox=\"0 -960 960 960\">\n",
              "    <path d=\"M120-120v-720h720v720H120Zm60-500h600v-160H180v160Zm220 220h160v-160H400v160Zm0 220h160v-160H400v160ZM180-400h160v-160H180v160Zm440 0h160v-160H620v160ZM180-180h160v-160H180v160Zm440 0h160v-160H620v160Z\"/>\n",
              "  </svg>\n",
              "    </button>\n",
              "\n",
              "  <style>\n",
              "    .colab-df-container {\n",
              "      display:flex;\n",
              "      gap: 12px;\n",
              "    }\n",
              "\n",
              "    .colab-df-convert {\n",
              "      background-color: #E8F0FE;\n",
              "      border: none;\n",
              "      border-radius: 50%;\n",
              "      cursor: pointer;\n",
              "      display: none;\n",
              "      fill: #1967D2;\n",
              "      height: 32px;\n",
              "      padding: 0 0 0 0;\n",
              "      width: 32px;\n",
              "    }\n",
              "\n",
              "    .colab-df-convert:hover {\n",
              "      background-color: #E2EBFA;\n",
              "      box-shadow: 0px 1px 2px rgba(60, 64, 67, 0.3), 0px 1px 3px 1px rgba(60, 64, 67, 0.15);\n",
              "      fill: #174EA6;\n",
              "    }\n",
              "\n",
              "    .colab-df-buttons div {\n",
              "      margin-bottom: 4px;\n",
              "    }\n",
              "\n",
              "    [theme=dark] .colab-df-convert {\n",
              "      background-color: #3B4455;\n",
              "      fill: #D2E3FC;\n",
              "    }\n",
              "\n",
              "    [theme=dark] .colab-df-convert:hover {\n",
              "      background-color: #434B5C;\n",
              "      box-shadow: 0px 1px 3px 1px rgba(0, 0, 0, 0.15);\n",
              "      filter: drop-shadow(0px 1px 2px rgba(0, 0, 0, 0.3));\n",
              "      fill: #FFFFFF;\n",
              "    }\n",
              "  </style>\n",
              "\n",
              "    <script>\n",
              "      const buttonEl =\n",
              "        document.querySelector('#df-e9037edb-91c0-439f-964f-04b56531162c button.colab-df-convert');\n",
              "      buttonEl.style.display =\n",
              "        google.colab.kernel.accessAllowed ? 'block' : 'none';\n",
              "\n",
              "      async function convertToInteractive(key) {\n",
              "        const element = document.querySelector('#df-e9037edb-91c0-439f-964f-04b56531162c');\n",
              "        const dataTable =\n",
              "          await google.colab.kernel.invokeFunction('convertToInteractive',\n",
              "                                                    [key], {});\n",
              "        if (!dataTable) return;\n",
              "\n",
              "        const docLinkHtml = 'Like what you see? Visit the ' +\n",
              "          '<a target=\"_blank\" href=https://colab.research.google.com/notebooks/data_table.ipynb>data table notebook</a>'\n",
              "          + ' to learn more about interactive tables.';\n",
              "        element.innerHTML = '';\n",
              "        dataTable['output_type'] = 'display_data';\n",
              "        await google.colab.output.renderOutput(dataTable, element);\n",
              "        const docLink = document.createElement('div');\n",
              "        docLink.innerHTML = docLinkHtml;\n",
              "        element.appendChild(docLink);\n",
              "      }\n",
              "    </script>\n",
              "  </div>\n",
              "\n",
              "\n",
              "<div id=\"df-fb2058ed-c1b5-4915-ac34-6721df6ea922\">\n",
              "  <button class=\"colab-df-quickchart\" onclick=\"quickchart('df-fb2058ed-c1b5-4915-ac34-6721df6ea922')\"\n",
              "            title=\"Suggest charts\"\n",
              "            style=\"display:none;\">\n",
              "\n",
              "<svg xmlns=\"http://www.w3.org/2000/svg\" height=\"24px\"viewBox=\"0 0 24 24\"\n",
              "     width=\"24px\">\n",
              "    <g>\n",
              "        <path d=\"M19 3H5c-1.1 0-2 .9-2 2v14c0 1.1.9 2 2 2h14c1.1 0 2-.9 2-2V5c0-1.1-.9-2-2-2zM9 17H7v-7h2v7zm4 0h-2V7h2v10zm4 0h-2v-4h2v4z\"/>\n",
              "    </g>\n",
              "</svg>\n",
              "  </button>\n",
              "\n",
              "<style>\n",
              "  .colab-df-quickchart {\n",
              "      --bg-color: #E8F0FE;\n",
              "      --fill-color: #1967D2;\n",
              "      --hover-bg-color: #E2EBFA;\n",
              "      --hover-fill-color: #174EA6;\n",
              "      --disabled-fill-color: #AAA;\n",
              "      --disabled-bg-color: #DDD;\n",
              "  }\n",
              "\n",
              "  [theme=dark] .colab-df-quickchart {\n",
              "      --bg-color: #3B4455;\n",
              "      --fill-color: #D2E3FC;\n",
              "      --hover-bg-color: #434B5C;\n",
              "      --hover-fill-color: #FFFFFF;\n",
              "      --disabled-bg-color: #3B4455;\n",
              "      --disabled-fill-color: #666;\n",
              "  }\n",
              "\n",
              "  .colab-df-quickchart {\n",
              "    background-color: var(--bg-color);\n",
              "    border: none;\n",
              "    border-radius: 50%;\n",
              "    cursor: pointer;\n",
              "    display: none;\n",
              "    fill: var(--fill-color);\n",
              "    height: 32px;\n",
              "    padding: 0;\n",
              "    width: 32px;\n",
              "  }\n",
              "\n",
              "  .colab-df-quickchart:hover {\n",
              "    background-color: var(--hover-bg-color);\n",
              "    box-shadow: 0 1px 2px rgba(60, 64, 67, 0.3), 0 1px 3px 1px rgba(60, 64, 67, 0.15);\n",
              "    fill: var(--button-hover-fill-color);\n",
              "  }\n",
              "\n",
              "  .colab-df-quickchart-complete:disabled,\n",
              "  .colab-df-quickchart-complete:disabled:hover {\n",
              "    background-color: var(--disabled-bg-color);\n",
              "    fill: var(--disabled-fill-color);\n",
              "    box-shadow: none;\n",
              "  }\n",
              "\n",
              "  .colab-df-spinner {\n",
              "    border: 2px solid var(--fill-color);\n",
              "    border-color: transparent;\n",
              "    border-bottom-color: var(--fill-color);\n",
              "    animation:\n",
              "      spin 1s steps(1) infinite;\n",
              "  }\n",
              "\n",
              "  @keyframes spin {\n",
              "    0% {\n",
              "      border-color: transparent;\n",
              "      border-bottom-color: var(--fill-color);\n",
              "      border-left-color: var(--fill-color);\n",
              "    }\n",
              "    20% {\n",
              "      border-color: transparent;\n",
              "      border-left-color: var(--fill-color);\n",
              "      border-top-color: var(--fill-color);\n",
              "    }\n",
              "    30% {\n",
              "      border-color: transparent;\n",
              "      border-left-color: var(--fill-color);\n",
              "      border-top-color: var(--fill-color);\n",
              "      border-right-color: var(--fill-color);\n",
              "    }\n",
              "    40% {\n",
              "      border-color: transparent;\n",
              "      border-right-color: var(--fill-color);\n",
              "      border-top-color: var(--fill-color);\n",
              "    }\n",
              "    60% {\n",
              "      border-color: transparent;\n",
              "      border-right-color: var(--fill-color);\n",
              "    }\n",
              "    80% {\n",
              "      border-color: transparent;\n",
              "      border-right-color: var(--fill-color);\n",
              "      border-bottom-color: var(--fill-color);\n",
              "    }\n",
              "    90% {\n",
              "      border-color: transparent;\n",
              "      border-bottom-color: var(--fill-color);\n",
              "    }\n",
              "  }\n",
              "</style>\n",
              "\n",
              "  <script>\n",
              "    async function quickchart(key) {\n",
              "      const quickchartButtonEl =\n",
              "        document.querySelector('#' + key + ' button');\n",
              "      quickchartButtonEl.disabled = true;  // To prevent multiple clicks.\n",
              "      quickchartButtonEl.classList.add('colab-df-spinner');\n",
              "      try {\n",
              "        const charts = await google.colab.kernel.invokeFunction(\n",
              "            'suggestCharts', [key], {});\n",
              "      } catch (error) {\n",
              "        console.error('Error during call to suggestCharts:', error);\n",
              "      }\n",
              "      quickchartButtonEl.classList.remove('colab-df-spinner');\n",
              "      quickchartButtonEl.classList.add('colab-df-quickchart-complete');\n",
              "    }\n",
              "    (() => {\n",
              "      let quickchartButtonEl =\n",
              "        document.querySelector('#df-fb2058ed-c1b5-4915-ac34-6721df6ea922 button');\n",
              "      quickchartButtonEl.style.display =\n",
              "        google.colab.kernel.accessAllowed ? 'block' : 'none';\n",
              "    })();\n",
              "  </script>\n",
              "</div>\n",
              "    </div>\n",
              "  </div>\n"
            ]
          },
          "metadata": {},
          "execution_count": 279
        }
      ]
    },
    {
      "cell_type": "code",
      "source": [
        "## Calculating the Market Risk Premium\n",
        "market_risk_premium = market_return - risk_free_rate\n",
        "print(f\"The Market Risk Premium is {market_risk_premium:.3f}\")"
      ],
      "metadata": {
        "colab": {
          "base_uri": "https://localhost:8080/"
        },
        "id": "xyT4JI_16ufe",
        "outputId": "356a391e-8a7f-43d8-ff13-59007706b0ff"
      },
      "execution_count": null,
      "outputs": [
        {
          "output_type": "stream",
          "name": "stdout",
          "text": [
            "The Market Risk Premium is 0.061\n"
          ]
        }
      ]
    },
    {
      "cell_type": "code",
      "source": [
        "## Calculating the Cost of Equity\n",
        "Cost_of_equity = Beta * market_risk_premium + risk_free_rate\n",
        "print(f\"The Cost of Equity is {Cost_of_equity:.3f}\")"
      ],
      "metadata": {
        "colab": {
          "base_uri": "https://localhost:8080/"
        },
        "id": "q-0_O_NK6i9e",
        "outputId": "9a072a02-892b-46bb-9e2a-83cc7a3ae3f0"
      },
      "execution_count": null,
      "outputs": [
        {
          "output_type": "stream",
          "name": "stdout",
          "text": [
            "The Cost of Equity is 0.131\n"
          ]
        }
      ]
    },
    {
      "cell_type": "code",
      "source": [
        "## What is the median growth of dividend change\n",
        "median_growth = COF['div_PCT_Change'].median(skipna=True)\n",
        "median_growth"
      ],
      "metadata": {
        "colab": {
          "base_uri": "https://localhost:8080/"
        },
        "id": "9DozktEg8SPR",
        "outputId": "052e495d-63c3-4bb5-8676-f4c4ba0bd5bb"
      },
      "execution_count": null,
      "outputs": [
        {
          "output_type": "execute_result",
          "data": {
            "text/plain": [
              "0.0"
            ]
          },
          "metadata": {},
          "execution_count": 282
        }
      ]
    },
    {
      "cell_type": "code",
      "source": [
        "## Obtaininf the fitst dividend offered by Capital One\n",
        "first_dividend = COF.at[2023, 'Dividends']\n",
        "first_dividend"
      ],
      "metadata": {
        "colab": {
          "base_uri": "https://localhost:8080/"
        },
        "id": "0ol3WgIJ9qNW",
        "outputId": "4ec25c0f-ebcc-4e78-ecc6-698302ff2905"
      },
      "execution_count": null,
      "outputs": [
        {
          "output_type": "execute_result",
          "data": {
            "text/plain": [
              "2.4"
            ]
          },
          "metadata": {},
          "execution_count": 283
        }
      ]
    },
    {
      "cell_type": "code",
      "source": [
        "## Calculating the expected future dividend -- As the calculation state, the expected future dividend remains the same\n",
        "expected_future_div = first_dividend * (1+median_growth)\n",
        "print(f\"The Expected Future Dividend is {expected_future_div:.3f}\")"
      ],
      "metadata": {
        "colab": {
          "base_uri": "https://localhost:8080/"
        },
        "id": "CUGmnBeJ9wx4",
        "outputId": "00e98b3f-4140-4809-85d6-a61172057b5b"
      },
      "execution_count": null,
      "outputs": [
        {
          "output_type": "stream",
          "name": "stdout",
          "text": [
            "The Expected Future Dividend is 2.400\n"
          ]
        }
      ]
    },
    {
      "cell_type": "code",
      "source": [
        "## Calculating the fair share price of COF\n",
        "fair_share_price = expected_future_div / (Cost_of_equity - median_growth)\n",
        "print(f\"The Fair Share Price is {fair_share_price:.3f}\")"
      ],
      "metadata": {
        "colab": {
          "base_uri": "https://localhost:8080/"
        },
        "id": "KJghIuS_7koV",
        "outputId": "453626a5-1e0a-4aa4-e276-457d2f85566e"
      },
      "execution_count": null,
      "outputs": [
        {
          "output_type": "stream",
          "name": "stdout",
          "text": [
            "The Fair Share Price is 18.256\n"
          ]
        }
      ]
    },
    {
      "cell_type": "code",
      "source": [
        "## Capital One Stock Price today\n",
        "COF_stock_price_today = ticker.history(period='today')\n",
        "COF_stock_price_close = COF_stock_price_today.iloc[0]['Close']\n",
        "COF_stock_price_close"
      ],
      "metadata": {
        "colab": {
          "base_uri": "https://localhost:8080/"
        },
        "id": "uKFl2AO581NI",
        "outputId": "ac0ed683-0698-4404-a3d7-762f7738a3fc"
      },
      "execution_count": null,
      "outputs": [
        {
          "output_type": "execute_result",
          "data": {
            "text/plain": [
              "129.67999267578125"
            ]
          },
          "metadata": {},
          "execution_count": 286
        }
      ]
    },
    {
      "cell_type": "code",
      "source": [
        "## Calculating the expected gain or loss of the stock for investors\n",
        "expected_gain_loss = fair_share_price/COF_stock_price_close-1\n",
        "print(f\"The Expected Gain or Loss is {expected_gain_loss:.3f}\")"
      ],
      "metadata": {
        "colab": {
          "base_uri": "https://localhost:8080/"
        },
        "id": "BS1uYWir9Eez",
        "outputId": "e112770b-d2f8-4bb3-cf43-e0748ba14ce9"
      },
      "execution_count": null,
      "outputs": [
        {
          "output_type": "stream",
          "name": "stdout",
          "text": [
            "The Expected Gain or Loss is -0.859\n"
          ]
        }
      ]
    },
    {
      "cell_type": "markdown",
      "source": [
        "### Calculating the FCF Evaluation"
      ],
      "metadata": {
        "id": "veN2w4c8u8LQ"
      }
    },
    {
      "cell_type": "code",
      "source": [
        "from google.colab import drive\n",
        "drive.mount('/content/gdrive')"
      ],
      "metadata": {
        "colab": {
          "base_uri": "https://localhost:8080/"
        },
        "id": "BxSlnoAVHZQg",
        "outputId": "8ecb3440-2ad9-4779-b47a-aef3d87d7b34"
      },
      "execution_count": null,
      "outputs": [
        {
          "output_type": "stream",
          "name": "stdout",
          "text": [
            "Drive already mounted at /content/gdrive; to attempt to forcibly remount, call drive.mount(\"/content/gdrive\", force_remount=True).\n"
          ]
        }
      ]
    },
    {
      "cell_type": "code",
      "source": [
        "values = pd.read_excel('/content/gdrive/MyDrive/COF_personal_project_Stock_Evaluation/COF_CashFlow.xlsx', sheet_name='Values')"
      ],
      "metadata": {
        "id": "1X9bSyhxTeoe"
      },
      "execution_count": null,
      "outputs": []
    },
    {
      "cell_type": "code",
      "source": [
        "values"
      ],
      "metadata": {
        "colab": {
          "base_uri": "https://localhost:8080/",
          "height": 174
        },
        "id": "kKVTiFNoTrNY",
        "outputId": "aecc319d-5046-4375-8bed-1478ba28181a"
      },
      "execution_count": null,
      "outputs": [
        {
          "output_type": "execute_result",
          "data": {
            "text/plain": [
              "   Free Cash Flow  Interest Expense  Tax Provision  Pretax Income  Date\n",
              "0        12875000          19412000        1880000        9240000  2022\n",
              "1        11612000          16470000        3415000       15809000  2021\n",
              "2        15989000          14716000         486000        3203000  2020\n",
              "3        15752000          14994000        1341000        6874000  2019"
            ],
            "text/html": [
              "\n",
              "  <div id=\"df-5770a918-edfe-474c-8de3-3c2f12629007\" class=\"colab-df-container\">\n",
              "    <div>\n",
              "<style scoped>\n",
              "    .dataframe tbody tr th:only-of-type {\n",
              "        vertical-align: middle;\n",
              "    }\n",
              "\n",
              "    .dataframe tbody tr th {\n",
              "        vertical-align: top;\n",
              "    }\n",
              "\n",
              "    .dataframe thead th {\n",
              "        text-align: right;\n",
              "    }\n",
              "</style>\n",
              "<table border=\"1\" class=\"dataframe\">\n",
              "  <thead>\n",
              "    <tr style=\"text-align: right;\">\n",
              "      <th></th>\n",
              "      <th>Free Cash Flow</th>\n",
              "      <th>Interest Expense</th>\n",
              "      <th>Tax Provision</th>\n",
              "      <th>Pretax Income</th>\n",
              "      <th>Date</th>\n",
              "    </tr>\n",
              "  </thead>\n",
              "  <tbody>\n",
              "    <tr>\n",
              "      <th>0</th>\n",
              "      <td>12875000</td>\n",
              "      <td>19412000</td>\n",
              "      <td>1880000</td>\n",
              "      <td>9240000</td>\n",
              "      <td>2022</td>\n",
              "    </tr>\n",
              "    <tr>\n",
              "      <th>1</th>\n",
              "      <td>11612000</td>\n",
              "      <td>16470000</td>\n",
              "      <td>3415000</td>\n",
              "      <td>15809000</td>\n",
              "      <td>2021</td>\n",
              "    </tr>\n",
              "    <tr>\n",
              "      <th>2</th>\n",
              "      <td>15989000</td>\n",
              "      <td>14716000</td>\n",
              "      <td>486000</td>\n",
              "      <td>3203000</td>\n",
              "      <td>2020</td>\n",
              "    </tr>\n",
              "    <tr>\n",
              "      <th>3</th>\n",
              "      <td>15752000</td>\n",
              "      <td>14994000</td>\n",
              "      <td>1341000</td>\n",
              "      <td>6874000</td>\n",
              "      <td>2019</td>\n",
              "    </tr>\n",
              "  </tbody>\n",
              "</table>\n",
              "</div>\n",
              "    <div class=\"colab-df-buttons\">\n",
              "\n",
              "  <div class=\"colab-df-container\">\n",
              "    <button class=\"colab-df-convert\" onclick=\"convertToInteractive('df-5770a918-edfe-474c-8de3-3c2f12629007')\"\n",
              "            title=\"Convert this dataframe to an interactive table.\"\n",
              "            style=\"display:none;\">\n",
              "\n",
              "  <svg xmlns=\"http://www.w3.org/2000/svg\" height=\"24px\" viewBox=\"0 -960 960 960\">\n",
              "    <path d=\"M120-120v-720h720v720H120Zm60-500h600v-160H180v160Zm220 220h160v-160H400v160Zm0 220h160v-160H400v160ZM180-400h160v-160H180v160Zm440 0h160v-160H620v160ZM180-180h160v-160H180v160Zm440 0h160v-160H620v160Z\"/>\n",
              "  </svg>\n",
              "    </button>\n",
              "\n",
              "  <style>\n",
              "    .colab-df-container {\n",
              "      display:flex;\n",
              "      gap: 12px;\n",
              "    }\n",
              "\n",
              "    .colab-df-convert {\n",
              "      background-color: #E8F0FE;\n",
              "      border: none;\n",
              "      border-radius: 50%;\n",
              "      cursor: pointer;\n",
              "      display: none;\n",
              "      fill: #1967D2;\n",
              "      height: 32px;\n",
              "      padding: 0 0 0 0;\n",
              "      width: 32px;\n",
              "    }\n",
              "\n",
              "    .colab-df-convert:hover {\n",
              "      background-color: #E2EBFA;\n",
              "      box-shadow: 0px 1px 2px rgba(60, 64, 67, 0.3), 0px 1px 3px 1px rgba(60, 64, 67, 0.15);\n",
              "      fill: #174EA6;\n",
              "    }\n",
              "\n",
              "    .colab-df-buttons div {\n",
              "      margin-bottom: 4px;\n",
              "    }\n",
              "\n",
              "    [theme=dark] .colab-df-convert {\n",
              "      background-color: #3B4455;\n",
              "      fill: #D2E3FC;\n",
              "    }\n",
              "\n",
              "    [theme=dark] .colab-df-convert:hover {\n",
              "      background-color: #434B5C;\n",
              "      box-shadow: 0px 1px 3px 1px rgba(0, 0, 0, 0.15);\n",
              "      filter: drop-shadow(0px 1px 2px rgba(0, 0, 0, 0.3));\n",
              "      fill: #FFFFFF;\n",
              "    }\n",
              "  </style>\n",
              "\n",
              "    <script>\n",
              "      const buttonEl =\n",
              "        document.querySelector('#df-5770a918-edfe-474c-8de3-3c2f12629007 button.colab-df-convert');\n",
              "      buttonEl.style.display =\n",
              "        google.colab.kernel.accessAllowed ? 'block' : 'none';\n",
              "\n",
              "      async function convertToInteractive(key) {\n",
              "        const element = document.querySelector('#df-5770a918-edfe-474c-8de3-3c2f12629007');\n",
              "        const dataTable =\n",
              "          await google.colab.kernel.invokeFunction('convertToInteractive',\n",
              "                                                    [key], {});\n",
              "        if (!dataTable) return;\n",
              "\n",
              "        const docLinkHtml = 'Like what you see? Visit the ' +\n",
              "          '<a target=\"_blank\" href=https://colab.research.google.com/notebooks/data_table.ipynb>data table notebook</a>'\n",
              "          + ' to learn more about interactive tables.';\n",
              "        element.innerHTML = '';\n",
              "        dataTable['output_type'] = 'display_data';\n",
              "        await google.colab.output.renderOutput(dataTable, element);\n",
              "        const docLink = document.createElement('div');\n",
              "        docLink.innerHTML = docLinkHtml;\n",
              "        element.appendChild(docLink);\n",
              "      }\n",
              "    </script>\n",
              "  </div>\n",
              "\n",
              "\n",
              "<div id=\"df-4f9ca48e-658c-40a9-ae8d-175155f0c92c\">\n",
              "  <button class=\"colab-df-quickchart\" onclick=\"quickchart('df-4f9ca48e-658c-40a9-ae8d-175155f0c92c')\"\n",
              "            title=\"Suggest charts\"\n",
              "            style=\"display:none;\">\n",
              "\n",
              "<svg xmlns=\"http://www.w3.org/2000/svg\" height=\"24px\"viewBox=\"0 0 24 24\"\n",
              "     width=\"24px\">\n",
              "    <g>\n",
              "        <path d=\"M19 3H5c-1.1 0-2 .9-2 2v14c0 1.1.9 2 2 2h14c1.1 0 2-.9 2-2V5c0-1.1-.9-2-2-2zM9 17H7v-7h2v7zm4 0h-2V7h2v10zm4 0h-2v-4h2v4z\"/>\n",
              "    </g>\n",
              "</svg>\n",
              "  </button>\n",
              "\n",
              "<style>\n",
              "  .colab-df-quickchart {\n",
              "      --bg-color: #E8F0FE;\n",
              "      --fill-color: #1967D2;\n",
              "      --hover-bg-color: #E2EBFA;\n",
              "      --hover-fill-color: #174EA6;\n",
              "      --disabled-fill-color: #AAA;\n",
              "      --disabled-bg-color: #DDD;\n",
              "  }\n",
              "\n",
              "  [theme=dark] .colab-df-quickchart {\n",
              "      --bg-color: #3B4455;\n",
              "      --fill-color: #D2E3FC;\n",
              "      --hover-bg-color: #434B5C;\n",
              "      --hover-fill-color: #FFFFFF;\n",
              "      --disabled-bg-color: #3B4455;\n",
              "      --disabled-fill-color: #666;\n",
              "  }\n",
              "\n",
              "  .colab-df-quickchart {\n",
              "    background-color: var(--bg-color);\n",
              "    border: none;\n",
              "    border-radius: 50%;\n",
              "    cursor: pointer;\n",
              "    display: none;\n",
              "    fill: var(--fill-color);\n",
              "    height: 32px;\n",
              "    padding: 0;\n",
              "    width: 32px;\n",
              "  }\n",
              "\n",
              "  .colab-df-quickchart:hover {\n",
              "    background-color: var(--hover-bg-color);\n",
              "    box-shadow: 0 1px 2px rgba(60, 64, 67, 0.3), 0 1px 3px 1px rgba(60, 64, 67, 0.15);\n",
              "    fill: var(--button-hover-fill-color);\n",
              "  }\n",
              "\n",
              "  .colab-df-quickchart-complete:disabled,\n",
              "  .colab-df-quickchart-complete:disabled:hover {\n",
              "    background-color: var(--disabled-bg-color);\n",
              "    fill: var(--disabled-fill-color);\n",
              "    box-shadow: none;\n",
              "  }\n",
              "\n",
              "  .colab-df-spinner {\n",
              "    border: 2px solid var(--fill-color);\n",
              "    border-color: transparent;\n",
              "    border-bottom-color: var(--fill-color);\n",
              "    animation:\n",
              "      spin 1s steps(1) infinite;\n",
              "  }\n",
              "\n",
              "  @keyframes spin {\n",
              "    0% {\n",
              "      border-color: transparent;\n",
              "      border-bottom-color: var(--fill-color);\n",
              "      border-left-color: var(--fill-color);\n",
              "    }\n",
              "    20% {\n",
              "      border-color: transparent;\n",
              "      border-left-color: var(--fill-color);\n",
              "      border-top-color: var(--fill-color);\n",
              "    }\n",
              "    30% {\n",
              "      border-color: transparent;\n",
              "      border-left-color: var(--fill-color);\n",
              "      border-top-color: var(--fill-color);\n",
              "      border-right-color: var(--fill-color);\n",
              "    }\n",
              "    40% {\n",
              "      border-color: transparent;\n",
              "      border-right-color: var(--fill-color);\n",
              "      border-top-color: var(--fill-color);\n",
              "    }\n",
              "    60% {\n",
              "      border-color: transparent;\n",
              "      border-right-color: var(--fill-color);\n",
              "    }\n",
              "    80% {\n",
              "      border-color: transparent;\n",
              "      border-right-color: var(--fill-color);\n",
              "      border-bottom-color: var(--fill-color);\n",
              "    }\n",
              "    90% {\n",
              "      border-color: transparent;\n",
              "      border-bottom-color: var(--fill-color);\n",
              "    }\n",
              "  }\n",
              "</style>\n",
              "\n",
              "  <script>\n",
              "    async function quickchart(key) {\n",
              "      const quickchartButtonEl =\n",
              "        document.querySelector('#' + key + ' button');\n",
              "      quickchartButtonEl.disabled = true;  // To prevent multiple clicks.\n",
              "      quickchartButtonEl.classList.add('colab-df-spinner');\n",
              "      try {\n",
              "        const charts = await google.colab.kernel.invokeFunction(\n",
              "            'suggestCharts', [key], {});\n",
              "      } catch (error) {\n",
              "        console.error('Error during call to suggestCharts:', error);\n",
              "      }\n",
              "      quickchartButtonEl.classList.remove('colab-df-spinner');\n",
              "      quickchartButtonEl.classList.add('colab-df-quickchart-complete');\n",
              "    }\n",
              "    (() => {\n",
              "      let quickchartButtonEl =\n",
              "        document.querySelector('#df-4f9ca48e-658c-40a9-ae8d-175155f0c92c button');\n",
              "      quickchartButtonEl.style.display =\n",
              "        google.colab.kernel.accessAllowed ? 'block' : 'none';\n",
              "    })();\n",
              "  </script>\n",
              "</div>\n",
              "    </div>\n",
              "  </div>\n"
            ]
          },
          "metadata": {},
          "execution_count": 290
        }
      ]
    },
    {
      "cell_type": "code",
      "source": [
        "## Calculating the Free Cash Flow Evaluation\n",
        "FCF = values['Free Cash Flow'] + values['Interest Expense'] * (1 - values['Tax Provision'] / values['Pretax Income'])"
      ],
      "metadata": {
        "id": "dygtSi_pTvU7"
      },
      "execution_count": null,
      "outputs": []
    },
    {
      "cell_type": "code",
      "source": [
        "values['FCF'] = FCFF.tolist()\n",
        "values"
      ],
      "metadata": {
        "colab": {
          "base_uri": "https://localhost:8080/",
          "height": 174
        },
        "id": "0rNRNLbbUKBR",
        "outputId": "b6b1274c-3726-441a-ea3a-96613fbf4296"
      },
      "execution_count": null,
      "outputs": [
        {
          "output_type": "execute_result",
          "data": {
            "text/plain": [
              "   Free Cash Flow  Interest Expense  Tax Provision  Pretax Income  Date  \\\n",
              "0        12875000          19412000        1880000        9240000  2022   \n",
              "1        11612000          16470000        3415000       15809000  2021   \n",
              "2        15989000          14716000         486000        3203000  2020   \n",
              "3        15752000          14994000        1341000        6874000  2019   \n",
              "\n",
              "            FCF  \n",
              "0  2.833737e+07  \n",
              "1  2.452421e+07  \n",
              "2  2.847210e+07  \n",
              "3  2.782093e+07  "
            ],
            "text/html": [
              "\n",
              "  <div id=\"df-8e6b4563-dbee-42ef-9cef-e598182650b0\" class=\"colab-df-container\">\n",
              "    <div>\n",
              "<style scoped>\n",
              "    .dataframe tbody tr th:only-of-type {\n",
              "        vertical-align: middle;\n",
              "    }\n",
              "\n",
              "    .dataframe tbody tr th {\n",
              "        vertical-align: top;\n",
              "    }\n",
              "\n",
              "    .dataframe thead th {\n",
              "        text-align: right;\n",
              "    }\n",
              "</style>\n",
              "<table border=\"1\" class=\"dataframe\">\n",
              "  <thead>\n",
              "    <tr style=\"text-align: right;\">\n",
              "      <th></th>\n",
              "      <th>Free Cash Flow</th>\n",
              "      <th>Interest Expense</th>\n",
              "      <th>Tax Provision</th>\n",
              "      <th>Pretax Income</th>\n",
              "      <th>Date</th>\n",
              "      <th>FCF</th>\n",
              "    </tr>\n",
              "  </thead>\n",
              "  <tbody>\n",
              "    <tr>\n",
              "      <th>0</th>\n",
              "      <td>12875000</td>\n",
              "      <td>19412000</td>\n",
              "      <td>1880000</td>\n",
              "      <td>9240000</td>\n",
              "      <td>2022</td>\n",
              "      <td>2.833737e+07</td>\n",
              "    </tr>\n",
              "    <tr>\n",
              "      <th>1</th>\n",
              "      <td>11612000</td>\n",
              "      <td>16470000</td>\n",
              "      <td>3415000</td>\n",
              "      <td>15809000</td>\n",
              "      <td>2021</td>\n",
              "      <td>2.452421e+07</td>\n",
              "    </tr>\n",
              "    <tr>\n",
              "      <th>2</th>\n",
              "      <td>15989000</td>\n",
              "      <td>14716000</td>\n",
              "      <td>486000</td>\n",
              "      <td>3203000</td>\n",
              "      <td>2020</td>\n",
              "      <td>2.847210e+07</td>\n",
              "    </tr>\n",
              "    <tr>\n",
              "      <th>3</th>\n",
              "      <td>15752000</td>\n",
              "      <td>14994000</td>\n",
              "      <td>1341000</td>\n",
              "      <td>6874000</td>\n",
              "      <td>2019</td>\n",
              "      <td>2.782093e+07</td>\n",
              "    </tr>\n",
              "  </tbody>\n",
              "</table>\n",
              "</div>\n",
              "    <div class=\"colab-df-buttons\">\n",
              "\n",
              "  <div class=\"colab-df-container\">\n",
              "    <button class=\"colab-df-convert\" onclick=\"convertToInteractive('df-8e6b4563-dbee-42ef-9cef-e598182650b0')\"\n",
              "            title=\"Convert this dataframe to an interactive table.\"\n",
              "            style=\"display:none;\">\n",
              "\n",
              "  <svg xmlns=\"http://www.w3.org/2000/svg\" height=\"24px\" viewBox=\"0 -960 960 960\">\n",
              "    <path d=\"M120-120v-720h720v720H120Zm60-500h600v-160H180v160Zm220 220h160v-160H400v160Zm0 220h160v-160H400v160ZM180-400h160v-160H180v160Zm440 0h160v-160H620v160ZM180-180h160v-160H180v160Zm440 0h160v-160H620v160Z\"/>\n",
              "  </svg>\n",
              "    </button>\n",
              "\n",
              "  <style>\n",
              "    .colab-df-container {\n",
              "      display:flex;\n",
              "      gap: 12px;\n",
              "    }\n",
              "\n",
              "    .colab-df-convert {\n",
              "      background-color: #E8F0FE;\n",
              "      border: none;\n",
              "      border-radius: 50%;\n",
              "      cursor: pointer;\n",
              "      display: none;\n",
              "      fill: #1967D2;\n",
              "      height: 32px;\n",
              "      padding: 0 0 0 0;\n",
              "      width: 32px;\n",
              "    }\n",
              "\n",
              "    .colab-df-convert:hover {\n",
              "      background-color: #E2EBFA;\n",
              "      box-shadow: 0px 1px 2px rgba(60, 64, 67, 0.3), 0px 1px 3px 1px rgba(60, 64, 67, 0.15);\n",
              "      fill: #174EA6;\n",
              "    }\n",
              "\n",
              "    .colab-df-buttons div {\n",
              "      margin-bottom: 4px;\n",
              "    }\n",
              "\n",
              "    [theme=dark] .colab-df-convert {\n",
              "      background-color: #3B4455;\n",
              "      fill: #D2E3FC;\n",
              "    }\n",
              "\n",
              "    [theme=dark] .colab-df-convert:hover {\n",
              "      background-color: #434B5C;\n",
              "      box-shadow: 0px 1px 3px 1px rgba(0, 0, 0, 0.15);\n",
              "      filter: drop-shadow(0px 1px 2px rgba(0, 0, 0, 0.3));\n",
              "      fill: #FFFFFF;\n",
              "    }\n",
              "  </style>\n",
              "\n",
              "    <script>\n",
              "      const buttonEl =\n",
              "        document.querySelector('#df-8e6b4563-dbee-42ef-9cef-e598182650b0 button.colab-df-convert');\n",
              "      buttonEl.style.display =\n",
              "        google.colab.kernel.accessAllowed ? 'block' : 'none';\n",
              "\n",
              "      async function convertToInteractive(key) {\n",
              "        const element = document.querySelector('#df-8e6b4563-dbee-42ef-9cef-e598182650b0');\n",
              "        const dataTable =\n",
              "          await google.colab.kernel.invokeFunction('convertToInteractive',\n",
              "                                                    [key], {});\n",
              "        if (!dataTable) return;\n",
              "\n",
              "        const docLinkHtml = 'Like what you see? Visit the ' +\n",
              "          '<a target=\"_blank\" href=https://colab.research.google.com/notebooks/data_table.ipynb>data table notebook</a>'\n",
              "          + ' to learn more about interactive tables.';\n",
              "        element.innerHTML = '';\n",
              "        dataTable['output_type'] = 'display_data';\n",
              "        await google.colab.output.renderOutput(dataTable, element);\n",
              "        const docLink = document.createElement('div');\n",
              "        docLink.innerHTML = docLinkHtml;\n",
              "        element.appendChild(docLink);\n",
              "      }\n",
              "    </script>\n",
              "  </div>\n",
              "\n",
              "\n",
              "<div id=\"df-f209611f-93bf-4fc6-a6ec-292874c5ecc7\">\n",
              "  <button class=\"colab-df-quickchart\" onclick=\"quickchart('df-f209611f-93bf-4fc6-a6ec-292874c5ecc7')\"\n",
              "            title=\"Suggest charts\"\n",
              "            style=\"display:none;\">\n",
              "\n",
              "<svg xmlns=\"http://www.w3.org/2000/svg\" height=\"24px\"viewBox=\"0 0 24 24\"\n",
              "     width=\"24px\">\n",
              "    <g>\n",
              "        <path d=\"M19 3H5c-1.1 0-2 .9-2 2v14c0 1.1.9 2 2 2h14c1.1 0 2-.9 2-2V5c0-1.1-.9-2-2-2zM9 17H7v-7h2v7zm4 0h-2V7h2v10zm4 0h-2v-4h2v4z\"/>\n",
              "    </g>\n",
              "</svg>\n",
              "  </button>\n",
              "\n",
              "<style>\n",
              "  .colab-df-quickchart {\n",
              "      --bg-color: #E8F0FE;\n",
              "      --fill-color: #1967D2;\n",
              "      --hover-bg-color: #E2EBFA;\n",
              "      --hover-fill-color: #174EA6;\n",
              "      --disabled-fill-color: #AAA;\n",
              "      --disabled-bg-color: #DDD;\n",
              "  }\n",
              "\n",
              "  [theme=dark] .colab-df-quickchart {\n",
              "      --bg-color: #3B4455;\n",
              "      --fill-color: #D2E3FC;\n",
              "      --hover-bg-color: #434B5C;\n",
              "      --hover-fill-color: #FFFFFF;\n",
              "      --disabled-bg-color: #3B4455;\n",
              "      --disabled-fill-color: #666;\n",
              "  }\n",
              "\n",
              "  .colab-df-quickchart {\n",
              "    background-color: var(--bg-color);\n",
              "    border: none;\n",
              "    border-radius: 50%;\n",
              "    cursor: pointer;\n",
              "    display: none;\n",
              "    fill: var(--fill-color);\n",
              "    height: 32px;\n",
              "    padding: 0;\n",
              "    width: 32px;\n",
              "  }\n",
              "\n",
              "  .colab-df-quickchart:hover {\n",
              "    background-color: var(--hover-bg-color);\n",
              "    box-shadow: 0 1px 2px rgba(60, 64, 67, 0.3), 0 1px 3px 1px rgba(60, 64, 67, 0.15);\n",
              "    fill: var(--button-hover-fill-color);\n",
              "  }\n",
              "\n",
              "  .colab-df-quickchart-complete:disabled,\n",
              "  .colab-df-quickchart-complete:disabled:hover {\n",
              "    background-color: var(--disabled-bg-color);\n",
              "    fill: var(--disabled-fill-color);\n",
              "    box-shadow: none;\n",
              "  }\n",
              "\n",
              "  .colab-df-spinner {\n",
              "    border: 2px solid var(--fill-color);\n",
              "    border-color: transparent;\n",
              "    border-bottom-color: var(--fill-color);\n",
              "    animation:\n",
              "      spin 1s steps(1) infinite;\n",
              "  }\n",
              "\n",
              "  @keyframes spin {\n",
              "    0% {\n",
              "      border-color: transparent;\n",
              "      border-bottom-color: var(--fill-color);\n",
              "      border-left-color: var(--fill-color);\n",
              "    }\n",
              "    20% {\n",
              "      border-color: transparent;\n",
              "      border-left-color: var(--fill-color);\n",
              "      border-top-color: var(--fill-color);\n",
              "    }\n",
              "    30% {\n",
              "      border-color: transparent;\n",
              "      border-left-color: var(--fill-color);\n",
              "      border-top-color: var(--fill-color);\n",
              "      border-right-color: var(--fill-color);\n",
              "    }\n",
              "    40% {\n",
              "      border-color: transparent;\n",
              "      border-right-color: var(--fill-color);\n",
              "      border-top-color: var(--fill-color);\n",
              "    }\n",
              "    60% {\n",
              "      border-color: transparent;\n",
              "      border-right-color: var(--fill-color);\n",
              "    }\n",
              "    80% {\n",
              "      border-color: transparent;\n",
              "      border-right-color: var(--fill-color);\n",
              "      border-bottom-color: var(--fill-color);\n",
              "    }\n",
              "    90% {\n",
              "      border-color: transparent;\n",
              "      border-bottom-color: var(--fill-color);\n",
              "    }\n",
              "  }\n",
              "</style>\n",
              "\n",
              "  <script>\n",
              "    async function quickchart(key) {\n",
              "      const quickchartButtonEl =\n",
              "        document.querySelector('#' + key + ' button');\n",
              "      quickchartButtonEl.disabled = true;  // To prevent multiple clicks.\n",
              "      quickchartButtonEl.classList.add('colab-df-spinner');\n",
              "      try {\n",
              "        const charts = await google.colab.kernel.invokeFunction(\n",
              "            'suggestCharts', [key], {});\n",
              "      } catch (error) {\n",
              "        console.error('Error during call to suggestCharts:', error);\n",
              "      }\n",
              "      quickchartButtonEl.classList.remove('colab-df-spinner');\n",
              "      quickchartButtonEl.classList.add('colab-df-quickchart-complete');\n",
              "    }\n",
              "    (() => {\n",
              "      let quickchartButtonEl =\n",
              "        document.querySelector('#df-f209611f-93bf-4fc6-a6ec-292874c5ecc7 button');\n",
              "      quickchartButtonEl.style.display =\n",
              "        google.colab.kernel.accessAllowed ? 'block' : 'none';\n",
              "    })();\n",
              "  </script>\n",
              "</div>\n",
              "    </div>\n",
              "  </div>\n"
            ]
          },
          "metadata": {},
          "execution_count": 292
        }
      ]
    },
    {
      "cell_type": "markdown",
      "source": [
        "\n",
        "\n",
        "---\n",
        "\n",
        "\n",
        "\n",
        "---\n",
        "\n"
      ],
      "metadata": {
        "id": "AN3LXwwKcgcF"
      }
    },
    {
      "cell_type": "markdown",
      "source": [
        "# 5. Visualizations"
      ],
      "metadata": {
        "id": "jO9-5_osvBUZ"
      }
    },
    {
      "cell_type": "code",
      "source": [
        "import plotly.graph_objects as go\n",
        "fig = go.Figure(data=[go.Candlestick(x=data.index,\n",
        "                open=data['Open'][tickers],\n",
        "                high=data['High'][tickers],\n",
        "                low=data['Low'][tickers],\n",
        "                close=data['Adj Close'][tickers],\n",
        "                name=tickers) for tickers in tickers])\n",
        "\n",
        "fig.update_layout(title='Candlestick Chart - Capital One and S&P500',\n",
        "                  xaxis_title='Date',\n",
        "                  yaxis_title='Stock Price',\n",
        "                  xaxis_rangeslider_visible=True)\n",
        "\n",
        "fig.show()"
      ],
      "metadata": {
        "colab": {
          "base_uri": "https://localhost:8080/",
          "height": 542
        },
        "id": "jOCS7oMLd7p6",
        "outputId": "0bce919b-5bc5-48b7-be4f-08befffcce38"
      },
      "execution_count": null,
      "outputs": [
        {
          "output_type": "display_data",
          "data": {
            "text/html": [
              "<html>\n",
              "<head><meta charset=\"utf-8\" /></head>\n",
              "<body>\n",
              "    <div>            <script src=\"https://cdnjs.cloudflare.com/ajax/libs/mathjax/2.7.5/MathJax.js?config=TeX-AMS-MML_SVG\"></script><script type=\"text/javascript\">if (window.MathJax && window.MathJax.Hub && window.MathJax.Hub.Config) {window.MathJax.Hub.Config({SVG: {font: \"STIX-Web\"}});}</script>                <script type=\"text/javascript\">window.PlotlyConfig = {MathJaxConfig: 'local'};</script>\n",
              "        <script charset=\"utf-8\" src=\"https://cdn.plot.ly/plotly-2.24.1.min.js\"></script>                <div id=\"764dcfd2-2ff7-4fd9-af39-474164f6f18b\" class=\"plotly-graph-div\" style=\"height:525px; width:100%;\"></div>            <script type=\"text/javascript\">                                    window.PLOTLYENV=window.PLOTLYENV || {};                                    if (document.getElementById(\"764dcfd2-2ff7-4fd9-af39-474164f6f18b\")) {                    Plotly.newPlot(                        \"764dcfd2-2ff7-4fd9-af39-474164f6f18b\",                        [{\"close\":[93.19029235839844,87.78495788574219,86.2694320678711,81.58773803710938,84.63085174560547,83.0988540649414,85.28707885742188,89.60026550292969,86.19869232177734,81.08651733398438,81.43157958984375,68.94209289550781,73.50234985351562,76.22940826416016,74.88465118408203,85.09660339355469,78.71642303466797,83.55123138427734,85.09813690185547,79.75763702392578,84.1408462524414,86.24020385742188,92.4920425415039,95.56531524658203,92.67729187011719,81.96087646484375,47.003143310546875,60.371341705322266,63.4290657043457,58.73468780517578,59.87016296386719,64.77801513671875,67.53997802734375,68.6866226196289,80.49154663085938,93.0256118774414,98.11683654785156,113.10824584960938,120.14155578613281,140.774169921875,151.82235717773438,146.44644165039062,153.08290100097656,157.12533569335938,154.4744110107422,144.0406951904297,134.02659606933594,138.9059295654297,140.4760284423828,146.73727416992188,126.17474365234375,119.7646255493164,122.87837219238281,100.65969848632812,106.10858917236328,102.23446655273438,89.54963684082031,103.0058822631836,100.30491638183594,90.85440826416016,116.3045883178711,106.60928344726562,94.44711303710938,95.56680297851562,102.35371398925781,108.16417694091797,115.72982788085938,101.2611312866211,96.49272155761719,100.7083740234375,111.01882934570312,129.67999267578125],\"high\":[106.5,104.87999725341797,101.44000244140625,99.1500015258789,97.87000274658203,98.25,100.27999877929688,101.26000213623047,100.88999938964844,98.13999938964844,91.4800033569336,91.5999984741211,85.25,83.87000274658203,85.87000274658203,94.37999725341797,94.30000305175781,92.36000061035156,98.62000274658203,93.6500015258789,94.7300033569336,95.63999938964844,100.3499984741211,105.69999694824219,107.58999633789062,106.0,92.55000305175781,71.47000122070312,72.04000091552734,85.22000122070312,66.41000366210938,71.9000015258789,77.5,81.66999816894531,92.08000183105469,99.16000366210938,115.4800033569336,125.75,134.6999969482422,150.00999450683594,162.75,168.0,165.44000244140625,177.9499969482422,171.5,174.64999389648438,158.66000366210938,151.4499969482422,162.39999389648438,160.5399932861328,152.49000549316406,144.72999572753906,134.4600067138672,128.61000061035156,114.94000244140625,116.55000305175781,111.37000274658203,107.41999816894531,118.4000015258789,103.22000122070312,119.44000244140625,123.08999633789062,110.37000274658203,99.68000030517578,105.05000305175781,114.91000366210938,118.95999908447266,116.91999816894531,104.61000061035156,101.83000183105469,111.97000122070312,130.14999389648438],\"low\":[98.75,88.75,92.38999938964844,90.58999633789062,86.94999694824219,91.5199966430664,91.93000030517578,94.29000091552734,94.58000183105469,84.94000244140625,85.31999969482422,69.9000015258789,74.38999938964844,76.81999969482422,78.44999694824219,82.2699966430664,85.72000122070312,85.87000274658203,87.83999633789062,82.62999725341797,84.47000122070312,83.7300033569336,93.94000244140625,96.62999725341797,99.20999908447266,84.62000274658203,38.0,39.900001525878906,51.90999984741211,60.7599983215332,57.29999923706055,62.2599983215332,66.45999908447266,70.77999877929688,73.05000305175781,87.81999969482422,96.9800033569336,102.56999969482422,120.77999877929688,127.80000305175781,147.8000030517578,147.52000427246094,149.4499969482422,155.4600067138672,152.1300048828125,150.22000122070312,140.17999267578125,136.52000427246094,138.60000610351562,141.02999877929688,122.43000030517578,119.87999725341797,110.29000091552734,98.54000091552734,101.9800033569336,105.06999969482422,90.2699966430664,90.70999908447266,97.55000305175781,86.9800033569336,91.52999877929688,107.2699966430664,86.83999633789062,92.0,83.93000030517578,103.69000244140625,105.55000305175781,99.75,94.72000122070312,88.2300033569336,99.37000274658203,111.33999633789062],\"name\":\"COF\",\"open\":[100.08000183105469,103.7699966430664,98.01000213623047,95.52999877929688,90.3499984741211,94.94000244140625,92.22000122070312,94.51000213623047,99.23999786376953,95.58000183105469,89.30999755859375,90.66999816894531,74.48999786376953,80.94000244140625,84.0,82.3499984741211,92.55999755859375,85.9800033569336,92.30000305175781,92.41999816894531,85.75,91.68000030517578,94.3499984741211,100.33000183105469,103.41000366210938,100.56999969482422,88.55999755859375,46.43000030517578,62.16999816894531,68.58999633789062,62.849998474121094,63.93000030517578,67.91999816894531,72.9800033569336,74.6500015258789,88.0,99.7300033569336,105.12999725341797,122.37999725341797,128.41000366210938,151.07000732421875,165.27000427246094,155.52999877929688,163.13999938964844,165.9600067138672,162.61000061035156,152.27000427246094,144.5,146.0800018310547,147.0,152.3800048828125,133.02000427246094,125.54000091552734,127.76000213623047,103.7300033569336,108.41999816894531,105.30999755859375,94.0999984741211,107.48999786376953,100.02999877929688,92.66000366210938,113.0,109.48999786376953,96.05000305175781,97.29000091552734,105.02999877929688,109.47000122070312,116.25,103.16000366210938,96.87000274658203,101.6500015258789,111.33999633789062],\"x\":[0,1,2,3,4,5,6,7,8,9,10,11,12,13,14,15,16,17,18,19,20,21,22,23,24,25,26,27,28,29,30,31,32,33,34,35,36,37,38,39,40,41,42,43,44,45,46,47,48,49,50,51,52,53,54,55,56,57,58,59,60,61,62,63,64,65,66,67,68,69,70,71],\"type\":\"candlestick\"},{\"close\":[2823.81005859375,2713.830078125,2640.8701171875,2648.050048828125,2705.27001953125,2718.3701171875,2816.2900390625,2901.52001953125,2913.97998046875,2711.739990234375,2760.169921875,2506.85009765625,2704.10009765625,2784.489990234375,2834.39990234375,2945.830078125,2752.06005859375,2941.760009765625,2980.3798828125,2926.4599609375,2976.739990234375,3037.56005859375,3140.97998046875,3230.780029296875,3225.52001953125,2954.219970703125,2584.590087890625,2912.429931640625,3044.31005859375,3100.2900390625,3271.1201171875,3500.31005859375,3363.0,3269.9599609375,3621.6298828125,3756.070068359375,3714.239990234375,3811.14990234375,3972.889892578125,4181.169921875,4204.10986328125,4297.5,4395.259765625,4522.68017578125,4307.5400390625,4605.3798828125,4567.0,4766.18017578125,4515.5498046875,4373.93994140625,4530.41015625,4131.93017578125,4132.14990234375,3785.3798828125,4130.2900390625,3955.0,3585.6201171875,3871.97998046875,4080.110107421875,3839.5,4076.60009765625,3970.14990234375,4109.31005859375,4169.47998046875,4179.830078125,4450.3798828125,4588.9599609375,4507.66015625,4288.0498046875,4193.7998046875,4567.7998046875,4719.18994140625],\"high\":[2872.8701171875,2835.9599609375,2801.89990234375,2717.489990234375,2742.239990234375,2791.469970703125,2848.030029296875,2916.5,2940.909912109375,2939.860107421875,2815.14990234375,2800.179931640625,2708.949951171875,2813.489990234375,2860.31005859375,2949.52001953125,2954.1298828125,2964.14990234375,3027.97998046875,3013.590087890625,3021.989990234375,3050.10009765625,3154.260009765625,3247.929931640625,3337.77001953125,3393.52001953125,3136.719970703125,2954.860107421875,3068.669921875,3233.1298828125,3279.989990234375,3514.77001953125,3588.110107421875,3549.85009765625,3645.989990234375,3760.199951171875,3870.89990234375,3950.429931640625,3994.409912109375,4218.77978515625,4238.0400390625,4302.43017578125,4429.97021484375,4537.35986328125,4545.85009765625,4608.080078125,4743.830078125,4808.93017578125,4818.6201171875,4595.31005859375,4637.2998046875,4593.4501953125,4307.66015625,4177.509765625,4140.14990234375,4325.27978515625,4119.27978515625,3905.419921875,4080.110107421875,4100.9599609375,4094.2099609375,4195.43994140625,4110.75,4170.06005859375,4231.10009765625,4458.47998046875,4607.06982421875,4584.6201171875,4541.25,4393.56982421875,4587.64013671875,4738.56982421875],\"low\":[2682.360107421875,2532.68994140625,2585.889892578125,2553.800048828125,2594.6201171875,2691.989990234375,2698.949951171875,2796.340087890625,2864.1201171875,2603.5400390625,2631.090087890625,2346.580078125,2443.9599609375,2681.830078125,2722.27001953125,2848.6298828125,2750.52001953125,2728.81005859375,2952.219970703125,2822.1201171875,2891.85009765625,2855.93994140625,3050.719970703125,3070.330078125,3214.639892578125,2855.840087890625,2191.860107421875,2447.489990234375,2766.639892578125,2965.659912109375,3101.169921875,3284.530029296875,3209.449951171875,3233.93994140625,3279.739990234375,3633.39990234375,3662.7099609375,3725.6201171875,3723.340087890625,3992.780029296875,4056.8798828125,4164.39990234375,4233.1298828125,4367.72998046875,4305.91015625,4278.93994140625,4560.0,4495.1201171875,4222.6201171875,4114.64990234375,4157.8701171875,4124.27978515625,3810.320068359375,3636.8701171875,3721.56005859375,3954.530029296875,3584.1298828125,3491.580078125,3698.14990234375,3764.489990234375,3794.330078125,3943.080078125,3808.860107421875,4049.35009765625,4048.280029296875,4171.64013671875,4385.0498046875,4335.31005859375,4238.6298828125,4103.77978515625,4197.740234375,4546.5],\"name\":\"^GSPC\",\"open\":[2683.72998046875,2816.449951171875,2715.219970703125,2633.449951171875,2642.9599609375,2718.699951171875,2704.949951171875,2821.169921875,2896.9599609375,2926.2900390625,2717.580078125,2790.5,2476.9599609375,2702.320068359375,2798.219970703125,2848.6298828125,2952.330078125,2751.530029296875,2971.409912109375,2980.320068359375,2909.010009765625,2983.68994140625,3050.719970703125,3143.85009765625,3244.669921875,3235.659912109375,2974.280029296875,2498.080078125,2869.090087890625,3038.780029296875,3105.919921875,3288.260009765625,3507.43994140625,3385.8701171875,3296.199951171875,3645.8701171875,3764.610107421875,3731.169921875,3842.510009765625,3992.780029296875,4191.97998046875,4216.52001953125,4300.72998046875,4406.85986328125,4528.7998046875,4317.16015625,4610.6201171875,4602.81982421875,4778.14013671875,4519.56982421875,4363.14013671875,4540.31982421875,4130.60986328125,4149.77978515625,3781.0,4112.3798828125,3936.72998046875,3609.780029296875,3901.7900390625,4087.139892578125,3853.2900390625,4070.070068359375,3963.340087890625,4102.2001953125,4166.7900390625,4183.02978515625,4450.47998046875,4578.830078125,4530.60009765625,4284.52001953125,4201.27001953125,4559.43017578125],\"x\":[0,1,2,3,4,5,6,7,8,9,10,11,12,13,14,15,16,17,18,19,20,21,22,23,24,25,26,27,28,29,30,31,32,33,34,35,36,37,38,39,40,41,42,43,44,45,46,47,48,49,50,51,52,53,54,55,56,57,58,59,60,61,62,63,64,65,66,67,68,69,70,71],\"type\":\"candlestick\"}],                        {\"template\":{\"data\":{\"histogram2dcontour\":[{\"type\":\"histogram2dcontour\",\"colorbar\":{\"outlinewidth\":0,\"ticks\":\"\"},\"colorscale\":[[0.0,\"#0d0887\"],[0.1111111111111111,\"#46039f\"],[0.2222222222222222,\"#7201a8\"],[0.3333333333333333,\"#9c179e\"],[0.4444444444444444,\"#bd3786\"],[0.5555555555555556,\"#d8576b\"],[0.6666666666666666,\"#ed7953\"],[0.7777777777777778,\"#fb9f3a\"],[0.8888888888888888,\"#fdca26\"],[1.0,\"#f0f921\"]]}],\"choropleth\":[{\"type\":\"choropleth\",\"colorbar\":{\"outlinewidth\":0,\"ticks\":\"\"}}],\"histogram2d\":[{\"type\":\"histogram2d\",\"colorbar\":{\"outlinewidth\":0,\"ticks\":\"\"},\"colorscale\":[[0.0,\"#0d0887\"],[0.1111111111111111,\"#46039f\"],[0.2222222222222222,\"#7201a8\"],[0.3333333333333333,\"#9c179e\"],[0.4444444444444444,\"#bd3786\"],[0.5555555555555556,\"#d8576b\"],[0.6666666666666666,\"#ed7953\"],[0.7777777777777778,\"#fb9f3a\"],[0.8888888888888888,\"#fdca26\"],[1.0,\"#f0f921\"]]}],\"heatmap\":[{\"type\":\"heatmap\",\"colorbar\":{\"outlinewidth\":0,\"ticks\":\"\"},\"colorscale\":[[0.0,\"#0d0887\"],[0.1111111111111111,\"#46039f\"],[0.2222222222222222,\"#7201a8\"],[0.3333333333333333,\"#9c179e\"],[0.4444444444444444,\"#bd3786\"],[0.5555555555555556,\"#d8576b\"],[0.6666666666666666,\"#ed7953\"],[0.7777777777777778,\"#fb9f3a\"],[0.8888888888888888,\"#fdca26\"],[1.0,\"#f0f921\"]]}],\"heatmapgl\":[{\"type\":\"heatmapgl\",\"colorbar\":{\"outlinewidth\":0,\"ticks\":\"\"},\"colorscale\":[[0.0,\"#0d0887\"],[0.1111111111111111,\"#46039f\"],[0.2222222222222222,\"#7201a8\"],[0.3333333333333333,\"#9c179e\"],[0.4444444444444444,\"#bd3786\"],[0.5555555555555556,\"#d8576b\"],[0.6666666666666666,\"#ed7953\"],[0.7777777777777778,\"#fb9f3a\"],[0.8888888888888888,\"#fdca26\"],[1.0,\"#f0f921\"]]}],\"contourcarpet\":[{\"type\":\"contourcarpet\",\"colorbar\":{\"outlinewidth\":0,\"ticks\":\"\"}}],\"contour\":[{\"type\":\"contour\",\"colorbar\":{\"outlinewidth\":0,\"ticks\":\"\"},\"colorscale\":[[0.0,\"#0d0887\"],[0.1111111111111111,\"#46039f\"],[0.2222222222222222,\"#7201a8\"],[0.3333333333333333,\"#9c179e\"],[0.4444444444444444,\"#bd3786\"],[0.5555555555555556,\"#d8576b\"],[0.6666666666666666,\"#ed7953\"],[0.7777777777777778,\"#fb9f3a\"],[0.8888888888888888,\"#fdca26\"],[1.0,\"#f0f921\"]]}],\"surface\":[{\"type\":\"surface\",\"colorbar\":{\"outlinewidth\":0,\"ticks\":\"\"},\"colorscale\":[[0.0,\"#0d0887\"],[0.1111111111111111,\"#46039f\"],[0.2222222222222222,\"#7201a8\"],[0.3333333333333333,\"#9c179e\"],[0.4444444444444444,\"#bd3786\"],[0.5555555555555556,\"#d8576b\"],[0.6666666666666666,\"#ed7953\"],[0.7777777777777778,\"#fb9f3a\"],[0.8888888888888888,\"#fdca26\"],[1.0,\"#f0f921\"]]}],\"mesh3d\":[{\"type\":\"mesh3d\",\"colorbar\":{\"outlinewidth\":0,\"ticks\":\"\"}}],\"scatter\":[{\"fillpattern\":{\"fillmode\":\"overlay\",\"size\":10,\"solidity\":0.2},\"type\":\"scatter\"}],\"parcoords\":[{\"type\":\"parcoords\",\"line\":{\"colorbar\":{\"outlinewidth\":0,\"ticks\":\"\"}}}],\"scatterpolargl\":[{\"type\":\"scatterpolargl\",\"marker\":{\"colorbar\":{\"outlinewidth\":0,\"ticks\":\"\"}}}],\"bar\":[{\"error_x\":{\"color\":\"#2a3f5f\"},\"error_y\":{\"color\":\"#2a3f5f\"},\"marker\":{\"line\":{\"color\":\"#E5ECF6\",\"width\":0.5},\"pattern\":{\"fillmode\":\"overlay\",\"size\":10,\"solidity\":0.2}},\"type\":\"bar\"}],\"scattergeo\":[{\"type\":\"scattergeo\",\"marker\":{\"colorbar\":{\"outlinewidth\":0,\"ticks\":\"\"}}}],\"scatterpolar\":[{\"type\":\"scatterpolar\",\"marker\":{\"colorbar\":{\"outlinewidth\":0,\"ticks\":\"\"}}}],\"histogram\":[{\"marker\":{\"pattern\":{\"fillmode\":\"overlay\",\"size\":10,\"solidity\":0.2}},\"type\":\"histogram\"}],\"scattergl\":[{\"type\":\"scattergl\",\"marker\":{\"colorbar\":{\"outlinewidth\":0,\"ticks\":\"\"}}}],\"scatter3d\":[{\"type\":\"scatter3d\",\"line\":{\"colorbar\":{\"outlinewidth\":0,\"ticks\":\"\"}},\"marker\":{\"colorbar\":{\"outlinewidth\":0,\"ticks\":\"\"}}}],\"scattermapbox\":[{\"type\":\"scattermapbox\",\"marker\":{\"colorbar\":{\"outlinewidth\":0,\"ticks\":\"\"}}}],\"scatterternary\":[{\"type\":\"scatterternary\",\"marker\":{\"colorbar\":{\"outlinewidth\":0,\"ticks\":\"\"}}}],\"scattercarpet\":[{\"type\":\"scattercarpet\",\"marker\":{\"colorbar\":{\"outlinewidth\":0,\"ticks\":\"\"}}}],\"carpet\":[{\"aaxis\":{\"endlinecolor\":\"#2a3f5f\",\"gridcolor\":\"white\",\"linecolor\":\"white\",\"minorgridcolor\":\"white\",\"startlinecolor\":\"#2a3f5f\"},\"baxis\":{\"endlinecolor\":\"#2a3f5f\",\"gridcolor\":\"white\",\"linecolor\":\"white\",\"minorgridcolor\":\"white\",\"startlinecolor\":\"#2a3f5f\"},\"type\":\"carpet\"}],\"table\":[{\"cells\":{\"fill\":{\"color\":\"#EBF0F8\"},\"line\":{\"color\":\"white\"}},\"header\":{\"fill\":{\"color\":\"#C8D4E3\"},\"line\":{\"color\":\"white\"}},\"type\":\"table\"}],\"barpolar\":[{\"marker\":{\"line\":{\"color\":\"#E5ECF6\",\"width\":0.5},\"pattern\":{\"fillmode\":\"overlay\",\"size\":10,\"solidity\":0.2}},\"type\":\"barpolar\"}],\"pie\":[{\"automargin\":true,\"type\":\"pie\"}]},\"layout\":{\"autotypenumbers\":\"strict\",\"colorway\":[\"#636efa\",\"#EF553B\",\"#00cc96\",\"#ab63fa\",\"#FFA15A\",\"#19d3f3\",\"#FF6692\",\"#B6E880\",\"#FF97FF\",\"#FECB52\"],\"font\":{\"color\":\"#2a3f5f\"},\"hovermode\":\"closest\",\"hoverlabel\":{\"align\":\"left\"},\"paper_bgcolor\":\"white\",\"plot_bgcolor\":\"#E5ECF6\",\"polar\":{\"bgcolor\":\"#E5ECF6\",\"angularaxis\":{\"gridcolor\":\"white\",\"linecolor\":\"white\",\"ticks\":\"\"},\"radialaxis\":{\"gridcolor\":\"white\",\"linecolor\":\"white\",\"ticks\":\"\"}},\"ternary\":{\"bgcolor\":\"#E5ECF6\",\"aaxis\":{\"gridcolor\":\"white\",\"linecolor\":\"white\",\"ticks\":\"\"},\"baxis\":{\"gridcolor\":\"white\",\"linecolor\":\"white\",\"ticks\":\"\"},\"caxis\":{\"gridcolor\":\"white\",\"linecolor\":\"white\",\"ticks\":\"\"}},\"coloraxis\":{\"colorbar\":{\"outlinewidth\":0,\"ticks\":\"\"}},\"colorscale\":{\"sequential\":[[0.0,\"#0d0887\"],[0.1111111111111111,\"#46039f\"],[0.2222222222222222,\"#7201a8\"],[0.3333333333333333,\"#9c179e\"],[0.4444444444444444,\"#bd3786\"],[0.5555555555555556,\"#d8576b\"],[0.6666666666666666,\"#ed7953\"],[0.7777777777777778,\"#fb9f3a\"],[0.8888888888888888,\"#fdca26\"],[1.0,\"#f0f921\"]],\"sequentialminus\":[[0.0,\"#0d0887\"],[0.1111111111111111,\"#46039f\"],[0.2222222222222222,\"#7201a8\"],[0.3333333333333333,\"#9c179e\"],[0.4444444444444444,\"#bd3786\"],[0.5555555555555556,\"#d8576b\"],[0.6666666666666666,\"#ed7953\"],[0.7777777777777778,\"#fb9f3a\"],[0.8888888888888888,\"#fdca26\"],[1.0,\"#f0f921\"]],\"diverging\":[[0,\"#8e0152\"],[0.1,\"#c51b7d\"],[0.2,\"#de77ae\"],[0.3,\"#f1b6da\"],[0.4,\"#fde0ef\"],[0.5,\"#f7f7f7\"],[0.6,\"#e6f5d0\"],[0.7,\"#b8e186\"],[0.8,\"#7fbc41\"],[0.9,\"#4d9221\"],[1,\"#276419\"]]},\"xaxis\":{\"gridcolor\":\"white\",\"linecolor\":\"white\",\"ticks\":\"\",\"title\":{\"standoff\":15},\"zerolinecolor\":\"white\",\"automargin\":true,\"zerolinewidth\":2},\"yaxis\":{\"gridcolor\":\"white\",\"linecolor\":\"white\",\"ticks\":\"\",\"title\":{\"standoff\":15},\"zerolinecolor\":\"white\",\"automargin\":true,\"zerolinewidth\":2},\"scene\":{\"xaxis\":{\"backgroundcolor\":\"#E5ECF6\",\"gridcolor\":\"white\",\"linecolor\":\"white\",\"showbackground\":true,\"ticks\":\"\",\"zerolinecolor\":\"white\",\"gridwidth\":2},\"yaxis\":{\"backgroundcolor\":\"#E5ECF6\",\"gridcolor\":\"white\",\"linecolor\":\"white\",\"showbackground\":true,\"ticks\":\"\",\"zerolinecolor\":\"white\",\"gridwidth\":2},\"zaxis\":{\"backgroundcolor\":\"#E5ECF6\",\"gridcolor\":\"white\",\"linecolor\":\"white\",\"showbackground\":true,\"ticks\":\"\",\"zerolinecolor\":\"white\",\"gridwidth\":2}},\"shapedefaults\":{\"line\":{\"color\":\"#2a3f5f\"}},\"annotationdefaults\":{\"arrowcolor\":\"#2a3f5f\",\"arrowhead\":0,\"arrowwidth\":1},\"geo\":{\"bgcolor\":\"white\",\"landcolor\":\"#E5ECF6\",\"subunitcolor\":\"white\",\"showland\":true,\"showlakes\":true,\"lakecolor\":\"white\"},\"title\":{\"x\":0.05},\"mapbox\":{\"style\":\"light\"}}},\"xaxis\":{\"rangeslider\":{\"visible\":true},\"title\":{\"text\":\"Date\"}},\"title\":{\"text\":\"Candlestick Chart - Capital One and S&P500\"},\"yaxis\":{\"title\":{\"text\":\"Stock Price\"}}},                        {\"responsive\": true}                    ).then(function(){\n",
              "                            \n",
              "var gd = document.getElementById('764dcfd2-2ff7-4fd9-af39-474164f6f18b');\n",
              "var x = new MutationObserver(function (mutations, observer) {{\n",
              "        var display = window.getComputedStyle(gd).display;\n",
              "        if (!display || display === 'none') {{\n",
              "            console.log([gd, 'removed!']);\n",
              "            Plotly.purge(gd);\n",
              "            observer.disconnect();\n",
              "        }}\n",
              "}});\n",
              "\n",
              "// Listen for the removal of the full notebook cells\n",
              "var notebookContainer = gd.closest('#notebook-container');\n",
              "if (notebookContainer) {{\n",
              "    x.observe(notebookContainer, {childList: true});\n",
              "}}\n",
              "\n",
              "// Listen for the clearing of the current output cell\n",
              "var outputEl = gd.closest('.output');\n",
              "if (outputEl) {{\n",
              "    x.observe(outputEl, {childList: true});\n",
              "}}\n",
              "\n",
              "                        })                };                            </script>        </div>\n",
              "</body>\n",
              "</html>"
            ]
          },
          "metadata": {}
        }
      ]
    },
    {
      "cell_type": "markdown",
      "source": [
        "![Screenshot 2024-02-02 at 9.48.59 PM.png](data:image/png;base64,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)"
      ],
      "metadata": {
        "id": "kdlTajE73j6i"
      }
    },
    {
      "cell_type": "code",
      "source": [
        "fig = go.Figure()\n",
        "\n",
        "fig.add_trace(go.Bar(x=COF.index, y=COF['div_PCT_Change'], name='Dividend Percentage Change'))\n",
        "\n",
        "fig.update_layout(\n",
        "    title='Capital One Dividend Percentage Change Over Time',\n",
        "    xaxis=dict(title='Year'),\n",
        "    yaxis=dict(title='Percentage Change'),\n",
        "    showlegend=True\n",
        ")"
      ],
      "metadata": {
        "colab": {
          "base_uri": "https://localhost:8080/",
          "height": 542
        },
        "id": "hbuiApTO-J9c",
        "outputId": "b694bf54-9c0e-40aa-e9c2-7fa4f0856588"
      },
      "execution_count": null,
      "outputs": [
        {
          "output_type": "display_data",
          "data": {
            "text/html": [
              "<html>\n",
              "<head><meta charset=\"utf-8\" /></head>\n",
              "<body>\n",
              "    <div>            <script src=\"https://cdnjs.cloudflare.com/ajax/libs/mathjax/2.7.5/MathJax.js?config=TeX-AMS-MML_SVG\"></script><script type=\"text/javascript\">if (window.MathJax && window.MathJax.Hub && window.MathJax.Hub.Config) {window.MathJax.Hub.Config({SVG: {font: \"STIX-Web\"}});}</script>                <script type=\"text/javascript\">window.PlotlyConfig = {MathJaxConfig: 'local'};</script>\n",
              "        <script charset=\"utf-8\" src=\"https://cdn.plot.ly/plotly-2.24.1.min.js\"></script>                <div id=\"72d968ed-f029-41b9-9d7a-e81b52a64f36\" class=\"plotly-graph-div\" style=\"height:525px; width:100%;\"></div>            <script type=\"text/javascript\">                                    window.PLOTLYENV=window.PLOTLYENV || {};                                    if (document.getElementById(\"72d968ed-f029-41b9-9d7a-e81b52a64f36\")) {                    Plotly.newPlot(                        \"72d968ed-f029-41b9-9d7a-e81b52a64f36\",                        [{\"name\":\"Dividend Percentage Change\",\"x\":[1995,1996,1997,1998,1999,2000,2001,2002,2003,2004,2005,2006,2007,2008,2009,2010,2011,2012,2013,2014,2015,2016,2017,2018,2019,2020,2021,2022,2023],\"y\":[null,0.33333333333333326,0.0,0.0,0.015618554768065396,-0.0030830579504126376,0.0,0.0092592592592593,0.0,0.02752293577981657,-0.0357142857142857,0.0,0.0,12.88888888888889,-0.6499999999999999,-0.6190476190476191,0.0,0.0,3.749999999999999,0.26315789473684204,0.25,0.06666666666666665,0.0,0.0,0.0,-0.375,1.6,-0.07692307692307698,0.0],\"type\":\"bar\"}],                        {\"template\":{\"data\":{\"histogram2dcontour\":[{\"type\":\"histogram2dcontour\",\"colorbar\":{\"outlinewidth\":0,\"ticks\":\"\"},\"colorscale\":[[0.0,\"#0d0887\"],[0.1111111111111111,\"#46039f\"],[0.2222222222222222,\"#7201a8\"],[0.3333333333333333,\"#9c179e\"],[0.4444444444444444,\"#bd3786\"],[0.5555555555555556,\"#d8576b\"],[0.6666666666666666,\"#ed7953\"],[0.7777777777777778,\"#fb9f3a\"],[0.8888888888888888,\"#fdca26\"],[1.0,\"#f0f921\"]]}],\"choropleth\":[{\"type\":\"choropleth\",\"colorbar\":{\"outlinewidth\":0,\"ticks\":\"\"}}],\"histogram2d\":[{\"type\":\"histogram2d\",\"colorbar\":{\"outlinewidth\":0,\"ticks\":\"\"},\"colorscale\":[[0.0,\"#0d0887\"],[0.1111111111111111,\"#46039f\"],[0.2222222222222222,\"#7201a8\"],[0.3333333333333333,\"#9c179e\"],[0.4444444444444444,\"#bd3786\"],[0.5555555555555556,\"#d8576b\"],[0.6666666666666666,\"#ed7953\"],[0.7777777777777778,\"#fb9f3a\"],[0.8888888888888888,\"#fdca26\"],[1.0,\"#f0f921\"]]}],\"heatmap\":[{\"type\":\"heatmap\",\"colorbar\":{\"outlinewidth\":0,\"ticks\":\"\"},\"colorscale\":[[0.0,\"#0d0887\"],[0.1111111111111111,\"#46039f\"],[0.2222222222222222,\"#7201a8\"],[0.3333333333333333,\"#9c179e\"],[0.4444444444444444,\"#bd3786\"],[0.5555555555555556,\"#d8576b\"],[0.6666666666666666,\"#ed7953\"],[0.7777777777777778,\"#fb9f3a\"],[0.8888888888888888,\"#fdca26\"],[1.0,\"#f0f921\"]]}],\"heatmapgl\":[{\"type\":\"heatmapgl\",\"colorbar\":{\"outlinewidth\":0,\"ticks\":\"\"},\"colorscale\":[[0.0,\"#0d0887\"],[0.1111111111111111,\"#46039f\"],[0.2222222222222222,\"#7201a8\"],[0.3333333333333333,\"#9c179e\"],[0.4444444444444444,\"#bd3786\"],[0.5555555555555556,\"#d8576b\"],[0.6666666666666666,\"#ed7953\"],[0.7777777777777778,\"#fb9f3a\"],[0.8888888888888888,\"#fdca26\"],[1.0,\"#f0f921\"]]}],\"contourcarpet\":[{\"type\":\"contourcarpet\",\"colorbar\":{\"outlinewidth\":0,\"ticks\":\"\"}}],\"contour\":[{\"type\":\"contour\",\"colorbar\":{\"outlinewidth\":0,\"ticks\":\"\"},\"colorscale\":[[0.0,\"#0d0887\"],[0.1111111111111111,\"#46039f\"],[0.2222222222222222,\"#7201a8\"],[0.3333333333333333,\"#9c179e\"],[0.4444444444444444,\"#bd3786\"],[0.5555555555555556,\"#d8576b\"],[0.6666666666666666,\"#ed7953\"],[0.7777777777777778,\"#fb9f3a\"],[0.8888888888888888,\"#fdca26\"],[1.0,\"#f0f921\"]]}],\"surface\":[{\"type\":\"surface\",\"colorbar\":{\"outlinewidth\":0,\"ticks\":\"\"},\"colorscale\":[[0.0,\"#0d0887\"],[0.1111111111111111,\"#46039f\"],[0.2222222222222222,\"#7201a8\"],[0.3333333333333333,\"#9c179e\"],[0.4444444444444444,\"#bd3786\"],[0.5555555555555556,\"#d8576b\"],[0.6666666666666666,\"#ed7953\"],[0.7777777777777778,\"#fb9f3a\"],[0.8888888888888888,\"#fdca26\"],[1.0,\"#f0f921\"]]}],\"mesh3d\":[{\"type\":\"mesh3d\",\"colorbar\":{\"outlinewidth\":0,\"ticks\":\"\"}}],\"scatter\":[{\"fillpattern\":{\"fillmode\":\"overlay\",\"size\":10,\"solidity\":0.2},\"type\":\"scatter\"}],\"parcoords\":[{\"type\":\"parcoords\",\"line\":{\"colorbar\":{\"outlinewidth\":0,\"ticks\":\"\"}}}],\"scatterpolargl\":[{\"type\":\"scatterpolargl\",\"marker\":{\"colorbar\":{\"outlinewidth\":0,\"ticks\":\"\"}}}],\"bar\":[{\"error_x\":{\"color\":\"#2a3f5f\"},\"error_y\":{\"color\":\"#2a3f5f\"},\"marker\":{\"line\":{\"color\":\"#E5ECF6\",\"width\":0.5},\"pattern\":{\"fillmode\":\"overlay\",\"size\":10,\"solidity\":0.2}},\"type\":\"bar\"}],\"scattergeo\":[{\"type\":\"scattergeo\",\"marker\":{\"colorbar\":{\"outlinewidth\":0,\"ticks\":\"\"}}}],\"scatterpolar\":[{\"type\":\"scatterpolar\",\"marker\":{\"colorbar\":{\"outlinewidth\":0,\"ticks\":\"\"}}}],\"histogram\":[{\"marker\":{\"pattern\":{\"fillmode\":\"overlay\",\"size\":10,\"solidity\":0.2}},\"type\":\"histogram\"}],\"scattergl\":[{\"type\":\"scattergl\",\"marker\":{\"colorbar\":{\"outlinewidth\":0,\"ticks\":\"\"}}}],\"scatter3d\":[{\"type\":\"scatter3d\",\"line\":{\"colorbar\":{\"outlinewidth\":0,\"ticks\":\"\"}},\"marker\":{\"colorbar\":{\"outlinewidth\":0,\"ticks\":\"\"}}}],\"scattermapbox\":[{\"type\":\"scattermapbox\",\"marker\":{\"colorbar\":{\"outlinewidth\":0,\"ticks\":\"\"}}}],\"scatterternary\":[{\"type\":\"scatterternary\",\"marker\":{\"colorbar\":{\"outlinewidth\":0,\"ticks\":\"\"}}}],\"scattercarpet\":[{\"type\":\"scattercarpet\",\"marker\":{\"colorbar\":{\"outlinewidth\":0,\"ticks\":\"\"}}}],\"carpet\":[{\"aaxis\":{\"endlinecolor\":\"#2a3f5f\",\"gridcolor\":\"white\",\"linecolor\":\"white\",\"minorgridcolor\":\"white\",\"startlinecolor\":\"#2a3f5f\"},\"baxis\":{\"endlinecolor\":\"#2a3f5f\",\"gridcolor\":\"white\",\"linecolor\":\"white\",\"minorgridcolor\":\"white\",\"startlinecolor\":\"#2a3f5f\"},\"type\":\"carpet\"}],\"table\":[{\"cells\":{\"fill\":{\"color\":\"#EBF0F8\"},\"line\":{\"color\":\"white\"}},\"header\":{\"fill\":{\"color\":\"#C8D4E3\"},\"line\":{\"color\":\"white\"}},\"type\":\"table\"}],\"barpolar\":[{\"marker\":{\"line\":{\"color\":\"#E5ECF6\",\"width\":0.5},\"pattern\":{\"fillmode\":\"overlay\",\"size\":10,\"solidity\":0.2}},\"type\":\"barpolar\"}],\"pie\":[{\"automargin\":true,\"type\":\"pie\"}]},\"layout\":{\"autotypenumbers\":\"strict\",\"colorway\":[\"#636efa\",\"#EF553B\",\"#00cc96\",\"#ab63fa\",\"#FFA15A\",\"#19d3f3\",\"#FF6692\",\"#B6E880\",\"#FF97FF\",\"#FECB52\"],\"font\":{\"color\":\"#2a3f5f\"},\"hovermode\":\"closest\",\"hoverlabel\":{\"align\":\"left\"},\"paper_bgcolor\":\"white\",\"plot_bgcolor\":\"#E5ECF6\",\"polar\":{\"bgcolor\":\"#E5ECF6\",\"angularaxis\":{\"gridcolor\":\"white\",\"linecolor\":\"white\",\"ticks\":\"\"},\"radialaxis\":{\"gridcolor\":\"white\",\"linecolor\":\"white\",\"ticks\":\"\"}},\"ternary\":{\"bgcolor\":\"#E5ECF6\",\"aaxis\":{\"gridcolor\":\"white\",\"linecolor\":\"white\",\"ticks\":\"\"},\"baxis\":{\"gridcolor\":\"white\",\"linecolor\":\"white\",\"ticks\":\"\"},\"caxis\":{\"gridcolor\":\"white\",\"linecolor\":\"white\",\"ticks\":\"\"}},\"coloraxis\":{\"colorbar\":{\"outlinewidth\":0,\"ticks\":\"\"}},\"colorscale\":{\"sequential\":[[0.0,\"#0d0887\"],[0.1111111111111111,\"#46039f\"],[0.2222222222222222,\"#7201a8\"],[0.3333333333333333,\"#9c179e\"],[0.4444444444444444,\"#bd3786\"],[0.5555555555555556,\"#d8576b\"],[0.6666666666666666,\"#ed7953\"],[0.7777777777777778,\"#fb9f3a\"],[0.8888888888888888,\"#fdca26\"],[1.0,\"#f0f921\"]],\"sequentialminus\":[[0.0,\"#0d0887\"],[0.1111111111111111,\"#46039f\"],[0.2222222222222222,\"#7201a8\"],[0.3333333333333333,\"#9c179e\"],[0.4444444444444444,\"#bd3786\"],[0.5555555555555556,\"#d8576b\"],[0.6666666666666666,\"#ed7953\"],[0.7777777777777778,\"#fb9f3a\"],[0.8888888888888888,\"#fdca26\"],[1.0,\"#f0f921\"]],\"diverging\":[[0,\"#8e0152\"],[0.1,\"#c51b7d\"],[0.2,\"#de77ae\"],[0.3,\"#f1b6da\"],[0.4,\"#fde0ef\"],[0.5,\"#f7f7f7\"],[0.6,\"#e6f5d0\"],[0.7,\"#b8e186\"],[0.8,\"#7fbc41\"],[0.9,\"#4d9221\"],[1,\"#276419\"]]},\"xaxis\":{\"gridcolor\":\"white\",\"linecolor\":\"white\",\"ticks\":\"\",\"title\":{\"standoff\":15},\"zerolinecolor\":\"white\",\"automargin\":true,\"zerolinewidth\":2},\"yaxis\":{\"gridcolor\":\"white\",\"linecolor\":\"white\",\"ticks\":\"\",\"title\":{\"standoff\":15},\"zerolinecolor\":\"white\",\"automargin\":true,\"zerolinewidth\":2},\"scene\":{\"xaxis\":{\"backgroundcolor\":\"#E5ECF6\",\"gridcolor\":\"white\",\"linecolor\":\"white\",\"showbackground\":true,\"ticks\":\"\",\"zerolinecolor\":\"white\",\"gridwidth\":2},\"yaxis\":{\"backgroundcolor\":\"#E5ECF6\",\"gridcolor\":\"white\",\"linecolor\":\"white\",\"showbackground\":true,\"ticks\":\"\",\"zerolinecolor\":\"white\",\"gridwidth\":2},\"zaxis\":{\"backgroundcolor\":\"#E5ECF6\",\"gridcolor\":\"white\",\"linecolor\":\"white\",\"showbackground\":true,\"ticks\":\"\",\"zerolinecolor\":\"white\",\"gridwidth\":2}},\"shapedefaults\":{\"line\":{\"color\":\"#2a3f5f\"}},\"annotationdefaults\":{\"arrowcolor\":\"#2a3f5f\",\"arrowhead\":0,\"arrowwidth\":1},\"geo\":{\"bgcolor\":\"white\",\"landcolor\":\"#E5ECF6\",\"subunitcolor\":\"white\",\"showland\":true,\"showlakes\":true,\"lakecolor\":\"white\"},\"title\":{\"x\":0.05},\"mapbox\":{\"style\":\"light\"}}},\"title\":{\"text\":\"Capital One Dividend Percentage Change Over Time\"},\"xaxis\":{\"title\":{\"text\":\"Year\"}},\"yaxis\":{\"title\":{\"text\":\"Percentage Change\"}},\"showlegend\":true},                        {\"responsive\": true}                    ).then(function(){\n",
              "                            \n",
              "var gd = document.getElementById('72d968ed-f029-41b9-9d7a-e81b52a64f36');\n",
              "var x = new MutationObserver(function (mutations, observer) {{\n",
              "        var display = window.getComputedStyle(gd).display;\n",
              "        if (!display || display === 'none') {{\n",
              "            console.log([gd, 'removed!']);\n",
              "            Plotly.purge(gd);\n",
              "            observer.disconnect();\n",
              "        }}\n",
              "}});\n",
              "\n",
              "// Listen for the removal of the full notebook cells\n",
              "var notebookContainer = gd.closest('#notebook-container');\n",
              "if (notebookContainer) {{\n",
              "    x.observe(notebookContainer, {childList: true});\n",
              "}}\n",
              "\n",
              "// Listen for the clearing of the current output cell\n",
              "var outputEl = gd.closest('.output');\n",
              "if (outputEl) {{\n",
              "    x.observe(outputEl, {childList: true});\n",
              "}}\n",
              "\n",
              "                        })                };                            </script>        </div>\n",
              "</body>\n",
              "</html>"
            ]
          },
          "metadata": {}
        }
      ]
    },
    {
      "cell_type": "markdown",
      "source": [
        "![Screenshot 2024-02-02 at 9.49.37 PM.png](data:image/png;base64,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)"
      ],
      "metadata": {
        "id": "KAyDvmuT3yMD"
      }
    },
    {
      "cell_type": "code",
      "source": [
        "fig = go.Figure()\n",
        "\n",
        "for col in ['Free Cash Flow', 'Interest Expense', 'Tax Provision', 'Pretax Income', 'FCF']:\n",
        "    fig.add_trace(go.Bar(x=values['Date'], y=values[col], name=col))\n",
        "\n",
        "fig.update_layout(\n",
        "    title='Capital One FCFF Over Time',\n",
        "    xaxis=dict(title='Date'),\n",
        "    yaxis=dict(title='Amount'),\n",
        "    barmode='stack',\n",
        "    showlegend=True\n",
        ")\n",
        "\n",
        "fig.show()"
      ],
      "metadata": {
        "colab": {
          "base_uri": "https://localhost:8080/",
          "height": 542
        },
        "id": "cZvhxRIAAgx8",
        "outputId": "99d75e3a-3214-430d-945b-fa7aa5781b49"
      },
      "execution_count": null,
      "outputs": [
        {
          "output_type": "display_data",
          "data": {
            "text/html": [
              "<html>\n",
              "<head><meta charset=\"utf-8\" /></head>\n",
              "<body>\n",
              "    <div>            <script src=\"https://cdnjs.cloudflare.com/ajax/libs/mathjax/2.7.5/MathJax.js?config=TeX-AMS-MML_SVG\"></script><script type=\"text/javascript\">if (window.MathJax && window.MathJax.Hub && window.MathJax.Hub.Config) {window.MathJax.Hub.Config({SVG: {font: \"STIX-Web\"}});}</script>                <script type=\"text/javascript\">window.PlotlyConfig = {MathJaxConfig: 'local'};</script>\n",
              "        <script charset=\"utf-8\" src=\"https://cdn.plot.ly/plotly-2.24.1.min.js\"></script>                <div id=\"c1bf8a50-3265-4cd8-aa4b-08329be72ff0\" class=\"plotly-graph-div\" style=\"height:525px; width:100%;\"></div>            <script type=\"text/javascript\">                                    window.PLOTLYENV=window.PLOTLYENV || {};                                    if (document.getElementById(\"c1bf8a50-3265-4cd8-aa4b-08329be72ff0\")) {                    Plotly.newPlot(                        \"c1bf8a50-3265-4cd8-aa4b-08329be72ff0\",                        [{\"name\":\"Free Cash Flow\",\"x\":[2022,2021,2020,2019],\"y\":[12875000,11612000,15989000,15752000],\"type\":\"bar\"},{\"name\":\"Interest Expense\",\"x\":[2022,2021,2020,2019],\"y\":[19412000,16470000,14716000,14994000],\"type\":\"bar\"},{\"name\":\"Tax Provision\",\"x\":[2022,2021,2020,2019],\"y\":[1880000,3415000,486000,1341000],\"type\":\"bar\"},{\"name\":\"Pretax Income\",\"x\":[2022,2021,2020,2019],\"y\":[9240000,15809000,3203000,6874000],\"type\":\"bar\"},{\"name\":\"FCF\",\"x\":[2022,2021,2020,2019],\"y\":[28337372.294372294,24524213.29622367,28472100.842959724,27820926.6802444],\"type\":\"bar\"}],                        {\"template\":{\"data\":{\"histogram2dcontour\":[{\"type\":\"histogram2dcontour\",\"colorbar\":{\"outlinewidth\":0,\"ticks\":\"\"},\"colorscale\":[[0.0,\"#0d0887\"],[0.1111111111111111,\"#46039f\"],[0.2222222222222222,\"#7201a8\"],[0.3333333333333333,\"#9c179e\"],[0.4444444444444444,\"#bd3786\"],[0.5555555555555556,\"#d8576b\"],[0.6666666666666666,\"#ed7953\"],[0.7777777777777778,\"#fb9f3a\"],[0.8888888888888888,\"#fdca26\"],[1.0,\"#f0f921\"]]}],\"choropleth\":[{\"type\":\"choropleth\",\"colorbar\":{\"outlinewidth\":0,\"ticks\":\"\"}}],\"histogram2d\":[{\"type\":\"histogram2d\",\"colorbar\":{\"outlinewidth\":0,\"ticks\":\"\"},\"colorscale\":[[0.0,\"#0d0887\"],[0.1111111111111111,\"#46039f\"],[0.2222222222222222,\"#7201a8\"],[0.3333333333333333,\"#9c179e\"],[0.4444444444444444,\"#bd3786\"],[0.5555555555555556,\"#d8576b\"],[0.6666666666666666,\"#ed7953\"],[0.7777777777777778,\"#fb9f3a\"],[0.8888888888888888,\"#fdca26\"],[1.0,\"#f0f921\"]]}],\"heatmap\":[{\"type\":\"heatmap\",\"colorbar\":{\"outlinewidth\":0,\"ticks\":\"\"},\"colorscale\":[[0.0,\"#0d0887\"],[0.1111111111111111,\"#46039f\"],[0.2222222222222222,\"#7201a8\"],[0.3333333333333333,\"#9c179e\"],[0.4444444444444444,\"#bd3786\"],[0.5555555555555556,\"#d8576b\"],[0.6666666666666666,\"#ed7953\"],[0.7777777777777778,\"#fb9f3a\"],[0.8888888888888888,\"#fdca26\"],[1.0,\"#f0f921\"]]}],\"heatmapgl\":[{\"type\":\"heatmapgl\",\"colorbar\":{\"outlinewidth\":0,\"ticks\":\"\"},\"colorscale\":[[0.0,\"#0d0887\"],[0.1111111111111111,\"#46039f\"],[0.2222222222222222,\"#7201a8\"],[0.3333333333333333,\"#9c179e\"],[0.4444444444444444,\"#bd3786\"],[0.5555555555555556,\"#d8576b\"],[0.6666666666666666,\"#ed7953\"],[0.7777777777777778,\"#fb9f3a\"],[0.8888888888888888,\"#fdca26\"],[1.0,\"#f0f921\"]]}],\"contourcarpet\":[{\"type\":\"contourcarpet\",\"colorbar\":{\"outlinewidth\":0,\"ticks\":\"\"}}],\"contour\":[{\"type\":\"contour\",\"colorbar\":{\"outlinewidth\":0,\"ticks\":\"\"},\"colorscale\":[[0.0,\"#0d0887\"],[0.1111111111111111,\"#46039f\"],[0.2222222222222222,\"#7201a8\"],[0.3333333333333333,\"#9c179e\"],[0.4444444444444444,\"#bd3786\"],[0.5555555555555556,\"#d8576b\"],[0.6666666666666666,\"#ed7953\"],[0.7777777777777778,\"#fb9f3a\"],[0.8888888888888888,\"#fdca26\"],[1.0,\"#f0f921\"]]}],\"surface\":[{\"type\":\"surface\",\"colorbar\":{\"outlinewidth\":0,\"ticks\":\"\"},\"colorscale\":[[0.0,\"#0d0887\"],[0.1111111111111111,\"#46039f\"],[0.2222222222222222,\"#7201a8\"],[0.3333333333333333,\"#9c179e\"],[0.4444444444444444,\"#bd3786\"],[0.5555555555555556,\"#d8576b\"],[0.6666666666666666,\"#ed7953\"],[0.7777777777777778,\"#fb9f3a\"],[0.8888888888888888,\"#fdca26\"],[1.0,\"#f0f921\"]]}],\"mesh3d\":[{\"type\":\"mesh3d\",\"colorbar\":{\"outlinewidth\":0,\"ticks\":\"\"}}],\"scatter\":[{\"fillpattern\":{\"fillmode\":\"overlay\",\"size\":10,\"solidity\":0.2},\"type\":\"scatter\"}],\"parcoords\":[{\"type\":\"parcoords\",\"line\":{\"colorbar\":{\"outlinewidth\":0,\"ticks\":\"\"}}}],\"scatterpolargl\":[{\"type\":\"scatterpolargl\",\"marker\":{\"colorbar\":{\"outlinewidth\":0,\"ticks\":\"\"}}}],\"bar\":[{\"error_x\":{\"color\":\"#2a3f5f\"},\"error_y\":{\"color\":\"#2a3f5f\"},\"marker\":{\"line\":{\"color\":\"#E5ECF6\",\"width\":0.5},\"pattern\":{\"fillmode\":\"overlay\",\"size\":10,\"solidity\":0.2}},\"type\":\"bar\"}],\"scattergeo\":[{\"type\":\"scattergeo\",\"marker\":{\"colorbar\":{\"outlinewidth\":0,\"ticks\":\"\"}}}],\"scatterpolar\":[{\"type\":\"scatterpolar\",\"marker\":{\"colorbar\":{\"outlinewidth\":0,\"ticks\":\"\"}}}],\"histogram\":[{\"marker\":{\"pattern\":{\"fillmode\":\"overlay\",\"size\":10,\"solidity\":0.2}},\"type\":\"histogram\"}],\"scattergl\":[{\"type\":\"scattergl\",\"marker\":{\"colorbar\":{\"outlinewidth\":0,\"ticks\":\"\"}}}],\"scatter3d\":[{\"type\":\"scatter3d\",\"line\":{\"colorbar\":{\"outlinewidth\":0,\"ticks\":\"\"}},\"marker\":{\"colorbar\":{\"outlinewidth\":0,\"ticks\":\"\"}}}],\"scattermapbox\":[{\"type\":\"scattermapbox\",\"marker\":{\"colorbar\":{\"outlinewidth\":0,\"ticks\":\"\"}}}],\"scatterternary\":[{\"type\":\"scatterternary\",\"marker\":{\"colorbar\":{\"outlinewidth\":0,\"ticks\":\"\"}}}],\"scattercarpet\":[{\"type\":\"scattercarpet\",\"marker\":{\"colorbar\":{\"outlinewidth\":0,\"ticks\":\"\"}}}],\"carpet\":[{\"aaxis\":{\"endlinecolor\":\"#2a3f5f\",\"gridcolor\":\"white\",\"linecolor\":\"white\",\"minorgridcolor\":\"white\",\"startlinecolor\":\"#2a3f5f\"},\"baxis\":{\"endlinecolor\":\"#2a3f5f\",\"gridcolor\":\"white\",\"linecolor\":\"white\",\"minorgridcolor\":\"white\",\"startlinecolor\":\"#2a3f5f\"},\"type\":\"carpet\"}],\"table\":[{\"cells\":{\"fill\":{\"color\":\"#EBF0F8\"},\"line\":{\"color\":\"white\"}},\"header\":{\"fill\":{\"color\":\"#C8D4E3\"},\"line\":{\"color\":\"white\"}},\"type\":\"table\"}],\"barpolar\":[{\"marker\":{\"line\":{\"color\":\"#E5ECF6\",\"width\":0.5},\"pattern\":{\"fillmode\":\"overlay\",\"size\":10,\"solidity\":0.2}},\"type\":\"barpolar\"}],\"pie\":[{\"automargin\":true,\"type\":\"pie\"}]},\"layout\":{\"autotypenumbers\":\"strict\",\"colorway\":[\"#636efa\",\"#EF553B\",\"#00cc96\",\"#ab63fa\",\"#FFA15A\",\"#19d3f3\",\"#FF6692\",\"#B6E880\",\"#FF97FF\",\"#FECB52\"],\"font\":{\"color\":\"#2a3f5f\"},\"hovermode\":\"closest\",\"hoverlabel\":{\"align\":\"left\"},\"paper_bgcolor\":\"white\",\"plot_bgcolor\":\"#E5ECF6\",\"polar\":{\"bgcolor\":\"#E5ECF6\",\"angularaxis\":{\"gridcolor\":\"white\",\"linecolor\":\"white\",\"ticks\":\"\"},\"radialaxis\":{\"gridcolor\":\"white\",\"linecolor\":\"white\",\"ticks\":\"\"}},\"ternary\":{\"bgcolor\":\"#E5ECF6\",\"aaxis\":{\"gridcolor\":\"white\",\"linecolor\":\"white\",\"ticks\":\"\"},\"baxis\":{\"gridcolor\":\"white\",\"linecolor\":\"white\",\"ticks\":\"\"},\"caxis\":{\"gridcolor\":\"white\",\"linecolor\":\"white\",\"ticks\":\"\"}},\"coloraxis\":{\"colorbar\":{\"outlinewidth\":0,\"ticks\":\"\"}},\"colorscale\":{\"sequential\":[[0.0,\"#0d0887\"],[0.1111111111111111,\"#46039f\"],[0.2222222222222222,\"#7201a8\"],[0.3333333333333333,\"#9c179e\"],[0.4444444444444444,\"#bd3786\"],[0.5555555555555556,\"#d8576b\"],[0.6666666666666666,\"#ed7953\"],[0.7777777777777778,\"#fb9f3a\"],[0.8888888888888888,\"#fdca26\"],[1.0,\"#f0f921\"]],\"sequentialminus\":[[0.0,\"#0d0887\"],[0.1111111111111111,\"#46039f\"],[0.2222222222222222,\"#7201a8\"],[0.3333333333333333,\"#9c179e\"],[0.4444444444444444,\"#bd3786\"],[0.5555555555555556,\"#d8576b\"],[0.6666666666666666,\"#ed7953\"],[0.7777777777777778,\"#fb9f3a\"],[0.8888888888888888,\"#fdca26\"],[1.0,\"#f0f921\"]],\"diverging\":[[0,\"#8e0152\"],[0.1,\"#c51b7d\"],[0.2,\"#de77ae\"],[0.3,\"#f1b6da\"],[0.4,\"#fde0ef\"],[0.5,\"#f7f7f7\"],[0.6,\"#e6f5d0\"],[0.7,\"#b8e186\"],[0.8,\"#7fbc41\"],[0.9,\"#4d9221\"],[1,\"#276419\"]]},\"xaxis\":{\"gridcolor\":\"white\",\"linecolor\":\"white\",\"ticks\":\"\",\"title\":{\"standoff\":15},\"zerolinecolor\":\"white\",\"automargin\":true,\"zerolinewidth\":2},\"yaxis\":{\"gridcolor\":\"white\",\"linecolor\":\"white\",\"ticks\":\"\",\"title\":{\"standoff\":15},\"zerolinecolor\":\"white\",\"automargin\":true,\"zerolinewidth\":2},\"scene\":{\"xaxis\":{\"backgroundcolor\":\"#E5ECF6\",\"gridcolor\":\"white\",\"linecolor\":\"white\",\"showbackground\":true,\"ticks\":\"\",\"zerolinecolor\":\"white\",\"gridwidth\":2},\"yaxis\":{\"backgroundcolor\":\"#E5ECF6\",\"gridcolor\":\"white\",\"linecolor\":\"white\",\"showbackground\":true,\"ticks\":\"\",\"zerolinecolor\":\"white\",\"gridwidth\":2},\"zaxis\":{\"backgroundcolor\":\"#E5ECF6\",\"gridcolor\":\"white\",\"linecolor\":\"white\",\"showbackground\":true,\"ticks\":\"\",\"zerolinecolor\":\"white\",\"gridwidth\":2}},\"shapedefaults\":{\"line\":{\"color\":\"#2a3f5f\"}},\"annotationdefaults\":{\"arrowcolor\":\"#2a3f5f\",\"arrowhead\":0,\"arrowwidth\":1},\"geo\":{\"bgcolor\":\"white\",\"landcolor\":\"#E5ECF6\",\"subunitcolor\":\"white\",\"showland\":true,\"showlakes\":true,\"lakecolor\":\"white\"},\"title\":{\"x\":0.05},\"mapbox\":{\"style\":\"light\"}}},\"title\":{\"text\":\"Capital One FCFF Over Time\"},\"xaxis\":{\"title\":{\"text\":\"Date\"}},\"yaxis\":{\"title\":{\"text\":\"Amount\"}},\"barmode\":\"stack\",\"showlegend\":true},                        {\"responsive\": true}                    ).then(function(){\n",
              "                            \n",
              "var gd = document.getElementById('c1bf8a50-3265-4cd8-aa4b-08329be72ff0');\n",
              "var x = new MutationObserver(function (mutations, observer) {{\n",
              "        var display = window.getComputedStyle(gd).display;\n",
              "        if (!display || display === 'none') {{\n",
              "            console.log([gd, 'removed!']);\n",
              "            Plotly.purge(gd);\n",
              "            observer.disconnect();\n",
              "        }}\n",
              "}});\n",
              "\n",
              "// Listen for the removal of the full notebook cells\n",
              "var notebookContainer = gd.closest('#notebook-container');\n",
              "if (notebookContainer) {{\n",
              "    x.observe(notebookContainer, {childList: true});\n",
              "}}\n",
              "\n",
              "// Listen for the clearing of the current output cell\n",
              "var outputEl = gd.closest('.output');\n",
              "if (outputEl) {{\n",
              "    x.observe(outputEl, {childList: true});\n",
              "}}\n",
              "\n",
              "                        })                };                            </script>        </div>\n",
              "</body>\n",
              "</html>"
            ]
          },
          "metadata": {}
        }
      ]
    },
    {
      "cell_type": "markdown",
      "source": [
        "![Screenshot 2024-02-02 at 9.49.46 PM.png](data:image/png;base64,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)"
      ],
      "metadata": {
        "id": "4mnvGSBy4W83"
      }
    },
    {
      "cell_type": "markdown",
      "source": [
        "\n",
        "\n",
        "---\n",
        "\n",
        "\n",
        "---\n",
        "\n",
        "\n"
      ],
      "metadata": {
        "id": "lDu1xccCv8en"
      }
    },
    {
      "cell_type": "markdown",
      "source": [
        "# 6. Limitiations and Assumptions"
      ],
      "metadata": {
        "id": "wxLIL8HnvTiB"
      }
    },
    {
      "cell_type": "markdown",
      "source": [
        "It is crucial to consider the limitations and assumptions of the calculated models. In this section, we will delve deeper into understanding how these calculations may only be somewhat reliable. For instance, the Capital Asset Pricing Model (CAPM) has some significant drawbacks, such as the risk-free rates being volatile and changing quickly. It is important to keep in mind that assuming a risk-free rate is false since investors cannot borrow or lend at a rate that assumes a zero-risk rate of return. Similarly, the Gordon Growth Model, or DDM, assumes that the company will grow constantly, which is a false assumption in the real world. This model may lead to undervaluing of stocks since it does not consider non-dividend factors. Lastly, the Free Cash Flow Evaluation assumes that the company has no changes in working capital and does not account for depreciation, which may not accurately represent the company's financial situation.\n",
        "\n",
        "In terms of the analysis part, I encountered a challenge while obtaining the data. To access the Cashflows and Income Statement, I needed a Yahoo finance subscription, which required me to input the numbers into an Excel file and proceed with my calculations. Although there are better ways to handle data, this allowed me to complete the analysis.\n"
      ],
      "metadata": {
        "id": "f1D6Y4i9FU_6"
      }
    },
    {
      "cell_type": "markdown",
      "source": [
        "\n",
        "\n",
        "---\n",
        "\n",
        "\n"
      ],
      "metadata": {
        "id": "J8A495-UwA2P"
      }
    },
    {
      "cell_type": "markdown",
      "source": [
        "# 7. Conclusions"
      ],
      "metadata": {
        "id": "8LH6UfXyvewF"
      }
    },
    {
      "cell_type": "markdown",
      "source": [
        "This analysis of a COF stock relies on several financial models, including CAPM, DDM, and Free Cash Flow. It's important to note that these models have certain limitations and assumptions that may introduce some uncertainty to the calculations. The Free Cash Flow model suggests that the company generated a significant amount of cash flow in 2022, while the calculated expected loss of 85.9% is a cause for concern among investors.\n",
        "\n",
        "It's essential for investors to approach these findings with caution and to be aware of the uncertainties inherent in the models and the challenges associated with acquiring data. To make informed investment decisions, investors should conduct comprehensive due diligence, seek professional financial advice, and consider broader factors beyond just calculated metrics."
      ],
      "metadata": {
        "id": "ksPuTy6xccJ1"
      }
    },
    {
      "cell_type": "markdown",
      "source": [
        "\n",
        "\n",
        "---\n",
        "\n"
      ],
      "metadata": {
        "id": "Bg3QU4UhwDSF"
      }
    },
    {
      "cell_type": "markdown",
      "source": [
        "# 8. References"
      ],
      "metadata": {
        "id": "Sa5Se2tsvjGY"
      }
    },
    {
      "cell_type": "markdown",
      "source": [
        "\n",
        "- Aldahan, Reda. “Dividends Discount Model (DDM) in Python.” Medium, Python in Plain English, 31 Jan. 2022, python.plainenglish.io/dividends-discount-model-in-python-13c0f141a611.\n",
        "\n",
        "- (CodingFun), Jose Manu. “Gordon Growth Model with Python.” Medium, Towards Data Science, 20 Feb. 2020, towardsdatascience.com/gordon-growth-model-with-python-c2670c8022a9.\n",
        "\n",
        "- “Capital Asset Pricing Model (CAPM): All You Need to Know.” Nirmal Bang, www.nirmalbang.com/knowledge-center/capital-asset-pricing-model.html#:~:text=This%20model%20has%20a%20major,in%20a%20matter%20of%20days.&amp;text=Individual%20investors%20are%20not%20able,rate%20of%20return%20for%20calculations. Accessed 17 Dec. 2023.\n",
        "\n",
        "- Donnelly, Hugh. “Stock Valuation Using Free Cash Flow to the Firm with Python.” Medium, The Startup, 20 Nov. 2020, medium.com/swlh/stock-valuation-using-free-cash-flow-to-the-firm-with-python-9a2f0e8f308f.\n",
        "\n",
        "- “Gordon Growth Model.” Corporate Finance Institute, 9 Nov. 2023, corporatefinanceinstitute.com/resources/valuation/gordon-growth-model/#.\n",
        "\n",
        "- Investopedia, Investopedia, www.investopedia.com/. Accessed 16 Dec. 2023.\n",
        "\n",
        "- OpenAI. \"GPT-3.\" OpenAI, https://www.openai.com/.\n",
        "    - (Utilized for the visualizations)\n",
        "\n"
      ],
      "metadata": {
        "id": "ZIm6eD8rZ6y0"
      }
    },
    {
      "cell_type": "markdown",
      "source": [
        "\n",
        "\n",
        "---\n",
        "\n",
        "\n",
        "\n",
        "---\n",
        "\n",
        "\n"
      ],
      "metadata": {
        "id": "XisL76DPwGDo"
      }
    }
  ]
}