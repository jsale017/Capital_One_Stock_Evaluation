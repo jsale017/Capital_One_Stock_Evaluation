{
  "nbformat": 4,
  "nbformat_minor": 0,
  "metadata": {
    "colab": {
      "provenance": [],
      "mount_file_id": "1nG4c3RcRIqqLomzYPKRkilJVuyKQ4880",
      "authorship_tag": "ABX9TyNrZCLRzy+qcP0vyvtOrvOA",
      "include_colab_link": true
    },
    "kernelspec": {
      "name": "python3",
      "display_name": "Python 3"
    },
    "language_info": {
      "name": "python"
    }
  },
  "cells": [
    {
      "cell_type": "markdown",
      "metadata": {
        "id": "view-in-github",
        "colab_type": "text"
      },
      "source": [
        "<a href=\"https://colab.research.google.com/github/jsale017/Capital_One_Stock_Evaluation/blob/main/CapitalOne_Stock.ipynb\" target=\"_parent\"><img src=\"https://colab.research.google.com/assets/colab-badge.svg\" alt=\"Open In Colab\"/></a>"
      ]
    },
    {
      "cell_type": "code",
      "source": [
        "#pip install mpl_finance"
      ],
      "metadata": {
        "id": "SDPOEFNF5uli"
      },
      "execution_count": 252,
      "outputs": []
    },
    {
      "cell_type": "code",
      "source": [
        "#pip install --upgrade pandas_datareader"
      ],
      "metadata": {
        "id": "lbn7zIkA7BXY"
      },
      "execution_count": 253,
      "outputs": []
    },
    {
      "cell_type": "markdown",
      "source": [
        "# FIN 4502: Security Analysis\n",
        "\n",
        "### By: Jose Salerno\n",
        "\n",
        "---\n",
        "\n",
        "\n",
        "\n",
        "---\n",
        "\n"
      ],
      "metadata": {
        "id": "uvnjjZ29mHWm"
      }
    },
    {
      "cell_type": "markdown",
      "source": [
        "# Analyzing Capital One Historical Stock Data with Machine Learning\n",
        "---\n",
        "\n",
        "\n",
        "\n",
        "---\n",
        "\n"
      ],
      "metadata": {
        "id": "HwIHP6FqmZXf"
      }
    },
    {
      "cell_type": "markdown",
      "source": [
        "# Notebook Outline:"
      ],
      "metadata": {
        "id": "6TKLPUW2r6KG"
      }
    },
    {
      "cell_type": "markdown",
      "source": [
        "## 1. Motivation\n",
        "\n",
        "## 2. Introduction\n",
        "\n",
        "## 3. Exploratory Phase (EDA)\n",
        "\n",
        "## 4. Models Creation\n",
        "\n",
        "## 5. Visualizations\n",
        "\n",
        "## 6. Limitations\n",
        "\n",
        "## 7. Conclusion\n",
        "\n",
        "## 8. References\n",
        "\n",
        "---\n",
        "\n",
        "\n",
        "---\n",
        "\n",
        "\n",
        "\n",
        "\n",
        "\n",
        "\n"
      ],
      "metadata": {
        "id": "ToYER5LupWcu"
      }
    },
    {
      "cell_type": "markdown",
      "source": [
        "# 1. Motivation:\n",
        "As an undergraduate student at Florida International University, I developed a strong foundation in Finance, which led me to gain a comprehensive understanding of stock analysis and competitive performance evaluations. I had the opportunity to work on a project that involved analyzing a company's stock, which was a thrilling challenge that taught me how to use Excel and evaluate financial metrics such as the Capital Asset Pricing Model (CAPM), Dividend Discount Model (DDM), and Free Cash Flow Evaluations (FCF)\n",
        "\n",
        "As a graduate student pursuing a Master of Science in Business Analytics degree at Questrom School of Business at Boston University, I am excited to continue honing my analytical and programming skills. So, I embarked on the challenge of analyzing the stock of Capital One company, which allowed me to apply my improved insights and predictions."
      ],
      "metadata": {
        "id": "MMwTJse2mqWs"
      }
    },
    {
      "cell_type": "markdown",
      "source": [
        "## Background:\n",
        "\n",
        "1. What is the Beta?\n",
        "    - Beta is an important metric that helps investors understand the relationship between a stock's volatility and the systematic risk of the overall market. Specifically, Beta measures a stock's volatility by analyzing its correlation with the S&P, which is used as a benchmark for the market. If a stock has a Beta value that's higher than 1, it's considered to be more volatile than the market. To calculate a stock's Beta Coefficient, we divide its covariance by the variance. By understanding a stock's Beta, investors can determine whether it movement is correlated with the market. For example, if the market goes up, a stock with a high Beta value would also go up.\n",
        "\n",
        "2. What is the CAPM Model?\n",
        "    - The Capital Asset Pricing Model (CAPM) is a financial model that aims to calculate the expected return on investment based on the level of risk involved. Beta describes the connection between an asset's expected return and systematic risk in this model. Beta measures the volatility of a stock or portfolio relative to the market as a whole. The higher the Beta, the higher the risk, and thus, the higher the expected return.\n",
        "\n",
        "    - The CAPM establishes a linear relationship between the expected return on investment and the level of risk involved, as calculated by the Beta of a stock or portfolio, the risk-free rate (typically the Treasury bill rate), and the expected return on investment. By using this model, investors can make more informed decisions about where to invest their money based on their tolerance for risk and the potential return on investment.\n",
        "\n",
        "3. What is Dividend Discounted Model (DDM)?\n",
        "    - The Discounted Dividend Model (DDM) is a financial tool used by investors to estimate the value of a stock based on the potential returns from its future dividend payments.\n",
        "\n",
        "    - The DDM operates on the principle that the current market price of a share of stock is equal to the sum of all its future dividend payments, discounted back to the present day. This discounted value is determined using a discount rate, which is the rate of return an investor expects to receive on their investment.\n",
        "\n",
        "    - By using the DDM, investors can predict the future price of a stock by assuming that its dividends will grow at a fixed rate indefinitely. This allows investors to make informed decisions about whether to buy or sell a particular stock based on its expected future returns.\n",
        "\n",
        "4. What is the Free Cash FLow Evaluation?\n",
        "    - Free Cash Flow (FCF) is a financial metric that provides valuable insights into a company's financial health. Essentially, FCF represents the cash a company generates after accounting for expenses, including capital expenditures. However, unlike net income or earnings, FCF excludes non-cash expenses from the income statement.\n",
        "\n",
        "    - By evaluating FCF, investors, analysts, and other stakeholders can gain a better understanding of a company's cash-generating ability, which is critical for its long-term success. For instance, a company with a positive FCF indicates that it has enough cash to invest in growth opportunities, pay dividends, reduce debt, or buy back shares.\n",
        "\n",
        "\n",
        "---\n"
      ],
      "metadata": {
        "id": "Wwc-_Hxko7if"
      }
    },
    {
      "cell_type": "markdown",
      "source": [
        "# 2. Introduction"
      ],
      "metadata": {
        "id": "FbaQEdCeqfqn"
      }
    },
    {
      "cell_type": "markdown",
      "source": [
        "#### What is the aim of the project:\n",
        "\n",
        "- The purpose of this project is to delve into the details of various financial metrics and gain an in-depth understanding of how they are calculated. Additionally, the project seeks to gain a comprehensive understanding of how Capital One's stock performs in the market and how competitive it is compared to other players in the market. By studying these factors, the project aims to provide a detailed analysis that can assist in making informed financial decisions when it comes to investing in the COF stock."
      ],
      "metadata": {
        "id": "z7b50448qs1s"
      }
    },
    {
      "cell_type": "markdown",
      "source": [
        "#### Who is the Capital One:\n",
        "- Capital One is a highly reputable and well-known American financial institution that specializes in a range of financial services, including credit cards, auto loans, banking, and savings accounts. The company is committed to serving millions of customers across the United States and helping them achieve their financial goals. In addition to its core mission, Capital One is dedicated to improving the well-being of communities across the country by creating affordable housing, supporting black and Hispanic entrepreneurs, and more.\n",
        "\n",
        "- As a company that relies on data to better serve its customers, Capital One is committed to collecting and analyzing vast amounts of customer data to enhance the customer experience. This allows the company to personalize services, protect against fraud and potential risks, and comply with state and federal regulations. Capital One's use of data is both ethical and responsible, helping to ensure that customers can trust the company with their financial information. To delve deeper into the success of the company, I decided to analyze its competitive standing in the stock market.\n",
        "\n"
      ],
      "metadata": {
        "id": "fvyzZbawqlU8"
      }
    },
    {
      "cell_type": "markdown",
      "source": [
        "#### Data Source:\n",
        "- Source: Yahoo Finance\n",
        "- URL: https://finance.yahoo.com/quote/COF/"
      ],
      "metadata": {
        "id": "NuSMNqo3sFpm"
      }
    },
    {
      "cell_type": "markdown",
      "source": [
        "# 3. Exploratory Phase (EDA) and Cleaning"
      ],
      "metadata": {
        "id": "biO2HYwTq8dZ"
      }
    },
    {
      "cell_type": "code",
      "execution_count": 254,
      "metadata": {
        "id": "uLpYXttR5Nhm"
      },
      "outputs": [],
      "source": [
        "    # Importing necessary packages\n",
        "import numpy as np\n",
        "import pandas_datareader as pdr\n",
        "import datetime as dt\n",
        "import pandas as pd\n",
        "from sklearn.linear_model import LinearRegression\n",
        "import plotly.graph_objects as go\n",
        "import matplotlib.pyplot as plt\n",
        "%matplotlib notebook\n",
        "import mpl_finance as mpf\n",
        "import yfinance as yf\n",
        "from sklearn.model_selection import train_test_split"
      ]
    },
    {
      "cell_type": "code",
      "source": [
        "# Retriving data from Yahoo Finance\n",
        "start = '2018-01-01'\n",
        "end = dt.datetime.now()\n",
        "tickers = ['COF', '^GSPC']\n",
        "\n",
        "data = yf.download(tickers, start=start, end=end, interval='1mo')"
      ],
      "metadata": {
        "colab": {
          "base_uri": "https://localhost:8080/"
        },
        "id": "t3OpzT005lh8",
        "outputId": "d5c648b0-e5b4-49ea-9bfa-2ab47afe0035"
      },
      "execution_count": 255,
      "outputs": [
        {
          "output_type": "stream",
          "name": "stdout",
          "text": [
            "[*********************100%%**********************]  2 of 2 completed\n"
          ]
        }
      ]
    },
    {
      "cell_type": "code",
      "source": [
        "data = data.reset_index()"
      ],
      "metadata": {
        "id": "YMqolv4_6ohi"
      },
      "execution_count": 256,
      "outputs": []
    },
    {
      "cell_type": "code",
      "source": [
        "data.head()"
      ],
      "metadata": {
        "colab": {
          "base_uri": "https://localhost:8080/",
          "height": 237
        },
        "id": "UTFjnksODszY",
        "outputId": "0f4a4506-6c60-4b27-d5a0-3827ff6098f9"
      },
      "execution_count": 257,
      "outputs": [
        {
          "output_type": "execute_result",
          "data": {
            "text/plain": [
              "        Date  Adj Close                    Close                     High  \\\n",
              "                    COF        ^GSPC         COF        ^GSPC         COF   \n",
              "0 2018-01-01  93.190292  2823.810059  103.959999  2823.810059  106.500000   \n",
              "1 2018-02-01  87.784958  2713.830078   97.930000  2713.830078  104.879997   \n",
              "2 2018-03-01  86.269432  2640.870117   95.820000  2640.870117  101.440002   \n",
              "3 2018-04-01  81.587738  2648.050049   90.620003  2648.050049   99.150002   \n",
              "4 2018-05-01  84.630852  2705.270020   94.000000  2705.270020   97.870003   \n",
              "\n",
              "                      Low                     Open                 Volume  \\\n",
              "         ^GSPC        COF        ^GSPC         COF        ^GSPC       COF   \n",
              "0  2872.870117  98.750000  2682.360107  100.080002  2683.729980  51193200   \n",
              "1  2835.959961  88.750000  2532.689941  103.769997  2816.449951  47921500   \n",
              "2  2801.899902  92.389999  2585.889893   98.010002  2715.219971  44531300   \n",
              "3  2717.489990  90.589996  2553.800049   95.529999  2633.449951  54039300   \n",
              "4  2742.239990  86.949997  2594.620117   90.349998  2642.959961  64502000   \n",
              "\n",
              "                \n",
              "         ^GSPC  \n",
              "0  77318690000  \n",
              "1  79933970000  \n",
              "2  76803890000  \n",
              "3  70194700000  \n",
              "4  76011820000  "
            ],
            "text/html": [
              "\n",
              "  <div id=\"df-71fc367d-6f40-4811-b0ec-0b374046203a\" class=\"colab-df-container\">\n",
              "    <div>\n",
              "<style scoped>\n",
              "    .dataframe tbody tr th:only-of-type {\n",
              "        vertical-align: middle;\n",
              "    }\n",
              "\n",
              "    .dataframe tbody tr th {\n",
              "        vertical-align: top;\n",
              "    }\n",
              "\n",
              "    .dataframe thead tr th {\n",
              "        text-align: left;\n",
              "    }\n",
              "</style>\n",
              "<table border=\"1\" class=\"dataframe\">\n",
              "  <thead>\n",
              "    <tr>\n",
              "      <th></th>\n",
              "      <th>Date</th>\n",
              "      <th colspan=\"2\" halign=\"left\">Adj Close</th>\n",
              "      <th colspan=\"2\" halign=\"left\">Close</th>\n",
              "      <th colspan=\"2\" halign=\"left\">High</th>\n",
              "      <th colspan=\"2\" halign=\"left\">Low</th>\n",
              "      <th colspan=\"2\" halign=\"left\">Open</th>\n",
              "      <th colspan=\"2\" halign=\"left\">Volume</th>\n",
              "    </tr>\n",
              "    <tr>\n",
              "      <th></th>\n",
              "      <th></th>\n",
              "      <th>COF</th>\n",
              "      <th>^GSPC</th>\n",
              "      <th>COF</th>\n",
              "      <th>^GSPC</th>\n",
              "      <th>COF</th>\n",
              "      <th>^GSPC</th>\n",
              "      <th>COF</th>\n",
              "      <th>^GSPC</th>\n",
              "      <th>COF</th>\n",
              "      <th>^GSPC</th>\n",
              "      <th>COF</th>\n",
              "      <th>^GSPC</th>\n",
              "    </tr>\n",
              "  </thead>\n",
              "  <tbody>\n",
              "    <tr>\n",
              "      <th>0</th>\n",
              "      <td>2018-01-01</td>\n",
              "      <td>93.190292</td>\n",
              "      <td>2823.810059</td>\n",
              "      <td>103.959999</td>\n",
              "      <td>2823.810059</td>\n",
              "      <td>106.500000</td>\n",
              "      <td>2872.870117</td>\n",
              "      <td>98.750000</td>\n",
              "      <td>2682.360107</td>\n",
              "      <td>100.080002</td>\n",
              "      <td>2683.729980</td>\n",
              "      <td>51193200</td>\n",
              "      <td>77318690000</td>\n",
              "    </tr>\n",
              "    <tr>\n",
              "      <th>1</th>\n",
              "      <td>2018-02-01</td>\n",
              "      <td>87.784958</td>\n",
              "      <td>2713.830078</td>\n",
              "      <td>97.930000</td>\n",
              "      <td>2713.830078</td>\n",
              "      <td>104.879997</td>\n",
              "      <td>2835.959961</td>\n",
              "      <td>88.750000</td>\n",
              "      <td>2532.689941</td>\n",
              "      <td>103.769997</td>\n",
              "      <td>2816.449951</td>\n",
              "      <td>47921500</td>\n",
              "      <td>79933970000</td>\n",
              "    </tr>\n",
              "    <tr>\n",
              "      <th>2</th>\n",
              "      <td>2018-03-01</td>\n",
              "      <td>86.269432</td>\n",
              "      <td>2640.870117</td>\n",
              "      <td>95.820000</td>\n",
              "      <td>2640.870117</td>\n",
              "      <td>101.440002</td>\n",
              "      <td>2801.899902</td>\n",
              "      <td>92.389999</td>\n",
              "      <td>2585.889893</td>\n",
              "      <td>98.010002</td>\n",
              "      <td>2715.219971</td>\n",
              "      <td>44531300</td>\n",
              "      <td>76803890000</td>\n",
              "    </tr>\n",
              "    <tr>\n",
              "      <th>3</th>\n",
              "      <td>2018-04-01</td>\n",
              "      <td>81.587738</td>\n",
              "      <td>2648.050049</td>\n",
              "      <td>90.620003</td>\n",
              "      <td>2648.050049</td>\n",
              "      <td>99.150002</td>\n",
              "      <td>2717.489990</td>\n",
              "      <td>90.589996</td>\n",
              "      <td>2553.800049</td>\n",
              "      <td>95.529999</td>\n",
              "      <td>2633.449951</td>\n",
              "      <td>54039300</td>\n",
              "      <td>70194700000</td>\n",
              "    </tr>\n",
              "    <tr>\n",
              "      <th>4</th>\n",
              "      <td>2018-05-01</td>\n",
              "      <td>84.630852</td>\n",
              "      <td>2705.270020</td>\n",
              "      <td>94.000000</td>\n",
              "      <td>2705.270020</td>\n",
              "      <td>97.870003</td>\n",
              "      <td>2742.239990</td>\n",
              "      <td>86.949997</td>\n",
              "      <td>2594.620117</td>\n",
              "      <td>90.349998</td>\n",
              "      <td>2642.959961</td>\n",
              "      <td>64502000</td>\n",
              "      <td>76011820000</td>\n",
              "    </tr>\n",
              "  </tbody>\n",
              "</table>\n",
              "</div>\n",
              "    <div class=\"colab-df-buttons\">\n",
              "\n",
              "  <div class=\"colab-df-container\">\n",
              "    <button class=\"colab-df-convert\" onclick=\"convertToInteractive('df-71fc367d-6f40-4811-b0ec-0b374046203a')\"\n",
              "            title=\"Convert this dataframe to an interactive table.\"\n",
              "            style=\"display:none;\">\n",
              "\n",
              "  <svg xmlns=\"http://www.w3.org/2000/svg\" height=\"24px\" viewBox=\"0 -960 960 960\">\n",
              "    <path d=\"M120-120v-720h720v720H120Zm60-500h600v-160H180v160Zm220 220h160v-160H400v160Zm0 220h160v-160H400v160ZM180-400h160v-160H180v160Zm440 0h160v-160H620v160ZM180-180h160v-160H180v160Zm440 0h160v-160H620v160Z\"/>\n",
              "  </svg>\n",
              "    </button>\n",
              "\n",
              "  <style>\n",
              "    .colab-df-container {\n",
              "      display:flex;\n",
              "      gap: 12px;\n",
              "    }\n",
              "\n",
              "    .colab-df-convert {\n",
              "      background-color: #E8F0FE;\n",
              "      border: none;\n",
              "      border-radius: 50%;\n",
              "      cursor: pointer;\n",
              "      display: none;\n",
              "      fill: #1967D2;\n",
              "      height: 32px;\n",
              "      padding: 0 0 0 0;\n",
              "      width: 32px;\n",
              "    }\n",
              "\n",
              "    .colab-df-convert:hover {\n",
              "      background-color: #E2EBFA;\n",
              "      box-shadow: 0px 1px 2px rgba(60, 64, 67, 0.3), 0px 1px 3px 1px rgba(60, 64, 67, 0.15);\n",
              "      fill: #174EA6;\n",
              "    }\n",
              "\n",
              "    .colab-df-buttons div {\n",
              "      margin-bottom: 4px;\n",
              "    }\n",
              "\n",
              "    [theme=dark] .colab-df-convert {\n",
              "      background-color: #3B4455;\n",
              "      fill: #D2E3FC;\n",
              "    }\n",
              "\n",
              "    [theme=dark] .colab-df-convert:hover {\n",
              "      background-color: #434B5C;\n",
              "      box-shadow: 0px 1px 3px 1px rgba(0, 0, 0, 0.15);\n",
              "      filter: drop-shadow(0px 1px 2px rgba(0, 0, 0, 0.3));\n",
              "      fill: #FFFFFF;\n",
              "    }\n",
              "  </style>\n",
              "\n",
              "    <script>\n",
              "      const buttonEl =\n",
              "        document.querySelector('#df-71fc367d-6f40-4811-b0ec-0b374046203a button.colab-df-convert');\n",
              "      buttonEl.style.display =\n",
              "        google.colab.kernel.accessAllowed ? 'block' : 'none';\n",
              "\n",
              "      async function convertToInteractive(key) {\n",
              "        const element = document.querySelector('#df-71fc367d-6f40-4811-b0ec-0b374046203a');\n",
              "        const dataTable =\n",
              "          await google.colab.kernel.invokeFunction('convertToInteractive',\n",
              "                                                    [key], {});\n",
              "        if (!dataTable) return;\n",
              "\n",
              "        const docLinkHtml = 'Like what you see? Visit the ' +\n",
              "          '<a target=\"_blank\" href=https://colab.research.google.com/notebooks/data_table.ipynb>data table notebook</a>'\n",
              "          + ' to learn more about interactive tables.';\n",
              "        element.innerHTML = '';\n",
              "        dataTable['output_type'] = 'display_data';\n",
              "        await google.colab.output.renderOutput(dataTable, element);\n",
              "        const docLink = document.createElement('div');\n",
              "        docLink.innerHTML = docLinkHtml;\n",
              "        element.appendChild(docLink);\n",
              "      }\n",
              "    </script>\n",
              "  </div>\n",
              "\n",
              "\n",
              "<div id=\"df-dcac77e7-f534-429b-b868-e9024c292d69\">\n",
              "  <button class=\"colab-df-quickchart\" onclick=\"quickchart('df-dcac77e7-f534-429b-b868-e9024c292d69')\"\n",
              "            title=\"Suggest charts\"\n",
              "            style=\"display:none;\">\n",
              "\n",
              "<svg xmlns=\"http://www.w3.org/2000/svg\" height=\"24px\"viewBox=\"0 0 24 24\"\n",
              "     width=\"24px\">\n",
              "    <g>\n",
              "        <path d=\"M19 3H5c-1.1 0-2 .9-2 2v14c0 1.1.9 2 2 2h14c1.1 0 2-.9 2-2V5c0-1.1-.9-2-2-2zM9 17H7v-7h2v7zm4 0h-2V7h2v10zm4 0h-2v-4h2v4z\"/>\n",
              "    </g>\n",
              "</svg>\n",
              "  </button>\n",
              "\n",
              "<style>\n",
              "  .colab-df-quickchart {\n",
              "      --bg-color: #E8F0FE;\n",
              "      --fill-color: #1967D2;\n",
              "      --hover-bg-color: #E2EBFA;\n",
              "      --hover-fill-color: #174EA6;\n",
              "      --disabled-fill-color: #AAA;\n",
              "      --disabled-bg-color: #DDD;\n",
              "  }\n",
              "\n",
              "  [theme=dark] .colab-df-quickchart {\n",
              "      --bg-color: #3B4455;\n",
              "      --fill-color: #D2E3FC;\n",
              "      --hover-bg-color: #434B5C;\n",
              "      --hover-fill-color: #FFFFFF;\n",
              "      --disabled-bg-color: #3B4455;\n",
              "      --disabled-fill-color: #666;\n",
              "  }\n",
              "\n",
              "  .colab-df-quickchart {\n",
              "    background-color: var(--bg-color);\n",
              "    border: none;\n",
              "    border-radius: 50%;\n",
              "    cursor: pointer;\n",
              "    display: none;\n",
              "    fill: var(--fill-color);\n",
              "    height: 32px;\n",
              "    padding: 0;\n",
              "    width: 32px;\n",
              "  }\n",
              "\n",
              "  .colab-df-quickchart:hover {\n",
              "    background-color: var(--hover-bg-color);\n",
              "    box-shadow: 0 1px 2px rgba(60, 64, 67, 0.3), 0 1px 3px 1px rgba(60, 64, 67, 0.15);\n",
              "    fill: var(--button-hover-fill-color);\n",
              "  }\n",
              "\n",
              "  .colab-df-quickchart-complete:disabled,\n",
              "  .colab-df-quickchart-complete:disabled:hover {\n",
              "    background-color: var(--disabled-bg-color);\n",
              "    fill: var(--disabled-fill-color);\n",
              "    box-shadow: none;\n",
              "  }\n",
              "\n",
              "  .colab-df-spinner {\n",
              "    border: 2px solid var(--fill-color);\n",
              "    border-color: transparent;\n",
              "    border-bottom-color: var(--fill-color);\n",
              "    animation:\n",
              "      spin 1s steps(1) infinite;\n",
              "  }\n",
              "\n",
              "  @keyframes spin {\n",
              "    0% {\n",
              "      border-color: transparent;\n",
              "      border-bottom-color: var(--fill-color);\n",
              "      border-left-color: var(--fill-color);\n",
              "    }\n",
              "    20% {\n",
              "      border-color: transparent;\n",
              "      border-left-color: var(--fill-color);\n",
              "      border-top-color: var(--fill-color);\n",
              "    }\n",
              "    30% {\n",
              "      border-color: transparent;\n",
              "      border-left-color: var(--fill-color);\n",
              "      border-top-color: var(--fill-color);\n",
              "      border-right-color: var(--fill-color);\n",
              "    }\n",
              "    40% {\n",
              "      border-color: transparent;\n",
              "      border-right-color: var(--fill-color);\n",
              "      border-top-color: var(--fill-color);\n",
              "    }\n",
              "    60% {\n",
              "      border-color: transparent;\n",
              "      border-right-color: var(--fill-color);\n",
              "    }\n",
              "    80% {\n",
              "      border-color: transparent;\n",
              "      border-right-color: var(--fill-color);\n",
              "      border-bottom-color: var(--fill-color);\n",
              "    }\n",
              "    90% {\n",
              "      border-color: transparent;\n",
              "      border-bottom-color: var(--fill-color);\n",
              "    }\n",
              "  }\n",
              "</style>\n",
              "\n",
              "  <script>\n",
              "    async function quickchart(key) {\n",
              "      const quickchartButtonEl =\n",
              "        document.querySelector('#' + key + ' button');\n",
              "      quickchartButtonEl.disabled = true;  // To prevent multiple clicks.\n",
              "      quickchartButtonEl.classList.add('colab-df-spinner');\n",
              "      try {\n",
              "        const charts = await google.colab.kernel.invokeFunction(\n",
              "            'suggestCharts', [key], {});\n",
              "      } catch (error) {\n",
              "        console.error('Error during call to suggestCharts:', error);\n",
              "      }\n",
              "      quickchartButtonEl.classList.remove('colab-df-spinner');\n",
              "      quickchartButtonEl.classList.add('colab-df-quickchart-complete');\n",
              "    }\n",
              "    (() => {\n",
              "      let quickchartButtonEl =\n",
              "        document.querySelector('#df-dcac77e7-f534-429b-b868-e9024c292d69 button');\n",
              "      quickchartButtonEl.style.display =\n",
              "        google.colab.kernel.accessAllowed ? 'block' : 'none';\n",
              "    })();\n",
              "  </script>\n",
              "</div>\n",
              "    </div>\n",
              "  </div>\n"
            ]
          },
          "metadata": {},
          "execution_count": 257
        }
      ]
    },
    {
      "cell_type": "code",
      "source": [
        "data.info()"
      ],
      "metadata": {
        "colab": {
          "base_uri": "https://localhost:8080/"
        },
        "id": "nclsN7b37fJV",
        "outputId": "de64e03f-4b00-4718-f93f-956c11d6036a"
      },
      "execution_count": 258,
      "outputs": [
        {
          "output_type": "stream",
          "name": "stdout",
          "text": [
            "<class 'pandas.core.frame.DataFrame'>\n",
            "RangeIndex: 72 entries, 0 to 71\n",
            "Data columns (total 13 columns):\n",
            " #   Column              Non-Null Count  Dtype         \n",
            "---  ------              --------------  -----         \n",
            " 0   (Date, )            72 non-null     datetime64[ns]\n",
            " 1   (Adj Close, COF)    72 non-null     float64       \n",
            " 2   (Adj Close, ^GSPC)  72 non-null     float64       \n",
            " 3   (Close, COF)        72 non-null     float64       \n",
            " 4   (Close, ^GSPC)      72 non-null     float64       \n",
            " 5   (High, COF)         72 non-null     float64       \n",
            " 6   (High, ^GSPC)       72 non-null     float64       \n",
            " 7   (Low, COF)          72 non-null     float64       \n",
            " 8   (Low, ^GSPC)        72 non-null     float64       \n",
            " 9   (Open, COF)         72 non-null     float64       \n",
            " 10  (Open, ^GSPC)       72 non-null     float64       \n",
            " 11  (Volume, COF)       72 non-null     int64         \n",
            " 12  (Volume, ^GSPC)     72 non-null     int64         \n",
            "dtypes: datetime64[ns](1), float64(10), int64(2)\n",
            "memory usage: 7.4 KB\n"
          ]
        }
      ]
    },
    {
      "cell_type": "code",
      "source": [
        "data.describe()"
      ],
      "metadata": {
        "colab": {
          "base_uri": "https://localhost:8080/",
          "height": 332
        },
        "id": "eINvlMsk7hy7",
        "outputId": "7e7d2fd5-aadf-4912-c1b7-279b224df5e6"
      },
      "execution_count": 259,
      "outputs": [
        {
          "output_type": "execute_result",
          "data": {
            "text/plain": [
              "        Adj Close                    Close                     High  \\\n",
              "              COF        ^GSPC         COF        ^GSPC         COF   \n",
              "count   72.000000    72.000000   72.000000    72.000000   72.000000   \n",
              "mean    98.918086  3594.693193  104.576250  3594.693193  112.618056   \n",
              "std     26.151497   698.850890   26.446887   698.850890   27.350527   \n",
              "min     47.003143  2506.850098   50.419998  2506.850098   66.410004   \n",
              "25%     81.867592  2923.339966   90.385002  2923.339966   94.642502   \n",
              "50%     93.107952  3667.934937   98.969997  3667.934937  104.965000   \n",
              "75%    113.763641  4184.327393  117.514997  4184.327393  123.754997   \n",
              "max    157.125336  4766.180176  165.970001  4766.180176  177.949997   \n",
              "\n",
              "                           Low                     Open               \\\n",
              "             ^GSPC         COF        ^GSPC         COF        ^GSPC   \n",
              "count    72.000000   72.000000    72.000000   72.000000    72.000000   \n",
              "mean   3708.546658   96.801389  3431.329037  104.451945  3570.664717   \n",
              "std     705.822465   25.805133   679.289186   26.766876   697.468403   \n",
              "min    2708.949951   38.000000  2191.860107   46.430000  2476.959961   \n",
              "25%    2961.827454   84.582502  2788.915039   90.589998  2905.997498   \n",
              "50%    3815.549927   91.965000  3537.854980   99.485001  3627.825073   \n",
              "75%    4312.065063  105.190001  4068.604858  111.754997  4185.267334   \n",
              "max    4818.620117  155.460007  4560.000000  165.960007  4778.140137   \n",
              "\n",
              "             Volume                \n",
              "                COF         ^GSPC  \n",
              "count  7.200000e+01  7.200000e+01  \n",
              "mean   6.042483e+07  8.757628e+10  \n",
              "std    1.880996e+07  1.721338e+10  \n",
              "min    3.571710e+07  5.696825e+10  \n",
              "25%    4.930625e+07  7.727867e+10  \n",
              "50%    5.643885e+07  8.384082e+10  \n",
              "75%    6.517905e+07  9.312289e+10  \n",
              "max    1.337959e+08  1.621854e+11  "
            ],
            "text/html": [
              "\n",
              "  <div id=\"df-c988ebbb-420c-4837-91b4-d49370ee2668\" class=\"colab-df-container\">\n",
              "    <div>\n",
              "<style scoped>\n",
              "    .dataframe tbody tr th:only-of-type {\n",
              "        vertical-align: middle;\n",
              "    }\n",
              "\n",
              "    .dataframe tbody tr th {\n",
              "        vertical-align: top;\n",
              "    }\n",
              "\n",
              "    .dataframe thead tr th {\n",
              "        text-align: left;\n",
              "    }\n",
              "</style>\n",
              "<table border=\"1\" class=\"dataframe\">\n",
              "  <thead>\n",
              "    <tr>\n",
              "      <th></th>\n",
              "      <th colspan=\"2\" halign=\"left\">Adj Close</th>\n",
              "      <th colspan=\"2\" halign=\"left\">Close</th>\n",
              "      <th colspan=\"2\" halign=\"left\">High</th>\n",
              "      <th colspan=\"2\" halign=\"left\">Low</th>\n",
              "      <th colspan=\"2\" halign=\"left\">Open</th>\n",
              "      <th colspan=\"2\" halign=\"left\">Volume</th>\n",
              "    </tr>\n",
              "    <tr>\n",
              "      <th></th>\n",
              "      <th>COF</th>\n",
              "      <th>^GSPC</th>\n",
              "      <th>COF</th>\n",
              "      <th>^GSPC</th>\n",
              "      <th>COF</th>\n",
              "      <th>^GSPC</th>\n",
              "      <th>COF</th>\n",
              "      <th>^GSPC</th>\n",
              "      <th>COF</th>\n",
              "      <th>^GSPC</th>\n",
              "      <th>COF</th>\n",
              "      <th>^GSPC</th>\n",
              "    </tr>\n",
              "  </thead>\n",
              "  <tbody>\n",
              "    <tr>\n",
              "      <th>count</th>\n",
              "      <td>72.000000</td>\n",
              "      <td>72.000000</td>\n",
              "      <td>72.000000</td>\n",
              "      <td>72.000000</td>\n",
              "      <td>72.000000</td>\n",
              "      <td>72.000000</td>\n",
              "      <td>72.000000</td>\n",
              "      <td>72.000000</td>\n",
              "      <td>72.000000</td>\n",
              "      <td>72.000000</td>\n",
              "      <td>7.200000e+01</td>\n",
              "      <td>7.200000e+01</td>\n",
              "    </tr>\n",
              "    <tr>\n",
              "      <th>mean</th>\n",
              "      <td>98.918086</td>\n",
              "      <td>3594.693193</td>\n",
              "      <td>104.576250</td>\n",
              "      <td>3594.693193</td>\n",
              "      <td>112.618056</td>\n",
              "      <td>3708.546658</td>\n",
              "      <td>96.801389</td>\n",
              "      <td>3431.329037</td>\n",
              "      <td>104.451945</td>\n",
              "      <td>3570.664717</td>\n",
              "      <td>6.042483e+07</td>\n",
              "      <td>8.757628e+10</td>\n",
              "    </tr>\n",
              "    <tr>\n",
              "      <th>std</th>\n",
              "      <td>26.151497</td>\n",
              "      <td>698.850890</td>\n",
              "      <td>26.446887</td>\n",
              "      <td>698.850890</td>\n",
              "      <td>27.350527</td>\n",
              "      <td>705.822465</td>\n",
              "      <td>25.805133</td>\n",
              "      <td>679.289186</td>\n",
              "      <td>26.766876</td>\n",
              "      <td>697.468403</td>\n",
              "      <td>1.880996e+07</td>\n",
              "      <td>1.721338e+10</td>\n",
              "    </tr>\n",
              "    <tr>\n",
              "      <th>min</th>\n",
              "      <td>47.003143</td>\n",
              "      <td>2506.850098</td>\n",
              "      <td>50.419998</td>\n",
              "      <td>2506.850098</td>\n",
              "      <td>66.410004</td>\n",
              "      <td>2708.949951</td>\n",
              "      <td>38.000000</td>\n",
              "      <td>2191.860107</td>\n",
              "      <td>46.430000</td>\n",
              "      <td>2476.959961</td>\n",
              "      <td>3.571710e+07</td>\n",
              "      <td>5.696825e+10</td>\n",
              "    </tr>\n",
              "    <tr>\n",
              "      <th>25%</th>\n",
              "      <td>81.867592</td>\n",
              "      <td>2923.339966</td>\n",
              "      <td>90.385002</td>\n",
              "      <td>2923.339966</td>\n",
              "      <td>94.642502</td>\n",
              "      <td>2961.827454</td>\n",
              "      <td>84.582502</td>\n",
              "      <td>2788.915039</td>\n",
              "      <td>90.589998</td>\n",
              "      <td>2905.997498</td>\n",
              "      <td>4.930625e+07</td>\n",
              "      <td>7.727867e+10</td>\n",
              "    </tr>\n",
              "    <tr>\n",
              "      <th>50%</th>\n",
              "      <td>93.107952</td>\n",
              "      <td>3667.934937</td>\n",
              "      <td>98.969997</td>\n",
              "      <td>3667.934937</td>\n",
              "      <td>104.965000</td>\n",
              "      <td>3815.549927</td>\n",
              "      <td>91.965000</td>\n",
              "      <td>3537.854980</td>\n",
              "      <td>99.485001</td>\n",
              "      <td>3627.825073</td>\n",
              "      <td>5.643885e+07</td>\n",
              "      <td>8.384082e+10</td>\n",
              "    </tr>\n",
              "    <tr>\n",
              "      <th>75%</th>\n",
              "      <td>113.763641</td>\n",
              "      <td>4184.327393</td>\n",
              "      <td>117.514997</td>\n",
              "      <td>4184.327393</td>\n",
              "      <td>123.754997</td>\n",
              "      <td>4312.065063</td>\n",
              "      <td>105.190001</td>\n",
              "      <td>4068.604858</td>\n",
              "      <td>111.754997</td>\n",
              "      <td>4185.267334</td>\n",
              "      <td>6.517905e+07</td>\n",
              "      <td>9.312289e+10</td>\n",
              "    </tr>\n",
              "    <tr>\n",
              "      <th>max</th>\n",
              "      <td>157.125336</td>\n",
              "      <td>4766.180176</td>\n",
              "      <td>165.970001</td>\n",
              "      <td>4766.180176</td>\n",
              "      <td>177.949997</td>\n",
              "      <td>4818.620117</td>\n",
              "      <td>155.460007</td>\n",
              "      <td>4560.000000</td>\n",
              "      <td>165.960007</td>\n",
              "      <td>4778.140137</td>\n",
              "      <td>1.337959e+08</td>\n",
              "      <td>1.621854e+11</td>\n",
              "    </tr>\n",
              "  </tbody>\n",
              "</table>\n",
              "</div>\n",
              "    <div class=\"colab-df-buttons\">\n",
              "\n",
              "  <div class=\"colab-df-container\">\n",
              "    <button class=\"colab-df-convert\" onclick=\"convertToInteractive('df-c988ebbb-420c-4837-91b4-d49370ee2668')\"\n",
              "            title=\"Convert this dataframe to an interactive table.\"\n",
              "            style=\"display:none;\">\n",
              "\n",
              "  <svg xmlns=\"http://www.w3.org/2000/svg\" height=\"24px\" viewBox=\"0 -960 960 960\">\n",
              "    <path d=\"M120-120v-720h720v720H120Zm60-500h600v-160H180v160Zm220 220h160v-160H400v160Zm0 220h160v-160H400v160ZM180-400h160v-160H180v160Zm440 0h160v-160H620v160ZM180-180h160v-160H180v160Zm440 0h160v-160H620v160Z\"/>\n",
              "  </svg>\n",
              "    </button>\n",
              "\n",
              "  <style>\n",
              "    .colab-df-container {\n",
              "      display:flex;\n",
              "      gap: 12px;\n",
              "    }\n",
              "\n",
              "    .colab-df-convert {\n",
              "      background-color: #E8F0FE;\n",
              "      border: none;\n",
              "      border-radius: 50%;\n",
              "      cursor: pointer;\n",
              "      display: none;\n",
              "      fill: #1967D2;\n",
              "      height: 32px;\n",
              "      padding: 0 0 0 0;\n",
              "      width: 32px;\n",
              "    }\n",
              "\n",
              "    .colab-df-convert:hover {\n",
              "      background-color: #E2EBFA;\n",
              "      box-shadow: 0px 1px 2px rgba(60, 64, 67, 0.3), 0px 1px 3px 1px rgba(60, 64, 67, 0.15);\n",
              "      fill: #174EA6;\n",
              "    }\n",
              "\n",
              "    .colab-df-buttons div {\n",
              "      margin-bottom: 4px;\n",
              "    }\n",
              "\n",
              "    [theme=dark] .colab-df-convert {\n",
              "      background-color: #3B4455;\n",
              "      fill: #D2E3FC;\n",
              "    }\n",
              "\n",
              "    [theme=dark] .colab-df-convert:hover {\n",
              "      background-color: #434B5C;\n",
              "      box-shadow: 0px 1px 3px 1px rgba(0, 0, 0, 0.15);\n",
              "      filter: drop-shadow(0px 1px 2px rgba(0, 0, 0, 0.3));\n",
              "      fill: #FFFFFF;\n",
              "    }\n",
              "  </style>\n",
              "\n",
              "    <script>\n",
              "      const buttonEl =\n",
              "        document.querySelector('#df-c988ebbb-420c-4837-91b4-d49370ee2668 button.colab-df-convert');\n",
              "      buttonEl.style.display =\n",
              "        google.colab.kernel.accessAllowed ? 'block' : 'none';\n",
              "\n",
              "      async function convertToInteractive(key) {\n",
              "        const element = document.querySelector('#df-c988ebbb-420c-4837-91b4-d49370ee2668');\n",
              "        const dataTable =\n",
              "          await google.colab.kernel.invokeFunction('convertToInteractive',\n",
              "                                                    [key], {});\n",
              "        if (!dataTable) return;\n",
              "\n",
              "        const docLinkHtml = 'Like what you see? Visit the ' +\n",
              "          '<a target=\"_blank\" href=https://colab.research.google.com/notebooks/data_table.ipynb>data table notebook</a>'\n",
              "          + ' to learn more about interactive tables.';\n",
              "        element.innerHTML = '';\n",
              "        dataTable['output_type'] = 'display_data';\n",
              "        await google.colab.output.renderOutput(dataTable, element);\n",
              "        const docLink = document.createElement('div');\n",
              "        docLink.innerHTML = docLinkHtml;\n",
              "        element.appendChild(docLink);\n",
              "      }\n",
              "    </script>\n",
              "  </div>\n",
              "\n",
              "\n",
              "<div id=\"df-ee6634a0-3837-4210-b618-985246b69993\">\n",
              "  <button class=\"colab-df-quickchart\" onclick=\"quickchart('df-ee6634a0-3837-4210-b618-985246b69993')\"\n",
              "            title=\"Suggest charts\"\n",
              "            style=\"display:none;\">\n",
              "\n",
              "<svg xmlns=\"http://www.w3.org/2000/svg\" height=\"24px\"viewBox=\"0 0 24 24\"\n",
              "     width=\"24px\">\n",
              "    <g>\n",
              "        <path d=\"M19 3H5c-1.1 0-2 .9-2 2v14c0 1.1.9 2 2 2h14c1.1 0 2-.9 2-2V5c0-1.1-.9-2-2-2zM9 17H7v-7h2v7zm4 0h-2V7h2v10zm4 0h-2v-4h2v4z\"/>\n",
              "    </g>\n",
              "</svg>\n",
              "  </button>\n",
              "\n",
              "<style>\n",
              "  .colab-df-quickchart {\n",
              "      --bg-color: #E8F0FE;\n",
              "      --fill-color: #1967D2;\n",
              "      --hover-bg-color: #E2EBFA;\n",
              "      --hover-fill-color: #174EA6;\n",
              "      --disabled-fill-color: #AAA;\n",
              "      --disabled-bg-color: #DDD;\n",
              "  }\n",
              "\n",
              "  [theme=dark] .colab-df-quickchart {\n",
              "      --bg-color: #3B4455;\n",
              "      --fill-color: #D2E3FC;\n",
              "      --hover-bg-color: #434B5C;\n",
              "      --hover-fill-color: #FFFFFF;\n",
              "      --disabled-bg-color: #3B4455;\n",
              "      --disabled-fill-color: #666;\n",
              "  }\n",
              "\n",
              "  .colab-df-quickchart {\n",
              "    background-color: var(--bg-color);\n",
              "    border: none;\n",
              "    border-radius: 50%;\n",
              "    cursor: pointer;\n",
              "    display: none;\n",
              "    fill: var(--fill-color);\n",
              "    height: 32px;\n",
              "    padding: 0;\n",
              "    width: 32px;\n",
              "  }\n",
              "\n",
              "  .colab-df-quickchart:hover {\n",
              "    background-color: var(--hover-bg-color);\n",
              "    box-shadow: 0 1px 2px rgba(60, 64, 67, 0.3), 0 1px 3px 1px rgba(60, 64, 67, 0.15);\n",
              "    fill: var(--button-hover-fill-color);\n",
              "  }\n",
              "\n",
              "  .colab-df-quickchart-complete:disabled,\n",
              "  .colab-df-quickchart-complete:disabled:hover {\n",
              "    background-color: var(--disabled-bg-color);\n",
              "    fill: var(--disabled-fill-color);\n",
              "    box-shadow: none;\n",
              "  }\n",
              "\n",
              "  .colab-df-spinner {\n",
              "    border: 2px solid var(--fill-color);\n",
              "    border-color: transparent;\n",
              "    border-bottom-color: var(--fill-color);\n",
              "    animation:\n",
              "      spin 1s steps(1) infinite;\n",
              "  }\n",
              "\n",
              "  @keyframes spin {\n",
              "    0% {\n",
              "      border-color: transparent;\n",
              "      border-bottom-color: var(--fill-color);\n",
              "      border-left-color: var(--fill-color);\n",
              "    }\n",
              "    20% {\n",
              "      border-color: transparent;\n",
              "      border-left-color: var(--fill-color);\n",
              "      border-top-color: var(--fill-color);\n",
              "    }\n",
              "    30% {\n",
              "      border-color: transparent;\n",
              "      border-left-color: var(--fill-color);\n",
              "      border-top-color: var(--fill-color);\n",
              "      border-right-color: var(--fill-color);\n",
              "    }\n",
              "    40% {\n",
              "      border-color: transparent;\n",
              "      border-right-color: var(--fill-color);\n",
              "      border-top-color: var(--fill-color);\n",
              "    }\n",
              "    60% {\n",
              "      border-color: transparent;\n",
              "      border-right-color: var(--fill-color);\n",
              "    }\n",
              "    80% {\n",
              "      border-color: transparent;\n",
              "      border-right-color: var(--fill-color);\n",
              "      border-bottom-color: var(--fill-color);\n",
              "    }\n",
              "    90% {\n",
              "      border-color: transparent;\n",
              "      border-bottom-color: var(--fill-color);\n",
              "    }\n",
              "  }\n",
              "</style>\n",
              "\n",
              "  <script>\n",
              "    async function quickchart(key) {\n",
              "      const quickchartButtonEl =\n",
              "        document.querySelector('#' + key + ' button');\n",
              "      quickchartButtonEl.disabled = true;  // To prevent multiple clicks.\n",
              "      quickchartButtonEl.classList.add('colab-df-spinner');\n",
              "      try {\n",
              "        const charts = await google.colab.kernel.invokeFunction(\n",
              "            'suggestCharts', [key], {});\n",
              "      } catch (error) {\n",
              "        console.error('Error during call to suggestCharts:', error);\n",
              "      }\n",
              "      quickchartButtonEl.classList.remove('colab-df-spinner');\n",
              "      quickchartButtonEl.classList.add('colab-df-quickchart-complete');\n",
              "    }\n",
              "    (() => {\n",
              "      let quickchartButtonEl =\n",
              "        document.querySelector('#df-ee6634a0-3837-4210-b618-985246b69993 button');\n",
              "      quickchartButtonEl.style.display =\n",
              "        google.colab.kernel.accessAllowed ? 'block' : 'none';\n",
              "    })();\n",
              "  </script>\n",
              "</div>\n",
              "    </div>\n",
              "  </div>\n"
            ]
          },
          "metadata": {},
          "execution_count": 259
        }
      ]
    },
    {
      "cell_type": "markdown",
      "source": [
        "\n",
        "\n",
        "---\n",
        "\n"
      ],
      "metadata": {
        "id": "OxnAuDXDv23g"
      }
    },
    {
      "cell_type": "markdown",
      "source": [
        "# 4. Model Creations"
      ],
      "metadata": {
        "id": "IKHt29y0rDQU"
      }
    },
    {
      "cell_type": "markdown",
      "source": [
        "### Calculating the Beta of the Market"
      ],
      "metadata": {
        "id": "omelRDOfrGFH"
      }
    },
    {
      "cell_type": "code",
      "source": [
        "# Obtaining the log returns of the adjusted close\n",
        "log_returns_adj_close = np.log(data['Adj Close']/data['Adj Close'].shift())\n",
        "print(log_returns_adj_close)"
      ],
      "metadata": {
        "colab": {
          "base_uri": "https://localhost:8080/"
        },
        "id": "5EYSt5vv7jnp",
        "outputId": "cd1fe818-ed62-4771-9a66-83a7b775693b"
      },
      "execution_count": 260,
      "outputs": [
        {
          "output_type": "stream",
          "name": "stdout",
          "text": [
            "         COF     ^GSPC\n",
            "0        NaN       NaN\n",
            "1  -0.059753 -0.039726\n",
            "2  -0.017415 -0.027252\n",
            "3  -0.055796  0.002715\n",
            "4   0.036620  0.021378\n",
            "..       ...       ...\n",
            "67 -0.133556 -0.017875\n",
            "68 -0.048235 -0.049946\n",
            "69  0.042761 -0.022225\n",
            "70  0.097471  0.085424\n",
            "71  0.155370  0.032606\n",
            "\n",
            "[72 rows x 2 columns]\n"
          ]
        }
      ]
    },
    {
      "cell_type": "code",
      "source": [
        "# Calculating coveriance\n",
        "cov = log_returns_adj_close.cov()"
      ],
      "metadata": {
        "id": "EZRW3jgP8bKn"
      },
      "execution_count": 261,
      "outputs": []
    },
    {
      "cell_type": "code",
      "source": [
        "# Variance of the SPY\n",
        "var = log_returns_adj_close['^GSPC'].var()\n",
        "print('The variance calculated for the S&P is:', round(var, 3))"
      ],
      "metadata": {
        "colab": {
          "base_uri": "https://localhost:8080/"
        },
        "id": "yA07EVar8sNU",
        "outputId": "4a0caaff-2140-4258-9bba-d07b3c128146"
      },
      "execution_count": 262,
      "outputs": [
        {
          "output_type": "stream",
          "name": "stdout",
          "text": [
            "The variance calculated for the S&P is: 0.003\n"
          ]
        }
      ]
    },
    {
      "cell_type": "code",
      "source": [
        "# Calculating Beta\n",
        "Beta = cov.loc['COF','^GSPC']/var\n",
        "print(\"The Beta calculated for the COF Stock:\", round(Beta, 2))"
      ],
      "metadata": {
        "colab": {
          "base_uri": "https://localhost:8080/"
        },
        "id": "2zozfYhT9Tm5",
        "outputId": "8a630048-646f-4f48-8ca0-8d95e81c1883"
      },
      "execution_count": 263,
      "outputs": [
        {
          "output_type": "stream",
          "name": "stdout",
          "text": [
            "The Beta calculated for the COF Stock: 1.52\n"
          ]
        }
      ]
    },
    {
      "cell_type": "code",
      "source": [
        "# Verifying accurate Beta\n",
        "cov.loc['^GSPC']/var"
      ],
      "metadata": {
        "colab": {
          "base_uri": "https://localhost:8080/"
        },
        "id": "6Hb6TB4lFsH5",
        "outputId": "5a050323-54d1-48b6-e784-e4495339dc46"
      },
      "execution_count": 264,
      "outputs": [
        {
          "output_type": "execute_result",
          "data": {
            "text/plain": [
              "COF      1.518363\n",
              "^GSPC    1.000000\n",
              "Name: ^GSPC, dtype: float64"
            ]
          },
          "metadata": {},
          "execution_count": 264
        }
      ]
    },
    {
      "cell_type": "markdown",
      "source": [
        "### Spliting the Data to implement a Linear Regression Model"
      ],
      "metadata": {
        "id": "j8PPhtdcrLJN"
      }
    },
    {
      "cell_type": "code",
      "source": [
        "from sklearn.impute import SimpleImputer"
      ],
      "metadata": {
        "id": "F4BgUspPc5E8"
      },
      "execution_count": 265,
      "outputs": []
    },
    {
      "cell_type": "code",
      "source": [
        "X = log_returns_adj_close[['^GSPC']].values\n",
        "y = log_returns_adj_close['COF'].values\n",
        "\n",
        "# Splitting data\n",
        "X_train, X_test, y_train, y_test = train_test_split(X, y, test_size=0.3, random_state=17)\n",
        "\n",
        "# Imputing zero for missing values\n",
        "imputer = SimpleImputer(strategy='constant', fill_value = 0)\n",
        "X_train_imputed = imputer.fit_transform(X_train)\n",
        "\n",
        "lr = LinearRegression()\n",
        "lr.fit(X_train_imputed, y_train)\n",
        "y_prediction = lr.predict(X_train)"
      ],
      "metadata": {
        "id": "olrDUq3AcxN6"
      },
      "execution_count": 266,
      "outputs": []
    },
    {
      "cell_type": "code",
      "source": [
        "from sklearn.metrics import mean_squared_error\n",
        "lin_rmse = mean_squared_error(y_train, y_prediction, squared=False)\n",
        "print(f\"The training data RMSE is {lin_rmse:.3f}\")"
      ],
      "metadata": {
        "colab": {
          "base_uri": "https://localhost:8080/"
        },
        "id": "Um7rAwN_iTue",
        "outputId": "a7512288-ef29-43b1-9a2e-da65436a4428"
      },
      "execution_count": 267,
      "outputs": [
        {
          "output_type": "stream",
          "name": "stdout",
          "text": [
            "The training data RMSE is 0.087\n"
          ]
        }
      ]
    },
    {
      "cell_type": "code",
      "source": [
        "## Utilizing Cross Validation to futher inspect the performance of the LR Model\n",
        "from sklearn.model_selection import cross_val_score\n",
        "cv_rmse = cross_val_score(lr, X_train_imputed, y_train, scoring='neg_root_mean_squared_error', cv=5)\n",
        "-cv_rmse"
      ],
      "metadata": {
        "colab": {
          "base_uri": "https://localhost:8080/"
        },
        "id": "5doGo7fnZwj4",
        "outputId": "1274e669-0fb7-4177-e339-ca90fa9bb122"
      },
      "execution_count": 268,
      "outputs": [
        {
          "output_type": "execute_result",
          "data": {
            "text/plain": [
              "array([0.06448359, 0.15593451, 0.08321404, 0.03577472, 0.07798441])"
            ]
          },
          "metadata": {},
          "execution_count": 268
        }
      ]
    },
    {
      "cell_type": "code",
      "source": [
        "## Removing the null values from the y_test\n",
        "null = np.isnan(y_test)\n",
        "X_test_cleaned = X_test[~null]\n",
        "y_test_cleaned = y_test[~null]\n",
        "\n",
        "# Imputing zero for missing values\n",
        "X_test_cleaned_imputed = imputer.transform(X_test_cleaned)\n",
        "\n",
        "y_test_prediction = lr.predict(X_test_cleaned_imputed)\n",
        "lin_rmse_test = mean_squared_error(y_test_cleaned, y_test_prediction, squared=False)\n",
        "print(f\"The cleaned test data RMSE is {lin_rmse_test:.3f}\")"
      ],
      "metadata": {
        "colab": {
          "base_uri": "https://localhost:8080/"
        },
        "id": "5vZgw5ENaR4_",
        "outputId": "70f5a876-e25c-42a5-f55d-362cc6b24c59"
      },
      "execution_count": 269,
      "outputs": [
        {
          "output_type": "stream",
          "name": "stdout",
          "text": [
            "The cleaned test data RMSE is 0.057\n"
          ]
        }
      ]
    },
    {
      "cell_type": "markdown",
      "source": [
        "### Calculating the Capital Asset Pricing Model"
      ],
      "metadata": {
        "id": "xe1qIe7srREc"
      }
    },
    {
      "cell_type": "code",
      "source": [
        "## Calculating the Risk Free Rate\n",
        "risk_free_rate = yf.Ticker('^TNX').get_info()['previousClose']*0.01\n",
        "risk_free_rate"
      ],
      "metadata": {
        "colab": {
          "base_uri": "https://localhost:8080/"
        },
        "id": "fuVKdG1LLZh7",
        "outputId": "40d207ae-a65e-4aad-c728-cb95cd226053"
      },
      "execution_count": 270,
      "outputs": [
        {
          "output_type": "execute_result",
          "data": {
            "text/plain": [
              "0.0393"
            ]
          },
          "metadata": {},
          "execution_count": 270
        }
      ]
    },
    {
      "cell_type": "code",
      "source": [
        "## Measuring expected Return utilizing Capital Asset Pricing Model\n",
        "market_return = .10     # Market Return is about 10% per year as by S&P500\n",
        "expected_return = risk_free_rate + Beta*(market_return - risk_free_rate)\n",
        "print(f\"The Capital Asset Pricing Return is {expected_return:.3f}\")"
      ],
      "metadata": {
        "colab": {
          "base_uri": "https://localhost:8080/"
        },
        "id": "5wbxYac-N5r5",
        "outputId": "d36f381b-c60f-4ac6-8668-9b28eddfbdef"
      },
      "execution_count": 271,
      "outputs": [
        {
          "output_type": "stream",
          "name": "stdout",
          "text": [
            "The Capital Asset Pricing Return is 0.131\n"
          ]
        }
      ]
    },
    {
      "cell_type": "markdown",
      "source": [
        "### Calculating the Gordon Growth Model"
      ],
      "metadata": {
        "id": "blU2qUy1ubGl"
      }
    },
    {
      "cell_type": "code",
      "source": [
        "ticker = yf.Ticker('COF')\n",
        "COF = ticker.actions\n",
        "COF"
      ],
      "metadata": {
        "id": "xAc0zJaVukMo",
        "colab": {
          "base_uri": "https://localhost:8080/",
          "height": 454
        },
        "outputId": "33f631bb-95b9-4fda-80b1-e66e62d9bbb3"
      },
      "execution_count": 272,
      "outputs": [
        {
          "output_type": "execute_result",
          "data": {
            "text/plain": [
              "                           Dividends  Stock Splits\n",
              "Date                                              \n",
              "1995-05-04 00:00:00-04:00   0.026667           0.0\n",
              "1995-08-04 00:00:00-04:00   0.026667           0.0\n",
              "1995-11-03 00:00:00-05:00   0.026667           0.0\n",
              "1996-02-02 00:00:00-05:00   0.026667           0.0\n",
              "1996-04-26 00:00:00-04:00   0.026667           0.0\n",
              "...                              ...           ...\n",
              "2022-11-10 00:00:00-05:00   0.600000           0.0\n",
              "2023-02-03 00:00:00-05:00   0.600000           0.0\n",
              "2023-05-12 00:00:00-04:00   0.600000           0.0\n",
              "2023-08-04 00:00:00-04:00   0.600000           0.0\n",
              "2023-11-10 00:00:00-05:00   0.600000           0.0\n",
              "\n",
              "[116 rows x 2 columns]"
            ],
            "text/html": [
              "\n",
              "  <div id=\"df-39b3f339-147d-4ae5-a443-e740b8bb7517\" class=\"colab-df-container\">\n",
              "    <div>\n",
              "<style scoped>\n",
              "    .dataframe tbody tr th:only-of-type {\n",
              "        vertical-align: middle;\n",
              "    }\n",
              "\n",
              "    .dataframe tbody tr th {\n",
              "        vertical-align: top;\n",
              "    }\n",
              "\n",
              "    .dataframe thead th {\n",
              "        text-align: right;\n",
              "    }\n",
              "</style>\n",
              "<table border=\"1\" class=\"dataframe\">\n",
              "  <thead>\n",
              "    <tr style=\"text-align: right;\">\n",
              "      <th></th>\n",
              "      <th>Dividends</th>\n",
              "      <th>Stock Splits</th>\n",
              "    </tr>\n",
              "    <tr>\n",
              "      <th>Date</th>\n",
              "      <th></th>\n",
              "      <th></th>\n",
              "    </tr>\n",
              "  </thead>\n",
              "  <tbody>\n",
              "    <tr>\n",
              "      <th>1995-05-04 00:00:00-04:00</th>\n",
              "      <td>0.026667</td>\n",
              "      <td>0.0</td>\n",
              "    </tr>\n",
              "    <tr>\n",
              "      <th>1995-08-04 00:00:00-04:00</th>\n",
              "      <td>0.026667</td>\n",
              "      <td>0.0</td>\n",
              "    </tr>\n",
              "    <tr>\n",
              "      <th>1995-11-03 00:00:00-05:00</th>\n",
              "      <td>0.026667</td>\n",
              "      <td>0.0</td>\n",
              "    </tr>\n",
              "    <tr>\n",
              "      <th>1996-02-02 00:00:00-05:00</th>\n",
              "      <td>0.026667</td>\n",
              "      <td>0.0</td>\n",
              "    </tr>\n",
              "    <tr>\n",
              "      <th>1996-04-26 00:00:00-04:00</th>\n",
              "      <td>0.026667</td>\n",
              "      <td>0.0</td>\n",
              "    </tr>\n",
              "    <tr>\n",
              "      <th>...</th>\n",
              "      <td>...</td>\n",
              "      <td>...</td>\n",
              "    </tr>\n",
              "    <tr>\n",
              "      <th>2022-11-10 00:00:00-05:00</th>\n",
              "      <td>0.600000</td>\n",
              "      <td>0.0</td>\n",
              "    </tr>\n",
              "    <tr>\n",
              "      <th>2023-02-03 00:00:00-05:00</th>\n",
              "      <td>0.600000</td>\n",
              "      <td>0.0</td>\n",
              "    </tr>\n",
              "    <tr>\n",
              "      <th>2023-05-12 00:00:00-04:00</th>\n",
              "      <td>0.600000</td>\n",
              "      <td>0.0</td>\n",
              "    </tr>\n",
              "    <tr>\n",
              "      <th>2023-08-04 00:00:00-04:00</th>\n",
              "      <td>0.600000</td>\n",
              "      <td>0.0</td>\n",
              "    </tr>\n",
              "    <tr>\n",
              "      <th>2023-11-10 00:00:00-05:00</th>\n",
              "      <td>0.600000</td>\n",
              "      <td>0.0</td>\n",
              "    </tr>\n",
              "  </tbody>\n",
              "</table>\n",
              "<p>116 rows × 2 columns</p>\n",
              "</div>\n",
              "    <div class=\"colab-df-buttons\">\n",
              "\n",
              "  <div class=\"colab-df-container\">\n",
              "    <button class=\"colab-df-convert\" onclick=\"convertToInteractive('df-39b3f339-147d-4ae5-a443-e740b8bb7517')\"\n",
              "            title=\"Convert this dataframe to an interactive table.\"\n",
              "            style=\"display:none;\">\n",
              "\n",
              "  <svg xmlns=\"http://www.w3.org/2000/svg\" height=\"24px\" viewBox=\"0 -960 960 960\">\n",
              "    <path d=\"M120-120v-720h720v720H120Zm60-500h600v-160H180v160Zm220 220h160v-160H400v160Zm0 220h160v-160H400v160ZM180-400h160v-160H180v160Zm440 0h160v-160H620v160ZM180-180h160v-160H180v160Zm440 0h160v-160H620v160Z\"/>\n",
              "  </svg>\n",
              "    </button>\n",
              "\n",
              "  <style>\n",
              "    .colab-df-container {\n",
              "      display:flex;\n",
              "      gap: 12px;\n",
              "    }\n",
              "\n",
              "    .colab-df-convert {\n",
              "      background-color: #E8F0FE;\n",
              "      border: none;\n",
              "      border-radius: 50%;\n",
              "      cursor: pointer;\n",
              "      display: none;\n",
              "      fill: #1967D2;\n",
              "      height: 32px;\n",
              "      padding: 0 0 0 0;\n",
              "      width: 32px;\n",
              "    }\n",
              "\n",
              "    .colab-df-convert:hover {\n",
              "      background-color: #E2EBFA;\n",
              "      box-shadow: 0px 1px 2px rgba(60, 64, 67, 0.3), 0px 1px 3px 1px rgba(60, 64, 67, 0.15);\n",
              "      fill: #174EA6;\n",
              "    }\n",
              "\n",
              "    .colab-df-buttons div {\n",
              "      margin-bottom: 4px;\n",
              "    }\n",
              "\n",
              "    [theme=dark] .colab-df-convert {\n",
              "      background-color: #3B4455;\n",
              "      fill: #D2E3FC;\n",
              "    }\n",
              "\n",
              "    [theme=dark] .colab-df-convert:hover {\n",
              "      background-color: #434B5C;\n",
              "      box-shadow: 0px 1px 3px 1px rgba(0, 0, 0, 0.15);\n",
              "      filter: drop-shadow(0px 1px 2px rgba(0, 0, 0, 0.3));\n",
              "      fill: #FFFFFF;\n",
              "    }\n",
              "  </style>\n",
              "\n",
              "    <script>\n",
              "      const buttonEl =\n",
              "        document.querySelector('#df-39b3f339-147d-4ae5-a443-e740b8bb7517 button.colab-df-convert');\n",
              "      buttonEl.style.display =\n",
              "        google.colab.kernel.accessAllowed ? 'block' : 'none';\n",
              "\n",
              "      async function convertToInteractive(key) {\n",
              "        const element = document.querySelector('#df-39b3f339-147d-4ae5-a443-e740b8bb7517');\n",
              "        const dataTable =\n",
              "          await google.colab.kernel.invokeFunction('convertToInteractive',\n",
              "                                                    [key], {});\n",
              "        if (!dataTable) return;\n",
              "\n",
              "        const docLinkHtml = 'Like what you see? Visit the ' +\n",
              "          '<a target=\"_blank\" href=https://colab.research.google.com/notebooks/data_table.ipynb>data table notebook</a>'\n",
              "          + ' to learn more about interactive tables.';\n",
              "        element.innerHTML = '';\n",
              "        dataTable['output_type'] = 'display_data';\n",
              "        await google.colab.output.renderOutput(dataTable, element);\n",
              "        const docLink = document.createElement('div');\n",
              "        docLink.innerHTML = docLinkHtml;\n",
              "        element.appendChild(docLink);\n",
              "      }\n",
              "    </script>\n",
              "  </div>\n",
              "\n",
              "\n",
              "<div id=\"df-6b172b1d-afd5-4af6-9cc4-450a5d9ec2b1\">\n",
              "  <button class=\"colab-df-quickchart\" onclick=\"quickchart('df-6b172b1d-afd5-4af6-9cc4-450a5d9ec2b1')\"\n",
              "            title=\"Suggest charts\"\n",
              "            style=\"display:none;\">\n",
              "\n",
              "<svg xmlns=\"http://www.w3.org/2000/svg\" height=\"24px\"viewBox=\"0 0 24 24\"\n",
              "     width=\"24px\">\n",
              "    <g>\n",
              "        <path d=\"M19 3H5c-1.1 0-2 .9-2 2v14c0 1.1.9 2 2 2h14c1.1 0 2-.9 2-2V5c0-1.1-.9-2-2-2zM9 17H7v-7h2v7zm4 0h-2V7h2v10zm4 0h-2v-4h2v4z\"/>\n",
              "    </g>\n",
              "</svg>\n",
              "  </button>\n",
              "\n",
              "<style>\n",
              "  .colab-df-quickchart {\n",
              "      --bg-color: #E8F0FE;\n",
              "      --fill-color: #1967D2;\n",
              "      --hover-bg-color: #E2EBFA;\n",
              "      --hover-fill-color: #174EA6;\n",
              "      --disabled-fill-color: #AAA;\n",
              "      --disabled-bg-color: #DDD;\n",
              "  }\n",
              "\n",
              "  [theme=dark] .colab-df-quickchart {\n",
              "      --bg-color: #3B4455;\n",
              "      --fill-color: #D2E3FC;\n",
              "      --hover-bg-color: #434B5C;\n",
              "      --hover-fill-color: #FFFFFF;\n",
              "      --disabled-bg-color: #3B4455;\n",
              "      --disabled-fill-color: #666;\n",
              "  }\n",
              "\n",
              "  .colab-df-quickchart {\n",
              "    background-color: var(--bg-color);\n",
              "    border: none;\n",
              "    border-radius: 50%;\n",
              "    cursor: pointer;\n",
              "    display: none;\n",
              "    fill: var(--fill-color);\n",
              "    height: 32px;\n",
              "    padding: 0;\n",
              "    width: 32px;\n",
              "  }\n",
              "\n",
              "  .colab-df-quickchart:hover {\n",
              "    background-color: var(--hover-bg-color);\n",
              "    box-shadow: 0 1px 2px rgba(60, 64, 67, 0.3), 0 1px 3px 1px rgba(60, 64, 67, 0.15);\n",
              "    fill: var(--button-hover-fill-color);\n",
              "  }\n",
              "\n",
              "  .colab-df-quickchart-complete:disabled,\n",
              "  .colab-df-quickchart-complete:disabled:hover {\n",
              "    background-color: var(--disabled-bg-color);\n",
              "    fill: var(--disabled-fill-color);\n",
              "    box-shadow: none;\n",
              "  }\n",
              "\n",
              "  .colab-df-spinner {\n",
              "    border: 2px solid var(--fill-color);\n",
              "    border-color: transparent;\n",
              "    border-bottom-color: var(--fill-color);\n",
              "    animation:\n",
              "      spin 1s steps(1) infinite;\n",
              "  }\n",
              "\n",
              "  @keyframes spin {\n",
              "    0% {\n",
              "      border-color: transparent;\n",
              "      border-bottom-color: var(--fill-color);\n",
              "      border-left-color: var(--fill-color);\n",
              "    }\n",
              "    20% {\n",
              "      border-color: transparent;\n",
              "      border-left-color: var(--fill-color);\n",
              "      border-top-color: var(--fill-color);\n",
              "    }\n",
              "    30% {\n",
              "      border-color: transparent;\n",
              "      border-left-color: var(--fill-color);\n",
              "      border-top-color: var(--fill-color);\n",
              "      border-right-color: var(--fill-color);\n",
              "    }\n",
              "    40% {\n",
              "      border-color: transparent;\n",
              "      border-right-color: var(--fill-color);\n",
              "      border-top-color: var(--fill-color);\n",
              "    }\n",
              "    60% {\n",
              "      border-color: transparent;\n",
              "      border-right-color: var(--fill-color);\n",
              "    }\n",
              "    80% {\n",
              "      border-color: transparent;\n",
              "      border-right-color: var(--fill-color);\n",
              "      border-bottom-color: var(--fill-color);\n",
              "    }\n",
              "    90% {\n",
              "      border-color: transparent;\n",
              "      border-bottom-color: var(--fill-color);\n",
              "    }\n",
              "  }\n",
              "</style>\n",
              "\n",
              "  <script>\n",
              "    async function quickchart(key) {\n",
              "      const quickchartButtonEl =\n",
              "        document.querySelector('#' + key + ' button');\n",
              "      quickchartButtonEl.disabled = true;  // To prevent multiple clicks.\n",
              "      quickchartButtonEl.classList.add('colab-df-spinner');\n",
              "      try {\n",
              "        const charts = await google.colab.kernel.invokeFunction(\n",
              "            'suggestCharts', [key], {});\n",
              "      } catch (error) {\n",
              "        console.error('Error during call to suggestCharts:', error);\n",
              "      }\n",
              "      quickchartButtonEl.classList.remove('colab-df-spinner');\n",
              "      quickchartButtonEl.classList.add('colab-df-quickchart-complete');\n",
              "    }\n",
              "    (() => {\n",
              "      let quickchartButtonEl =\n",
              "        document.querySelector('#df-6b172b1d-afd5-4af6-9cc4-450a5d9ec2b1 button');\n",
              "      quickchartButtonEl.style.display =\n",
              "        google.colab.kernel.accessAllowed ? 'block' : 'none';\n",
              "    })();\n",
              "  </script>\n",
              "</div>\n",
              "    </div>\n",
              "  </div>\n"
            ]
          },
          "metadata": {},
          "execution_count": 272
        }
      ]
    },
    {
      "cell_type": "code",
      "source": [
        "COF_stock_split = COF['Stock Splits'].to_numpy()\n",
        "COF_stock_split"
      ],
      "metadata": {
        "colab": {
          "base_uri": "https://localhost:8080/"
        },
        "id": "WxNI8AM0qHyE",
        "outputId": "2ce7614a-6cff-4b3d-9ef4-5b68ed936afb"
      },
      "execution_count": 273,
      "outputs": [
        {
          "output_type": "execute_result",
          "data": {
            "text/plain": [
              "array([0., 0., 0., 0., 0., 0., 0., 0., 0., 0., 0., 0., 0., 0., 0., 0., 0.,\n",
              "       3., 0., 0., 0., 0., 0., 0., 0., 0., 0., 0., 0., 0., 0., 0., 0., 0.,\n",
              "       0., 0., 0., 0., 0., 0., 0., 0., 0., 0., 0., 0., 0., 0., 0., 0., 0.,\n",
              "       0., 0., 0., 0., 0., 0., 0., 0., 0., 0., 0., 0., 0., 0., 0., 0., 0.,\n",
              "       0., 0., 0., 0., 0., 0., 0., 0., 0., 0., 0., 0., 0., 0., 0., 0., 0.,\n",
              "       0., 0., 0., 0., 0., 0., 0., 0., 0., 0., 0., 0., 0., 0., 0., 0., 0.,\n",
              "       0., 0., 0., 0., 0., 0., 0., 0., 0., 0., 0., 0., 0., 0.])"
            ]
          },
          "metadata": {},
          "execution_count": 273
        }
      ]
    },
    {
      "cell_type": "code",
      "source": [
        "## Replacing zeros with one in the stock splits historical data\n",
        "COF_stock_split = np.where(COF_stock_split == 0, 1, COF_stock_split)\n",
        "COF_stock_split"
      ],
      "metadata": {
        "colab": {
          "base_uri": "https://localhost:8080/"
        },
        "id": "6z5XlVMstdt4",
        "outputId": "5187ba25-3a3c-4023-fb3d-ec0d3894bebf"
      },
      "execution_count": 274,
      "outputs": [
        {
          "output_type": "execute_result",
          "data": {
            "text/plain": [
              "array([1., 1., 1., 1., 1., 1., 1., 1., 1., 1., 1., 1., 1., 1., 1., 1., 1.,\n",
              "       3., 1., 1., 1., 1., 1., 1., 1., 1., 1., 1., 1., 1., 1., 1., 1., 1.,\n",
              "       1., 1., 1., 1., 1., 1., 1., 1., 1., 1., 1., 1., 1., 1., 1., 1., 1.,\n",
              "       1., 1., 1., 1., 1., 1., 1., 1., 1., 1., 1., 1., 1., 1., 1., 1., 1.,\n",
              "       1., 1., 1., 1., 1., 1., 1., 1., 1., 1., 1., 1., 1., 1., 1., 1., 1.,\n",
              "       1., 1., 1., 1., 1., 1., 1., 1., 1., 1., 1., 1., 1., 1., 1., 1., 1.,\n",
              "       1., 1., 1., 1., 1., 1., 1., 1., 1., 1., 1., 1., 1., 1.])"
            ]
          },
          "metadata": {},
          "execution_count": 274
        }
      ]
    },
    {
      "cell_type": "code",
      "source": [
        "## Adding the adjusted stock split into the DataFrame\n",
        "COF['adjusted_stocksplit'] = COF_stock_split.tolist()"
      ],
      "metadata": {
        "id": "Zg4q7bf3tqT3"
      },
      "execution_count": 275,
      "outputs": []
    },
    {
      "cell_type": "code",
      "source": [
        "## Calculating adjusted dividends\n",
        "COF['adjusted_dividends'] = COF['Dividends'] * COF['adjusted_stocksplit']"
      ],
      "metadata": {
        "id": "775zcWiltxTe"
      },
      "execution_count": 276,
      "outputs": []
    },
    {
      "cell_type": "code",
      "source": [
        "COF['year'] = COF.index.year"
      ],
      "metadata": {
        "id": "3O_Ce2X9t-Rh"
      },
      "execution_count": 277,
      "outputs": []
    },
    {
      "cell_type": "code",
      "source": [
        "COF = COF.groupby(by=[\"year\"]).sum()"
      ],
      "metadata": {
        "id": "x0Wt9iIQuQ67"
      },
      "execution_count": 278,
      "outputs": []
    },
    {
      "cell_type": "code",
      "source": [
        "## Calculating the dividend change\n",
        "COF['div_PCT_Change'] = COF['adjusted_dividends'].pct_change(fill_method = 'ffill')\n",
        "COF"
      ],
      "metadata": {
        "colab": {
          "base_uri": "https://localhost:8080/",
          "height": 989
        },
        "id": "x7aO3lPX8B0V",
        "outputId": "2e765474-9639-4442-dde9-0373e8d3c22b"
      },
      "execution_count": 279,
      "outputs": [
        {
          "output_type": "execute_result",
          "data": {
            "text/plain": [
              "      Dividends  Stock Splits  adjusted_stocksplit  adjusted_dividends  \\\n",
              "year                                                                     \n",
              "1995   0.080001           0.0                  3.0            0.080001   \n",
              "1996   0.106668           0.0                  4.0            0.106668   \n",
              "1997   0.106668           0.0                  4.0            0.106668   \n",
              "1998   0.106668           0.0                  4.0            0.106668   \n",
              "1999   0.108334           3.0                  7.0            0.108334   \n",
              "2000   0.108000           0.0                  4.0            0.108000   \n",
              "2001   0.108000           0.0                  4.0            0.108000   \n",
              "2002   0.109000           0.0                  4.0            0.109000   \n",
              "2003   0.109000           0.0                  4.0            0.109000   \n",
              "2004   0.112000           0.0                  4.0            0.112000   \n",
              "2005   0.108000           0.0                  4.0            0.108000   \n",
              "2006   0.108000           0.0                  4.0            0.108000   \n",
              "2007   0.108000           0.0                  4.0            0.108000   \n",
              "2008   1.500000           0.0                  4.0            1.500000   \n",
              "2009   0.525000           0.0                  4.0            0.525000   \n",
              "2010   0.200000           0.0                  4.0            0.200000   \n",
              "2011   0.200000           0.0                  4.0            0.200000   \n",
              "2012   0.200000           0.0                  4.0            0.200000   \n",
              "2013   0.950000           0.0                  4.0            0.950000   \n",
              "2014   1.200000           0.0                  4.0            1.200000   \n",
              "2015   1.500000           0.0                  4.0            1.500000   \n",
              "2016   1.600000           0.0                  4.0            1.600000   \n",
              "2017   1.600000           0.0                  4.0            1.600000   \n",
              "2018   1.600000           0.0                  4.0            1.600000   \n",
              "2019   1.600000           0.0                  4.0            1.600000   \n",
              "2020   1.000000           0.0                  4.0            1.000000   \n",
              "2021   2.600000           0.0                  4.0            2.600000   \n",
              "2022   2.400000           0.0                  4.0            2.400000   \n",
              "2023   2.400000           0.0                  4.0            2.400000   \n",
              "\n",
              "      div_PCT_Change  \n",
              "year                  \n",
              "1995             NaN  \n",
              "1996        0.333333  \n",
              "1997        0.000000  \n",
              "1998        0.000000  \n",
              "1999        0.015619  \n",
              "2000       -0.003083  \n",
              "2001        0.000000  \n",
              "2002        0.009259  \n",
              "2003        0.000000  \n",
              "2004        0.027523  \n",
              "2005       -0.035714  \n",
              "2006        0.000000  \n",
              "2007        0.000000  \n",
              "2008       12.888889  \n",
              "2009       -0.650000  \n",
              "2010       -0.619048  \n",
              "2011        0.000000  \n",
              "2012        0.000000  \n",
              "2013        3.750000  \n",
              "2014        0.263158  \n",
              "2015        0.250000  \n",
              "2016        0.066667  \n",
              "2017        0.000000  \n",
              "2018        0.000000  \n",
              "2019        0.000000  \n",
              "2020       -0.375000  \n",
              "2021        1.600000  \n",
              "2022       -0.076923  \n",
              "2023        0.000000  "
            ],
            "text/html": [
              "\n",
              "  <div id=\"df-e9037edb-91c0-439f-964f-04b56531162c\" class=\"colab-df-container\">\n",
              "    <div>\n",
              "<style scoped>\n",
              "    .dataframe tbody tr th:only-of-type {\n",
              "        vertical-align: middle;\n",
              "    }\n",
              "\n",
              "    .dataframe tbody tr th {\n",
              "        vertical-align: top;\n",
              "    }\n",
              "\n",
              "    .dataframe thead th {\n",
              "        text-align: right;\n",
              "    }\n",
              "</style>\n",
              "<table border=\"1\" class=\"dataframe\">\n",
              "  <thead>\n",
              "    <tr style=\"text-align: right;\">\n",
              "      <th></th>\n",
              "      <th>Dividends</th>\n",
              "      <th>Stock Splits</th>\n",
              "      <th>adjusted_stocksplit</th>\n",
              "      <th>adjusted_dividends</th>\n",
              "      <th>div_PCT_Change</th>\n",
              "    </tr>\n",
              "    <tr>\n",
              "      <th>year</th>\n",
              "      <th></th>\n",
              "      <th></th>\n",
              "      <th></th>\n",
              "      <th></th>\n",
              "      <th></th>\n",
              "    </tr>\n",
              "  </thead>\n",
              "  <tbody>\n",
              "    <tr>\n",
              "      <th>1995</th>\n",
              "      <td>0.080001</td>\n",
              "      <td>0.0</td>\n",
              "      <td>3.0</td>\n",
              "      <td>0.080001</td>\n",
              "      <td>NaN</td>\n",
              "    </tr>\n",
              "    <tr>\n",
              "      <th>1996</th>\n",
              "      <td>0.106668</td>\n",
              "      <td>0.0</td>\n",
              "      <td>4.0</td>\n",
              "      <td>0.106668</td>\n",
              "      <td>0.333333</td>\n",
              "    </tr>\n",
              "    <tr>\n",
              "      <th>1997</th>\n",
              "      <td>0.106668</td>\n",
              "      <td>0.0</td>\n",
              "      <td>4.0</td>\n",
              "      <td>0.106668</td>\n",
              "      <td>0.000000</td>\n",
              "    </tr>\n",
              "    <tr>\n",
              "      <th>1998</th>\n",
              "      <td>0.106668</td>\n",
              "      <td>0.0</td>\n",
              "      <td>4.0</td>\n",
              "      <td>0.106668</td>\n",
              "      <td>0.000000</td>\n",
              "    </tr>\n",
              "    <tr>\n",
              "      <th>1999</th>\n",
              "      <td>0.108334</td>\n",
              "      <td>3.0</td>\n",
              "      <td>7.0</td>\n",
              "      <td>0.108334</td>\n",
              "      <td>0.015619</td>\n",
              "    </tr>\n",
              "    <tr>\n",
              "      <th>2000</th>\n",
              "      <td>0.108000</td>\n",
              "      <td>0.0</td>\n",
              "      <td>4.0</td>\n",
              "      <td>0.108000</td>\n",
              "      <td>-0.003083</td>\n",
              "    </tr>\n",
              "    <tr>\n",
              "      <th>2001</th>\n",
              "      <td>0.108000</td>\n",
              "      <td>0.0</td>\n",
              "      <td>4.0</td>\n",
              "      <td>0.108000</td>\n",
              "      <td>0.000000</td>\n",
              "    </tr>\n",
              "    <tr>\n",
              "      <th>2002</th>\n",
              "      <td>0.109000</td>\n",
              "      <td>0.0</td>\n",
              "      <td>4.0</td>\n",
              "      <td>0.109000</td>\n",
              "      <td>0.009259</td>\n",
              "    </tr>\n",
              "    <tr>\n",
              "      <th>2003</th>\n",
              "      <td>0.109000</td>\n",
              "      <td>0.0</td>\n",
              "      <td>4.0</td>\n",
              "      <td>0.109000</td>\n",
              "      <td>0.000000</td>\n",
              "    </tr>\n",
              "    <tr>\n",
              "      <th>2004</th>\n",
              "      <td>0.112000</td>\n",
              "      <td>0.0</td>\n",
              "      <td>4.0</td>\n",
              "      <td>0.112000</td>\n",
              "      <td>0.027523</td>\n",
              "    </tr>\n",
              "    <tr>\n",
              "      <th>2005</th>\n",
              "      <td>0.108000</td>\n",
              "      <td>0.0</td>\n",
              "      <td>4.0</td>\n",
              "      <td>0.108000</td>\n",
              "      <td>-0.035714</td>\n",
              "    </tr>\n",
              "    <tr>\n",
              "      <th>2006</th>\n",
              "      <td>0.108000</td>\n",
              "      <td>0.0</td>\n",
              "      <td>4.0</td>\n",
              "      <td>0.108000</td>\n",
              "      <td>0.000000</td>\n",
              "    </tr>\n",
              "    <tr>\n",
              "      <th>2007</th>\n",
              "      <td>0.108000</td>\n",
              "      <td>0.0</td>\n",
              "      <td>4.0</td>\n",
              "      <td>0.108000</td>\n",
              "      <td>0.000000</td>\n",
              "    </tr>\n",
              "    <tr>\n",
              "      <th>2008</th>\n",
              "      <td>1.500000</td>\n",
              "      <td>0.0</td>\n",
              "      <td>4.0</td>\n",
              "      <td>1.500000</td>\n",
              "      <td>12.888889</td>\n",
              "    </tr>\n",
              "    <tr>\n",
              "      <th>2009</th>\n",
              "      <td>0.525000</td>\n",
              "      <td>0.0</td>\n",
              "      <td>4.0</td>\n",
              "      <td>0.525000</td>\n",
              "      <td>-0.650000</td>\n",
              "    </tr>\n",
              "    <tr>\n",
              "      <th>2010</th>\n",
              "      <td>0.200000</td>\n",
              "      <td>0.0</td>\n",
              "      <td>4.0</td>\n",
              "      <td>0.200000</td>\n",
              "      <td>-0.619048</td>\n",
              "    </tr>\n",
              "    <tr>\n",
              "      <th>2011</th>\n",
              "      <td>0.200000</td>\n",
              "      <td>0.0</td>\n",
              "      <td>4.0</td>\n",
              "      <td>0.200000</td>\n",
              "      <td>0.000000</td>\n",
              "    </tr>\n",
              "    <tr>\n",
              "      <th>2012</th>\n",
              "      <td>0.200000</td>\n",
              "      <td>0.0</td>\n",
              "      <td>4.0</td>\n",
              "      <td>0.200000</td>\n",
              "      <td>0.000000</td>\n",
              "    </tr>\n",
              "    <tr>\n",
              "      <th>2013</th>\n",
              "      <td>0.950000</td>\n",
              "      <td>0.0</td>\n",
              "      <td>4.0</td>\n",
              "      <td>0.950000</td>\n",
              "      <td>3.750000</td>\n",
              "    </tr>\n",
              "    <tr>\n",
              "      <th>2014</th>\n",
              "      <td>1.200000</td>\n",
              "      <td>0.0</td>\n",
              "      <td>4.0</td>\n",
              "      <td>1.200000</td>\n",
              "      <td>0.263158</td>\n",
              "    </tr>\n",
              "    <tr>\n",
              "      <th>2015</th>\n",
              "      <td>1.500000</td>\n",
              "      <td>0.0</td>\n",
              "      <td>4.0</td>\n",
              "      <td>1.500000</td>\n",
              "      <td>0.250000</td>\n",
              "    </tr>\n",
              "    <tr>\n",
              "      <th>2016</th>\n",
              "      <td>1.600000</td>\n",
              "      <td>0.0</td>\n",
              "      <td>4.0</td>\n",
              "      <td>1.600000</td>\n",
              "      <td>0.066667</td>\n",
              "    </tr>\n",
              "    <tr>\n",
              "      <th>2017</th>\n",
              "      <td>1.600000</td>\n",
              "      <td>0.0</td>\n",
              "      <td>4.0</td>\n",
              "      <td>1.600000</td>\n",
              "      <td>0.000000</td>\n",
              "    </tr>\n",
              "    <tr>\n",
              "      <th>2018</th>\n",
              "      <td>1.600000</td>\n",
              "      <td>0.0</td>\n",
              "      <td>4.0</td>\n",
              "      <td>1.600000</td>\n",
              "      <td>0.000000</td>\n",
              "    </tr>\n",
              "    <tr>\n",
              "      <th>2019</th>\n",
              "      <td>1.600000</td>\n",
              "      <td>0.0</td>\n",
              "      <td>4.0</td>\n",
              "      <td>1.600000</td>\n",
              "      <td>0.000000</td>\n",
              "    </tr>\n",
              "    <tr>\n",
              "      <th>2020</th>\n",
              "      <td>1.000000</td>\n",
              "      <td>0.0</td>\n",
              "      <td>4.0</td>\n",
              "      <td>1.000000</td>\n",
              "      <td>-0.375000</td>\n",
              "    </tr>\n",
              "    <tr>\n",
              "      <th>2021</th>\n",
              "      <td>2.600000</td>\n",
              "      <td>0.0</td>\n",
              "      <td>4.0</td>\n",
              "      <td>2.600000</td>\n",
              "      <td>1.600000</td>\n",
              "    </tr>\n",
              "    <tr>\n",
              "      <th>2022</th>\n",
              "      <td>2.400000</td>\n",
              "      <td>0.0</td>\n",
              "      <td>4.0</td>\n",
              "      <td>2.400000</td>\n",
              "      <td>-0.076923</td>\n",
              "    </tr>\n",
              "    <tr>\n",
              "      <th>2023</th>\n",
              "      <td>2.400000</td>\n",
              "      <td>0.0</td>\n",
              "      <td>4.0</td>\n",
              "      <td>2.400000</td>\n",
              "      <td>0.000000</td>\n",
              "    </tr>\n",
              "  </tbody>\n",
              "</table>\n",
              "</div>\n",
              "    <div class=\"colab-df-buttons\">\n",
              "\n",
              "  <div class=\"colab-df-container\">\n",
              "    <button class=\"colab-df-convert\" onclick=\"convertToInteractive('df-e9037edb-91c0-439f-964f-04b56531162c')\"\n",
              "            title=\"Convert this dataframe to an interactive table.\"\n",
              "            style=\"display:none;\">\n",
              "\n",
              "  <svg xmlns=\"http://www.w3.org/2000/svg\" height=\"24px\" viewBox=\"0 -960 960 960\">\n",
              "    <path d=\"M120-120v-720h720v720H120Zm60-500h600v-160H180v160Zm220 220h160v-160H400v160Zm0 220h160v-160H400v160ZM180-400h160v-160H180v160Zm440 0h160v-160H620v160ZM180-180h160v-160H180v160Zm440 0h160v-160H620v160Z\"/>\n",
              "  </svg>\n",
              "    </button>\n",
              "\n",
              "  <style>\n",
              "    .colab-df-container {\n",
              "      display:flex;\n",
              "      gap: 12px;\n",
              "    }\n",
              "\n",
              "    .colab-df-convert {\n",
              "      background-color: #E8F0FE;\n",
              "      border: none;\n",
              "      border-radius: 50%;\n",
              "      cursor: pointer;\n",
              "      display: none;\n",
              "      fill: #1967D2;\n",
              "      height: 32px;\n",
              "      padding: 0 0 0 0;\n",
              "      width: 32px;\n",
              "    }\n",
              "\n",
              "    .colab-df-convert:hover {\n",
              "      background-color: #E2EBFA;\n",
              "      box-shadow: 0px 1px 2px rgba(60, 64, 67, 0.3), 0px 1px 3px 1px rgba(60, 64, 67, 0.15);\n",
              "      fill: #174EA6;\n",
              "    }\n",
              "\n",
              "    .colab-df-buttons div {\n",
              "      margin-bottom: 4px;\n",
              "    }\n",
              "\n",
              "    [theme=dark] .colab-df-convert {\n",
              "      background-color: #3B4455;\n",
              "      fill: #D2E3FC;\n",
              "    }\n",
              "\n",
              "    [theme=dark] .colab-df-convert:hover {\n",
              "      background-color: #434B5C;\n",
              "      box-shadow: 0px 1px 3px 1px rgba(0, 0, 0, 0.15);\n",
              "      filter: drop-shadow(0px 1px 2px rgba(0, 0, 0, 0.3));\n",
              "      fill: #FFFFFF;\n",
              "    }\n",
              "  </style>\n",
              "\n",
              "    <script>\n",
              "      const buttonEl =\n",
              "        document.querySelector('#df-e9037edb-91c0-439f-964f-04b56531162c button.colab-df-convert');\n",
              "      buttonEl.style.display =\n",
              "        google.colab.kernel.accessAllowed ? 'block' : 'none';\n",
              "\n",
              "      async function convertToInteractive(key) {\n",
              "        const element = document.querySelector('#df-e9037edb-91c0-439f-964f-04b56531162c');\n",
              "        const dataTable =\n",
              "          await google.colab.kernel.invokeFunction('convertToInteractive',\n",
              "                                                    [key], {});\n",
              "        if (!dataTable) return;\n",
              "\n",
              "        const docLinkHtml = 'Like what you see? Visit the ' +\n",
              "          '<a target=\"_blank\" href=https://colab.research.google.com/notebooks/data_table.ipynb>data table notebook</a>'\n",
              "          + ' to learn more about interactive tables.';\n",
              "        element.innerHTML = '';\n",
              "        dataTable['output_type'] = 'display_data';\n",
              "        await google.colab.output.renderOutput(dataTable, element);\n",
              "        const docLink = document.createElement('div');\n",
              "        docLink.innerHTML = docLinkHtml;\n",
              "        element.appendChild(docLink);\n",
              "      }\n",
              "    </script>\n",
              "  </div>\n",
              "\n",
              "\n",
              "<div id=\"df-fb2058ed-c1b5-4915-ac34-6721df6ea922\">\n",
              "  <button class=\"colab-df-quickchart\" onclick=\"quickchart('df-fb2058ed-c1b5-4915-ac34-6721df6ea922')\"\n",
              "            title=\"Suggest charts\"\n",
              "            style=\"display:none;\">\n",
              "\n",
              "<svg xmlns=\"http://www.w3.org/2000/svg\" height=\"24px\"viewBox=\"0 0 24 24\"\n",
              "     width=\"24px\">\n",
              "    <g>\n",
              "        <path d=\"M19 3H5c-1.1 0-2 .9-2 2v14c0 1.1.9 2 2 2h14c1.1 0 2-.9 2-2V5c0-1.1-.9-2-2-2zM9 17H7v-7h2v7zm4 0h-2V7h2v10zm4 0h-2v-4h2v4z\"/>\n",
              "    </g>\n",
              "</svg>\n",
              "  </button>\n",
              "\n",
              "<style>\n",
              "  .colab-df-quickchart {\n",
              "      --bg-color: #E8F0FE;\n",
              "      --fill-color: #1967D2;\n",
              "      --hover-bg-color: #E2EBFA;\n",
              "      --hover-fill-color: #174EA6;\n",
              "      --disabled-fill-color: #AAA;\n",
              "      --disabled-bg-color: #DDD;\n",
              "  }\n",
              "\n",
              "  [theme=dark] .colab-df-quickchart {\n",
              "      --bg-color: #3B4455;\n",
              "      --fill-color: #D2E3FC;\n",
              "      --hover-bg-color: #434B5C;\n",
              "      --hover-fill-color: #FFFFFF;\n",
              "      --disabled-bg-color: #3B4455;\n",
              "      --disabled-fill-color: #666;\n",
              "  }\n",
              "\n",
              "  .colab-df-quickchart {\n",
              "    background-color: var(--bg-color);\n",
              "    border: none;\n",
              "    border-radius: 50%;\n",
              "    cursor: pointer;\n",
              "    display: none;\n",
              "    fill: var(--fill-color);\n",
              "    height: 32px;\n",
              "    padding: 0;\n",
              "    width: 32px;\n",
              "  }\n",
              "\n",
              "  .colab-df-quickchart:hover {\n",
              "    background-color: var(--hover-bg-color);\n",
              "    box-shadow: 0 1px 2px rgba(60, 64, 67, 0.3), 0 1px 3px 1px rgba(60, 64, 67, 0.15);\n",
              "    fill: var(--button-hover-fill-color);\n",
              "  }\n",
              "\n",
              "  .colab-df-quickchart-complete:disabled,\n",
              "  .colab-df-quickchart-complete:disabled:hover {\n",
              "    background-color: var(--disabled-bg-color);\n",
              "    fill: var(--disabled-fill-color);\n",
              "    box-shadow: none;\n",
              "  }\n",
              "\n",
              "  .colab-df-spinner {\n",
              "    border: 2px solid var(--fill-color);\n",
              "    border-color: transparent;\n",
              "    border-bottom-color: var(--fill-color);\n",
              "    animation:\n",
              "      spin 1s steps(1) infinite;\n",
              "  }\n",
              "\n",
              "  @keyframes spin {\n",
              "    0% {\n",
              "      border-color: transparent;\n",
              "      border-bottom-color: var(--fill-color);\n",
              "      border-left-color: var(--fill-color);\n",
              "    }\n",
              "    20% {\n",
              "      border-color: transparent;\n",
              "      border-left-color: var(--fill-color);\n",
              "      border-top-color: var(--fill-color);\n",
              "    }\n",
              "    30% {\n",
              "      border-color: transparent;\n",
              "      border-left-color: var(--fill-color);\n",
              "      border-top-color: var(--fill-color);\n",
              "      border-right-color: var(--fill-color);\n",
              "    }\n",
              "    40% {\n",
              "      border-color: transparent;\n",
              "      border-right-color: var(--fill-color);\n",
              "      border-top-color: var(--fill-color);\n",
              "    }\n",
              "    60% {\n",
              "      border-color: transparent;\n",
              "      border-right-color: var(--fill-color);\n",
              "    }\n",
              "    80% {\n",
              "      border-color: transparent;\n",
              "      border-right-color: var(--fill-color);\n",
              "      border-bottom-color: var(--fill-color);\n",
              "    }\n",
              "    90% {\n",
              "      border-color: transparent;\n",
              "      border-bottom-color: var(--fill-color);\n",
              "    }\n",
              "  }\n",
              "</style>\n",
              "\n",
              "  <script>\n",
              "    async function quickchart(key) {\n",
              "      const quickchartButtonEl =\n",
              "        document.querySelector('#' + key + ' button');\n",
              "      quickchartButtonEl.disabled = true;  // To prevent multiple clicks.\n",
              "      quickchartButtonEl.classList.add('colab-df-spinner');\n",
              "      try {\n",
              "        const charts = await google.colab.kernel.invokeFunction(\n",
              "            'suggestCharts', [key], {});\n",
              "      } catch (error) {\n",
              "        console.error('Error during call to suggestCharts:', error);\n",
              "      }\n",
              "      quickchartButtonEl.classList.remove('colab-df-spinner');\n",
              "      quickchartButtonEl.classList.add('colab-df-quickchart-complete');\n",
              "    }\n",
              "    (() => {\n",
              "      let quickchartButtonEl =\n",
              "        document.querySelector('#df-fb2058ed-c1b5-4915-ac34-6721df6ea922 button');\n",
              "      quickchartButtonEl.style.display =\n",
              "        google.colab.kernel.accessAllowed ? 'block' : 'none';\n",
              "    })();\n",
              "  </script>\n",
              "</div>\n",
              "    </div>\n",
              "  </div>\n"
            ]
          },
          "metadata": {},
          "execution_count": 279
        }
      ]
    },
    {
      "cell_type": "code",
      "source": [
        "## Calculating the Market Risk Premium\n",
        "market_risk_premium = market_return - risk_free_rate\n",
        "print(f\"The Market Risk Premium is {market_risk_premium:.3f}\")"
      ],
      "metadata": {
        "colab": {
          "base_uri": "https://localhost:8080/"
        },
        "id": "xyT4JI_16ufe",
        "outputId": "356a391e-8a7f-43d8-ff13-59007706b0ff"
      },
      "execution_count": 280,
      "outputs": [
        {
          "output_type": "stream",
          "name": "stdout",
          "text": [
            "The Market Risk Premium is 0.061\n"
          ]
        }
      ]
    },
    {
      "cell_type": "code",
      "source": [
        "## Calculating the Cost of Equity\n",
        "Cost_of_equity = Beta * market_risk_premium + risk_free_rate\n",
        "print(f\"The Cost of Equity is {Cost_of_equity:.3f}\")"
      ],
      "metadata": {
        "colab": {
          "base_uri": "https://localhost:8080/"
        },
        "id": "q-0_O_NK6i9e",
        "outputId": "9a072a02-892b-46bb-9e2a-83cc7a3ae3f0"
      },
      "execution_count": 281,
      "outputs": [
        {
          "output_type": "stream",
          "name": "stdout",
          "text": [
            "The Cost of Equity is 0.131\n"
          ]
        }
      ]
    },
    {
      "cell_type": "code",
      "source": [
        "## What is the median growth of dividend change\n",
        "median_growth = COF['div_PCT_Change'].median(skipna=True)\n",
        "median_growth"
      ],
      "metadata": {
        "colab": {
          "base_uri": "https://localhost:8080/"
        },
        "id": "9DozktEg8SPR",
        "outputId": "052e495d-63c3-4bb5-8676-f4c4ba0bd5bb"
      },
      "execution_count": 282,
      "outputs": [
        {
          "output_type": "execute_result",
          "data": {
            "text/plain": [
              "0.0"
            ]
          },
          "metadata": {},
          "execution_count": 282
        }
      ]
    },
    {
      "cell_type": "code",
      "source": [
        "## Obtaininf the fitst dividend offered by Capital One\n",
        "first_dividend = COF.at[2023, 'Dividends']\n",
        "first_dividend"
      ],
      "metadata": {
        "colab": {
          "base_uri": "https://localhost:8080/"
        },
        "id": "0ol3WgIJ9qNW",
        "outputId": "4ec25c0f-ebcc-4e78-ecc6-698302ff2905"
      },
      "execution_count": 283,
      "outputs": [
        {
          "output_type": "execute_result",
          "data": {
            "text/plain": [
              "2.4"
            ]
          },
          "metadata": {},
          "execution_count": 283
        }
      ]
    },
    {
      "cell_type": "code",
      "source": [
        "## Calculating the expected future dividend -- As the calculation state, the expected future dividend remains the same\n",
        "expected_future_div = first_dividend * (1+median_growth)\n",
        "print(f\"The Expected Future Dividend is {expected_future_div:.3f}\")"
      ],
      "metadata": {
        "colab": {
          "base_uri": "https://localhost:8080/"
        },
        "id": "CUGmnBeJ9wx4",
        "outputId": "00e98b3f-4140-4809-85d6-a61172057b5b"
      },
      "execution_count": 284,
      "outputs": [
        {
          "output_type": "stream",
          "name": "stdout",
          "text": [
            "The Expected Future Dividend is 2.400\n"
          ]
        }
      ]
    },
    {
      "cell_type": "code",
      "source": [
        "## Calculating the fair share price of COF\n",
        "fair_share_price = expected_future_div / (Cost_of_equity - median_growth)\n",
        "print(f\"The Fair Share Price is {fair_share_price:.3f}\")"
      ],
      "metadata": {
        "colab": {
          "base_uri": "https://localhost:8080/"
        },
        "id": "KJghIuS_7koV",
        "outputId": "453626a5-1e0a-4aa4-e276-457d2f85566e"
      },
      "execution_count": 285,
      "outputs": [
        {
          "output_type": "stream",
          "name": "stdout",
          "text": [
            "The Fair Share Price is 18.256\n"
          ]
        }
      ]
    },
    {
      "cell_type": "code",
      "source": [
        "## Capital One Stock Price today\n",
        "COF_stock_price_today = ticker.history(period='today')\n",
        "COF_stock_price_close = COF_stock_price_today.iloc[0]['Close']\n",
        "COF_stock_price_close"
      ],
      "metadata": {
        "colab": {
          "base_uri": "https://localhost:8080/"
        },
        "id": "uKFl2AO581NI",
        "outputId": "ac0ed683-0698-4404-a3d7-762f7738a3fc"
      },
      "execution_count": 286,
      "outputs": [
        {
          "output_type": "execute_result",
          "data": {
            "text/plain": [
              "129.67999267578125"
            ]
          },
          "metadata": {},
          "execution_count": 286
        }
      ]
    },
    {
      "cell_type": "code",
      "source": [
        "## Calculating the expected gain or loss of the stock for investors\n",
        "expected_gain_loss = fair_share_price/COF_stock_price_close-1\n",
        "print(f\"The Expected Gain or Loss is {expected_gain_loss:.3f}\")"
      ],
      "metadata": {
        "colab": {
          "base_uri": "https://localhost:8080/"
        },
        "id": "BS1uYWir9Eez",
        "outputId": "e112770b-d2f8-4bb3-cf43-e0748ba14ce9"
      },
      "execution_count": 287,
      "outputs": [
        {
          "output_type": "stream",
          "name": "stdout",
          "text": [
            "The Expected Gain or Loss is -0.859\n"
          ]
        }
      ]
    },
    {
      "cell_type": "markdown",
      "source": [
        "### Calculating the FCF Evaluation"
      ],
      "metadata": {
        "id": "veN2w4c8u8LQ"
      }
    },
    {
      "cell_type": "code",
      "source": [
        "from google.colab import drive\n",
        "drive.mount('/content/gdrive')"
      ],
      "metadata": {
        "colab": {
          "base_uri": "https://localhost:8080/"
        },
        "id": "BxSlnoAVHZQg",
        "outputId": "8ecb3440-2ad9-4779-b47a-aef3d87d7b34"
      },
      "execution_count": 288,
      "outputs": [
        {
          "output_type": "stream",
          "name": "stdout",
          "text": [
            "Drive already mounted at /content/gdrive; to attempt to forcibly remount, call drive.mount(\"/content/gdrive\", force_remount=True).\n"
          ]
        }
      ]
    },
    {
      "cell_type": "code",
      "source": [
        "values = pd.read_excel('/content/gdrive/MyDrive/COF_personal_project_Stock_Evaluation/COF_CashFlow.xlsx', sheet_name='Values')"
      ],
      "metadata": {
        "id": "1X9bSyhxTeoe"
      },
      "execution_count": 289,
      "outputs": []
    },
    {
      "cell_type": "code",
      "source": [
        "values"
      ],
      "metadata": {
        "colab": {
          "base_uri": "https://localhost:8080/",
          "height": 174
        },
        "id": "kKVTiFNoTrNY",
        "outputId": "aecc319d-5046-4375-8bed-1478ba28181a"
      },
      "execution_count": 290,
      "outputs": [
        {
          "output_type": "execute_result",
          "data": {
            "text/plain": [
              "   Free Cash Flow  Interest Expense  Tax Provision  Pretax Income  Date\n",
              "0        12875000          19412000        1880000        9240000  2022\n",
              "1        11612000          16470000        3415000       15809000  2021\n",
              "2        15989000          14716000         486000        3203000  2020\n",
              "3        15752000          14994000        1341000        6874000  2019"
            ],
            "text/html": [
              "\n",
              "  <div id=\"df-5770a918-edfe-474c-8de3-3c2f12629007\" class=\"colab-df-container\">\n",
              "    <div>\n",
              "<style scoped>\n",
              "    .dataframe tbody tr th:only-of-type {\n",
              "        vertical-align: middle;\n",
              "    }\n",
              "\n",
              "    .dataframe tbody tr th {\n",
              "        vertical-align: top;\n",
              "    }\n",
              "\n",
              "    .dataframe thead th {\n",
              "        text-align: right;\n",
              "    }\n",
              "</style>\n",
              "<table border=\"1\" class=\"dataframe\">\n",
              "  <thead>\n",
              "    <tr style=\"text-align: right;\">\n",
              "      <th></th>\n",
              "      <th>Free Cash Flow</th>\n",
              "      <th>Interest Expense</th>\n",
              "      <th>Tax Provision</th>\n",
              "      <th>Pretax Income</th>\n",
              "      <th>Date</th>\n",
              "    </tr>\n",
              "  </thead>\n",
              "  <tbody>\n",
              "    <tr>\n",
              "      <th>0</th>\n",
              "      <td>12875000</td>\n",
              "      <td>19412000</td>\n",
              "      <td>1880000</td>\n",
              "      <td>9240000</td>\n",
              "      <td>2022</td>\n",
              "    </tr>\n",
              "    <tr>\n",
              "      <th>1</th>\n",
              "      <td>11612000</td>\n",
              "      <td>16470000</td>\n",
              "      <td>3415000</td>\n",
              "      <td>15809000</td>\n",
              "      <td>2021</td>\n",
              "    </tr>\n",
              "    <tr>\n",
              "      <th>2</th>\n",
              "      <td>15989000</td>\n",
              "      <td>14716000</td>\n",
              "      <td>486000</td>\n",
              "      <td>3203000</td>\n",
              "      <td>2020</td>\n",
              "    </tr>\n",
              "    <tr>\n",
              "      <th>3</th>\n",
              "      <td>15752000</td>\n",
              "      <td>14994000</td>\n",
              "      <td>1341000</td>\n",
              "      <td>6874000</td>\n",
              "      <td>2019</td>\n",
              "    </tr>\n",
              "  </tbody>\n",
              "</table>\n",
              "</div>\n",
              "    <div class=\"colab-df-buttons\">\n",
              "\n",
              "  <div class=\"colab-df-container\">\n",
              "    <button class=\"colab-df-convert\" onclick=\"convertToInteractive('df-5770a918-edfe-474c-8de3-3c2f12629007')\"\n",
              "            title=\"Convert this dataframe to an interactive table.\"\n",
              "            style=\"display:none;\">\n",
              "\n",
              "  <svg xmlns=\"http://www.w3.org/2000/svg\" height=\"24px\" viewBox=\"0 -960 960 960\">\n",
              "    <path d=\"M120-120v-720h720v720H120Zm60-500h600v-160H180v160Zm220 220h160v-160H400v160Zm0 220h160v-160H400v160ZM180-400h160v-160H180v160Zm440 0h160v-160H620v160ZM180-180h160v-160H180v160Zm440 0h160v-160H620v160Z\"/>\n",
              "  </svg>\n",
              "    </button>\n",
              "\n",
              "  <style>\n",
              "    .colab-df-container {\n",
              "      display:flex;\n",
              "      gap: 12px;\n",
              "    }\n",
              "\n",
              "    .colab-df-convert {\n",
              "      background-color: #E8F0FE;\n",
              "      border: none;\n",
              "      border-radius: 50%;\n",
              "      cursor: pointer;\n",
              "      display: none;\n",
              "      fill: #1967D2;\n",
              "      height: 32px;\n",
              "      padding: 0 0 0 0;\n",
              "      width: 32px;\n",
              "    }\n",
              "\n",
              "    .colab-df-convert:hover {\n",
              "      background-color: #E2EBFA;\n",
              "      box-shadow: 0px 1px 2px rgba(60, 64, 67, 0.3), 0px 1px 3px 1px rgba(60, 64, 67, 0.15);\n",
              "      fill: #174EA6;\n",
              "    }\n",
              "\n",
              "    .colab-df-buttons div {\n",
              "      margin-bottom: 4px;\n",
              "    }\n",
              "\n",
              "    [theme=dark] .colab-df-convert {\n",
              "      background-color: #3B4455;\n",
              "      fill: #D2E3FC;\n",
              "    }\n",
              "\n",
              "    [theme=dark] .colab-df-convert:hover {\n",
              "      background-color: #434B5C;\n",
              "      box-shadow: 0px 1px 3px 1px rgba(0, 0, 0, 0.15);\n",
              "      filter: drop-shadow(0px 1px 2px rgba(0, 0, 0, 0.3));\n",
              "      fill: #FFFFFF;\n",
              "    }\n",
              "  </style>\n",
              "\n",
              "    <script>\n",
              "      const buttonEl =\n",
              "        document.querySelector('#df-5770a918-edfe-474c-8de3-3c2f12629007 button.colab-df-convert');\n",
              "      buttonEl.style.display =\n",
              "        google.colab.kernel.accessAllowed ? 'block' : 'none';\n",
              "\n",
              "      async function convertToInteractive(key) {\n",
              "        const element = document.querySelector('#df-5770a918-edfe-474c-8de3-3c2f12629007');\n",
              "        const dataTable =\n",
              "          await google.colab.kernel.invokeFunction('convertToInteractive',\n",
              "                                                    [key], {});\n",
              "        if (!dataTable) return;\n",
              "\n",
              "        const docLinkHtml = 'Like what you see? Visit the ' +\n",
              "          '<a target=\"_blank\" href=https://colab.research.google.com/notebooks/data_table.ipynb>data table notebook</a>'\n",
              "          + ' to learn more about interactive tables.';\n",
              "        element.innerHTML = '';\n",
              "        dataTable['output_type'] = 'display_data';\n",
              "        await google.colab.output.renderOutput(dataTable, element);\n",
              "        const docLink = document.createElement('div');\n",
              "        docLink.innerHTML = docLinkHtml;\n",
              "        element.appendChild(docLink);\n",
              "      }\n",
              "    </script>\n",
              "  </div>\n",
              "\n",
              "\n",
              "<div id=\"df-4f9ca48e-658c-40a9-ae8d-175155f0c92c\">\n",
              "  <button class=\"colab-df-quickchart\" onclick=\"quickchart('df-4f9ca48e-658c-40a9-ae8d-175155f0c92c')\"\n",
              "            title=\"Suggest charts\"\n",
              "            style=\"display:none;\">\n",
              "\n",
              "<svg xmlns=\"http://www.w3.org/2000/svg\" height=\"24px\"viewBox=\"0 0 24 24\"\n",
              "     width=\"24px\">\n",
              "    <g>\n",
              "        <path d=\"M19 3H5c-1.1 0-2 .9-2 2v14c0 1.1.9 2 2 2h14c1.1 0 2-.9 2-2V5c0-1.1-.9-2-2-2zM9 17H7v-7h2v7zm4 0h-2V7h2v10zm4 0h-2v-4h2v4z\"/>\n",
              "    </g>\n",
              "</svg>\n",
              "  </button>\n",
              "\n",
              "<style>\n",
              "  .colab-df-quickchart {\n",
              "      --bg-color: #E8F0FE;\n",
              "      --fill-color: #1967D2;\n",
              "      --hover-bg-color: #E2EBFA;\n",
              "      --hover-fill-color: #174EA6;\n",
              "      --disabled-fill-color: #AAA;\n",
              "      --disabled-bg-color: #DDD;\n",
              "  }\n",
              "\n",
              "  [theme=dark] .colab-df-quickchart {\n",
              "      --bg-color: #3B4455;\n",
              "      --fill-color: #D2E3FC;\n",
              "      --hover-bg-color: #434B5C;\n",
              "      --hover-fill-color: #FFFFFF;\n",
              "      --disabled-bg-color: #3B4455;\n",
              "      --disabled-fill-color: #666;\n",
              "  }\n",
              "\n",
              "  .colab-df-quickchart {\n",
              "    background-color: var(--bg-color);\n",
              "    border: none;\n",
              "    border-radius: 50%;\n",
              "    cursor: pointer;\n",
              "    display: none;\n",
              "    fill: var(--fill-color);\n",
              "    height: 32px;\n",
              "    padding: 0;\n",
              "    width: 32px;\n",
              "  }\n",
              "\n",
              "  .colab-df-quickchart:hover {\n",
              "    background-color: var(--hover-bg-color);\n",
              "    box-shadow: 0 1px 2px rgba(60, 64, 67, 0.3), 0 1px 3px 1px rgba(60, 64, 67, 0.15);\n",
              "    fill: var(--button-hover-fill-color);\n",
              "  }\n",
              "\n",
              "  .colab-df-quickchart-complete:disabled,\n",
              "  .colab-df-quickchart-complete:disabled:hover {\n",
              "    background-color: var(--disabled-bg-color);\n",
              "    fill: var(--disabled-fill-color);\n",
              "    box-shadow: none;\n",
              "  }\n",
              "\n",
              "  .colab-df-spinner {\n",
              "    border: 2px solid var(--fill-color);\n",
              "    border-color: transparent;\n",
              "    border-bottom-color: var(--fill-color);\n",
              "    animation:\n",
              "      spin 1s steps(1) infinite;\n",
              "  }\n",
              "\n",
              "  @keyframes spin {\n",
              "    0% {\n",
              "      border-color: transparent;\n",
              "      border-bottom-color: var(--fill-color);\n",
              "      border-left-color: var(--fill-color);\n",
              "    }\n",
              "    20% {\n",
              "      border-color: transparent;\n",
              "      border-left-color: var(--fill-color);\n",
              "      border-top-color: var(--fill-color);\n",
              "    }\n",
              "    30% {\n",
              "      border-color: transparent;\n",
              "      border-left-color: var(--fill-color);\n",
              "      border-top-color: var(--fill-color);\n",
              "      border-right-color: var(--fill-color);\n",
              "    }\n",
              "    40% {\n",
              "      border-color: transparent;\n",
              "      border-right-color: var(--fill-color);\n",
              "      border-top-color: var(--fill-color);\n",
              "    }\n",
              "    60% {\n",
              "      border-color: transparent;\n",
              "      border-right-color: var(--fill-color);\n",
              "    }\n",
              "    80% {\n",
              "      border-color: transparent;\n",
              "      border-right-color: var(--fill-color);\n",
              "      border-bottom-color: var(--fill-color);\n",
              "    }\n",
              "    90% {\n",
              "      border-color: transparent;\n",
              "      border-bottom-color: var(--fill-color);\n",
              "    }\n",
              "  }\n",
              "</style>\n",
              "\n",
              "  <script>\n",
              "    async function quickchart(key) {\n",
              "      const quickchartButtonEl =\n",
              "        document.querySelector('#' + key + ' button');\n",
              "      quickchartButtonEl.disabled = true;  // To prevent multiple clicks.\n",
              "      quickchartButtonEl.classList.add('colab-df-spinner');\n",
              "      try {\n",
              "        const charts = await google.colab.kernel.invokeFunction(\n",
              "            'suggestCharts', [key], {});\n",
              "      } catch (error) {\n",
              "        console.error('Error during call to suggestCharts:', error);\n",
              "      }\n",
              "      quickchartButtonEl.classList.remove('colab-df-spinner');\n",
              "      quickchartButtonEl.classList.add('colab-df-quickchart-complete');\n",
              "    }\n",
              "    (() => {\n",
              "      let quickchartButtonEl =\n",
              "        document.querySelector('#df-4f9ca48e-658c-40a9-ae8d-175155f0c92c button');\n",
              "      quickchartButtonEl.style.display =\n",
              "        google.colab.kernel.accessAllowed ? 'block' : 'none';\n",
              "    })();\n",
              "  </script>\n",
              "</div>\n",
              "    </div>\n",
              "  </div>\n"
            ]
          },
          "metadata": {},
          "execution_count": 290
        }
      ]
    },
    {
      "cell_type": "code",
      "source": [
        "## Calculating the Free Cash Flow Evaluation\n",
        "FCF = values['Free Cash Flow'] + values['Interest Expense'] * (1 - values['Tax Provision'] / values['Pretax Income'])"
      ],
      "metadata": {
        "id": "dygtSi_pTvU7"
      },
      "execution_count": 291,
      "outputs": []
    },
    {
      "cell_type": "code",
      "source": [
        "values['FCF'] = FCFF.tolist()\n",
        "values"
      ],
      "metadata": {
        "colab": {
          "base_uri": "https://localhost:8080/",
          "height": 174
        },
        "id": "0rNRNLbbUKBR",
        "outputId": "b6b1274c-3726-441a-ea3a-96613fbf4296"
      },
      "execution_count": 292,
      "outputs": [
        {
          "output_type": "execute_result",
          "data": {
            "text/plain": [
              "   Free Cash Flow  Interest Expense  Tax Provision  Pretax Income  Date  \\\n",
              "0        12875000          19412000        1880000        9240000  2022   \n",
              "1        11612000          16470000        3415000       15809000  2021   \n",
              "2        15989000          14716000         486000        3203000  2020   \n",
              "3        15752000          14994000        1341000        6874000  2019   \n",
              "\n",
              "            FCF  \n",
              "0  2.833737e+07  \n",
              "1  2.452421e+07  \n",
              "2  2.847210e+07  \n",
              "3  2.782093e+07  "
            ],
            "text/html": [
              "\n",
              "  <div id=\"df-8e6b4563-dbee-42ef-9cef-e598182650b0\" class=\"colab-df-container\">\n",
              "    <div>\n",
              "<style scoped>\n",
              "    .dataframe tbody tr th:only-of-type {\n",
              "        vertical-align: middle;\n",
              "    }\n",
              "\n",
              "    .dataframe tbody tr th {\n",
              "        vertical-align: top;\n",
              "    }\n",
              "\n",
              "    .dataframe thead th {\n",
              "        text-align: right;\n",
              "    }\n",
              "</style>\n",
              "<table border=\"1\" class=\"dataframe\">\n",
              "  <thead>\n",
              "    <tr style=\"text-align: right;\">\n",
              "      <th></th>\n",
              "      <th>Free Cash Flow</th>\n",
              "      <th>Interest Expense</th>\n",
              "      <th>Tax Provision</th>\n",
              "      <th>Pretax Income</th>\n",
              "      <th>Date</th>\n",
              "      <th>FCF</th>\n",
              "    </tr>\n",
              "  </thead>\n",
              "  <tbody>\n",
              "    <tr>\n",
              "      <th>0</th>\n",
              "      <td>12875000</td>\n",
              "      <td>19412000</td>\n",
              "      <td>1880000</td>\n",
              "      <td>9240000</td>\n",
              "      <td>2022</td>\n",
              "      <td>2.833737e+07</td>\n",
              "    </tr>\n",
              "    <tr>\n",
              "      <th>1</th>\n",
              "      <td>11612000</td>\n",
              "      <td>16470000</td>\n",
              "      <td>3415000</td>\n",
              "      <td>15809000</td>\n",
              "      <td>2021</td>\n",
              "      <td>2.452421e+07</td>\n",
              "    </tr>\n",
              "    <tr>\n",
              "      <th>2</th>\n",
              "      <td>15989000</td>\n",
              "      <td>14716000</td>\n",
              "      <td>486000</td>\n",
              "      <td>3203000</td>\n",
              "      <td>2020</td>\n",
              "      <td>2.847210e+07</td>\n",
              "    </tr>\n",
              "    <tr>\n",
              "      <th>3</th>\n",
              "      <td>15752000</td>\n",
              "      <td>14994000</td>\n",
              "      <td>1341000</td>\n",
              "      <td>6874000</td>\n",
              "      <td>2019</td>\n",
              "      <td>2.782093e+07</td>\n",
              "    </tr>\n",
              "  </tbody>\n",
              "</table>\n",
              "</div>\n",
              "    <div class=\"colab-df-buttons\">\n",
              "\n",
              "  <div class=\"colab-df-container\">\n",
              "    <button class=\"colab-df-convert\" onclick=\"convertToInteractive('df-8e6b4563-dbee-42ef-9cef-e598182650b0')\"\n",
              "            title=\"Convert this dataframe to an interactive table.\"\n",
              "            style=\"display:none;\">\n",
              "\n",
              "  <svg xmlns=\"http://www.w3.org/2000/svg\" height=\"24px\" viewBox=\"0 -960 960 960\">\n",
              "    <path d=\"M120-120v-720h720v720H120Zm60-500h600v-160H180v160Zm220 220h160v-160H400v160Zm0 220h160v-160H400v160ZM180-400h160v-160H180v160Zm440 0h160v-160H620v160ZM180-180h160v-160H180v160Zm440 0h160v-160H620v160Z\"/>\n",
              "  </svg>\n",
              "    </button>\n",
              "\n",
              "  <style>\n",
              "    .colab-df-container {\n",
              "      display:flex;\n",
              "      gap: 12px;\n",
              "    }\n",
              "\n",
              "    .colab-df-convert {\n",
              "      background-color: #E8F0FE;\n",
              "      border: none;\n",
              "      border-radius: 50%;\n",
              "      cursor: pointer;\n",
              "      display: none;\n",
              "      fill: #1967D2;\n",
              "      height: 32px;\n",
              "      padding: 0 0 0 0;\n",
              "      width: 32px;\n",
              "    }\n",
              "\n",
              "    .colab-df-convert:hover {\n",
              "      background-color: #E2EBFA;\n",
              "      box-shadow: 0px 1px 2px rgba(60, 64, 67, 0.3), 0px 1px 3px 1px rgba(60, 64, 67, 0.15);\n",
              "      fill: #174EA6;\n",
              "    }\n",
              "\n",
              "    .colab-df-buttons div {\n",
              "      margin-bottom: 4px;\n",
              "    }\n",
              "\n",
              "    [theme=dark] .colab-df-convert {\n",
              "      background-color: #3B4455;\n",
              "      fill: #D2E3FC;\n",
              "    }\n",
              "\n",
              "    [theme=dark] .colab-df-convert:hover {\n",
              "      background-color: #434B5C;\n",
              "      box-shadow: 0px 1px 3px 1px rgba(0, 0, 0, 0.15);\n",
              "      filter: drop-shadow(0px 1px 2px rgba(0, 0, 0, 0.3));\n",
              "      fill: #FFFFFF;\n",
              "    }\n",
              "  </style>\n",
              "\n",
              "    <script>\n",
              "      const buttonEl =\n",
              "        document.querySelector('#df-8e6b4563-dbee-42ef-9cef-e598182650b0 button.colab-df-convert');\n",
              "      buttonEl.style.display =\n",
              "        google.colab.kernel.accessAllowed ? 'block' : 'none';\n",
              "\n",
              "      async function convertToInteractive(key) {\n",
              "        const element = document.querySelector('#df-8e6b4563-dbee-42ef-9cef-e598182650b0');\n",
              "        const dataTable =\n",
              "          await google.colab.kernel.invokeFunction('convertToInteractive',\n",
              "                                                    [key], {});\n",
              "        if (!dataTable) return;\n",
              "\n",
              "        const docLinkHtml = 'Like what you see? Visit the ' +\n",
              "          '<a target=\"_blank\" href=https://colab.research.google.com/notebooks/data_table.ipynb>data table notebook</a>'\n",
              "          + ' to learn more about interactive tables.';\n",
              "        element.innerHTML = '';\n",
              "        dataTable['output_type'] = 'display_data';\n",
              "        await google.colab.output.renderOutput(dataTable, element);\n",
              "        const docLink = document.createElement('div');\n",
              "        docLink.innerHTML = docLinkHtml;\n",
              "        element.appendChild(docLink);\n",
              "      }\n",
              "    </script>\n",
              "  </div>\n",
              "\n",
              "\n",
              "<div id=\"df-f209611f-93bf-4fc6-a6ec-292874c5ecc7\">\n",
              "  <button class=\"colab-df-quickchart\" onclick=\"quickchart('df-f209611f-93bf-4fc6-a6ec-292874c5ecc7')\"\n",
              "            title=\"Suggest charts\"\n",
              "            style=\"display:none;\">\n",
              "\n",
              "<svg xmlns=\"http://www.w3.org/2000/svg\" height=\"24px\"viewBox=\"0 0 24 24\"\n",
              "     width=\"24px\">\n",
              "    <g>\n",
              "        <path d=\"M19 3H5c-1.1 0-2 .9-2 2v14c0 1.1.9 2 2 2h14c1.1 0 2-.9 2-2V5c0-1.1-.9-2-2-2zM9 17H7v-7h2v7zm4 0h-2V7h2v10zm4 0h-2v-4h2v4z\"/>\n",
              "    </g>\n",
              "</svg>\n",
              "  </button>\n",
              "\n",
              "<style>\n",
              "  .colab-df-quickchart {\n",
              "      --bg-color: #E8F0FE;\n",
              "      --fill-color: #1967D2;\n",
              "      --hover-bg-color: #E2EBFA;\n",
              "      --hover-fill-color: #174EA6;\n",
              "      --disabled-fill-color: #AAA;\n",
              "      --disabled-bg-color: #DDD;\n",
              "  }\n",
              "\n",
              "  [theme=dark] .colab-df-quickchart {\n",
              "      --bg-color: #3B4455;\n",
              "      --fill-color: #D2E3FC;\n",
              "      --hover-bg-color: #434B5C;\n",
              "      --hover-fill-color: #FFFFFF;\n",
              "      --disabled-bg-color: #3B4455;\n",
              "      --disabled-fill-color: #666;\n",
              "  }\n",
              "\n",
              "  .colab-df-quickchart {\n",
              "    background-color: var(--bg-color);\n",
              "    border: none;\n",
              "    border-radius: 50%;\n",
              "    cursor: pointer;\n",
              "    display: none;\n",
              "    fill: var(--fill-color);\n",
              "    height: 32px;\n",
              "    padding: 0;\n",
              "    width: 32px;\n",
              "  }\n",
              "\n",
              "  .colab-df-quickchart:hover {\n",
              "    background-color: var(--hover-bg-color);\n",
              "    box-shadow: 0 1px 2px rgba(60, 64, 67, 0.3), 0 1px 3px 1px rgba(60, 64, 67, 0.15);\n",
              "    fill: var(--button-hover-fill-color);\n",
              "  }\n",
              "\n",
              "  .colab-df-quickchart-complete:disabled,\n",
              "  .colab-df-quickchart-complete:disabled:hover {\n",
              "    background-color: var(--disabled-bg-color);\n",
              "    fill: var(--disabled-fill-color);\n",
              "    box-shadow: none;\n",
              "  }\n",
              "\n",
              "  .colab-df-spinner {\n",
              "    border: 2px solid var(--fill-color);\n",
              "    border-color: transparent;\n",
              "    border-bottom-color: var(--fill-color);\n",
              "    animation:\n",
              "      spin 1s steps(1) infinite;\n",
              "  }\n",
              "\n",
              "  @keyframes spin {\n",
              "    0% {\n",
              "      border-color: transparent;\n",
              "      border-bottom-color: var(--fill-color);\n",
              "      border-left-color: var(--fill-color);\n",
              "    }\n",
              "    20% {\n",
              "      border-color: transparent;\n",
              "      border-left-color: var(--fill-color);\n",
              "      border-top-color: var(--fill-color);\n",
              "    }\n",
              "    30% {\n",
              "      border-color: transparent;\n",
              "      border-left-color: var(--fill-color);\n",
              "      border-top-color: var(--fill-color);\n",
              "      border-right-color: var(--fill-color);\n",
              "    }\n",
              "    40% {\n",
              "      border-color: transparent;\n",
              "      border-right-color: var(--fill-color);\n",
              "      border-top-color: var(--fill-color);\n",
              "    }\n",
              "    60% {\n",
              "      border-color: transparent;\n",
              "      border-right-color: var(--fill-color);\n",
              "    }\n",
              "    80% {\n",
              "      border-color: transparent;\n",
              "      border-right-color: var(--fill-color);\n",
              "      border-bottom-color: var(--fill-color);\n",
              "    }\n",
              "    90% {\n",
              "      border-color: transparent;\n",
              "      border-bottom-color: var(--fill-color);\n",
              "    }\n",
              "  }\n",
              "</style>\n",
              "\n",
              "  <script>\n",
              "    async function quickchart(key) {\n",
              "      const quickchartButtonEl =\n",
              "        document.querySelector('#' + key + ' button');\n",
              "      quickchartButtonEl.disabled = true;  // To prevent multiple clicks.\n",
              "      quickchartButtonEl.classList.add('colab-df-spinner');\n",
              "      try {\n",
              "        const charts = await google.colab.kernel.invokeFunction(\n",
              "            'suggestCharts', [key], {});\n",
              "      } catch (error) {\n",
              "        console.error('Error during call to suggestCharts:', error);\n",
              "      }\n",
              "      quickchartButtonEl.classList.remove('colab-df-spinner');\n",
              "      quickchartButtonEl.classList.add('colab-df-quickchart-complete');\n",
              "    }\n",
              "    (() => {\n",
              "      let quickchartButtonEl =\n",
              "        document.querySelector('#df-f209611f-93bf-4fc6-a6ec-292874c5ecc7 button');\n",
              "      quickchartButtonEl.style.display =\n",
              "        google.colab.kernel.accessAllowed ? 'block' : 'none';\n",
              "    })();\n",
              "  </script>\n",
              "</div>\n",
              "    </div>\n",
              "  </div>\n"
            ]
          },
          "metadata": {},
          "execution_count": 292
        }
      ]
    },
    {
      "cell_type": "markdown",
      "source": [
        "\n",
        "\n",
        "---\n",
        "\n",
        "\n",
        "\n",
        "---\n",
        "\n"
      ],
      "metadata": {
        "id": "AN3LXwwKcgcF"
      }
    },
    {
      "cell_type": "markdown",
      "source": [
        "# 5. Visualizations"
      ],
      "metadata": {
        "id": "jO9-5_osvBUZ"
      }
    },
    {
      "cell_type": "code",
      "source": [
        "import plotly.graph_objects as go\n",
        "fig = go.Figure(data=[go.Candlestick(x=data.index,\n",
        "                open=data['Open'][tickers],\n",
        "                high=data['High'][tickers],\n",
        "                low=data['Low'][tickers],\n",
        "                close=data['Adj Close'][tickers],\n",
        "                name=tickers) for tickers in tickers])\n",
        "\n",
        "fig.update_layout(title='Candlestick Chart - Capital One and S&P500',\n",
        "                  xaxis_title='Date',\n",
        "                  yaxis_title='Stock Price',\n",
        "                  xaxis_rangeslider_visible=True)\n",
        "\n",
        "fig.show()"
      ],
      "metadata": {
        "colab": {
          "base_uri": "https://localhost:8080/",
          "height": 542
        },
        "id": "jOCS7oMLd7p6",
        "outputId": "0bce919b-5bc5-48b7-be4f-08befffcce38"
      },
      "execution_count": 293,
      "outputs": [
        {
          "output_type": "display_data",
          "data": {
            "text/html": [
              "<html>\n",
              "<head><meta charset=\"utf-8\" /></head>\n",
              "<body>\n",
              "    <div>            <script src=\"https://cdnjs.cloudflare.com/ajax/libs/mathjax/2.7.5/MathJax.js?config=TeX-AMS-MML_SVG\"></script><script type=\"text/javascript\">if (window.MathJax && window.MathJax.Hub && window.MathJax.Hub.Config) {window.MathJax.Hub.Config({SVG: {font: \"STIX-Web\"}});}</script>                <script type=\"text/javascript\">window.PlotlyConfig = {MathJaxConfig: 'local'};</script>\n",
              "        <script charset=\"utf-8\" src=\"https://cdn.plot.ly/plotly-2.24.1.min.js\"></script>                <div id=\"764dcfd2-2ff7-4fd9-af39-474164f6f18b\" class=\"plotly-graph-div\" style=\"height:525px; width:100%;\"></div>            <script type=\"text/javascript\">                                    window.PLOTLYENV=window.PLOTLYENV || {};                                    if (document.getElementById(\"764dcfd2-2ff7-4fd9-af39-474164f6f18b\")) {                    Plotly.newPlot(                        \"764dcfd2-2ff7-4fd9-af39-474164f6f18b\",                        [{\"close\":[93.19029235839844,87.78495788574219,86.2694320678711,81.58773803710938,84.63085174560547,83.0988540649414,85.28707885742188,89.60026550292969,86.19869232177734,81.08651733398438,81.43157958984375,68.94209289550781,73.50234985351562,76.22940826416016,74.88465118408203,85.09660339355469,78.71642303466797,83.55123138427734,85.09813690185547,79.75763702392578,84.1408462524414,86.24020385742188,92.4920425415039,95.56531524658203,92.67729187011719,81.96087646484375,47.003143310546875,60.371341705322266,63.4290657043457,58.73468780517578,59.87016296386719,64.77801513671875,67.53997802734375,68.6866226196289,80.49154663085938,93.0256118774414,98.11683654785156,113.10824584960938,120.14155578613281,140.774169921875,151.82235717773438,146.44644165039062,153.08290100097656,157.12533569335938,154.4744110107422,144.0406951904297,134.02659606933594,138.9059295654297,140.4760284423828,146.73727416992188,126.17474365234375,119.7646255493164,122.87837219238281,100.65969848632812,106.10858917236328,102.23446655273438,89.54963684082031,103.0058822631836,100.30491638183594,90.85440826416016,116.3045883178711,106.60928344726562,94.44711303710938,95.56680297851562,102.35371398925781,108.16417694091797,115.72982788085938,101.2611312866211,96.49272155761719,100.7083740234375,111.01882934570312,129.67999267578125],\"high\":[106.5,104.87999725341797,101.44000244140625,99.1500015258789,97.87000274658203,98.25,100.27999877929688,101.26000213623047,100.88999938964844,98.13999938964844,91.4800033569336,91.5999984741211,85.25,83.87000274658203,85.87000274658203,94.37999725341797,94.30000305175781,92.36000061035156,98.62000274658203,93.6500015258789,94.7300033569336,95.63999938964844,100.3499984741211,105.69999694824219,107.58999633789062,106.0,92.55000305175781,71.47000122070312,72.04000091552734,85.22000122070312,66.41000366210938,71.9000015258789,77.5,81.66999816894531,92.08000183105469,99.16000366210938,115.4800033569336,125.75,134.6999969482422,150.00999450683594,162.75,168.0,165.44000244140625,177.9499969482422,171.5,174.64999389648438,158.66000366210938,151.4499969482422,162.39999389648438,160.5399932861328,152.49000549316406,144.72999572753906,134.4600067138672,128.61000061035156,114.94000244140625,116.55000305175781,111.37000274658203,107.41999816894531,118.4000015258789,103.22000122070312,119.44000244140625,123.08999633789062,110.37000274658203,99.68000030517578,105.05000305175781,114.91000366210938,118.95999908447266,116.91999816894531,104.61000061035156,101.83000183105469,111.97000122070312,130.14999389648438],\"low\":[98.75,88.75,92.38999938964844,90.58999633789062,86.94999694824219,91.5199966430664,91.93000030517578,94.29000091552734,94.58000183105469,84.94000244140625,85.31999969482422,69.9000015258789,74.38999938964844,76.81999969482422,78.44999694824219,82.2699966430664,85.72000122070312,85.87000274658203,87.83999633789062,82.62999725341797,84.47000122070312,83.7300033569336,93.94000244140625,96.62999725341797,99.20999908447266,84.62000274658203,38.0,39.900001525878906,51.90999984741211,60.7599983215332,57.29999923706055,62.2599983215332,66.45999908447266,70.77999877929688,73.05000305175781,87.81999969482422,96.9800033569336,102.56999969482422,120.77999877929688,127.80000305175781,147.8000030517578,147.52000427246094,149.4499969482422,155.4600067138672,152.1300048828125,150.22000122070312,140.17999267578125,136.52000427246094,138.60000610351562,141.02999877929688,122.43000030517578,119.87999725341797,110.29000091552734,98.54000091552734,101.9800033569336,105.06999969482422,90.2699966430664,90.70999908447266,97.55000305175781,86.9800033569336,91.52999877929688,107.2699966430664,86.83999633789062,92.0,83.93000030517578,103.69000244140625,105.55000305175781,99.75,94.72000122070312,88.2300033569336,99.37000274658203,111.33999633789062],\"name\":\"COF\",\"open\":[100.08000183105469,103.7699966430664,98.01000213623047,95.52999877929688,90.3499984741211,94.94000244140625,92.22000122070312,94.51000213623047,99.23999786376953,95.58000183105469,89.30999755859375,90.66999816894531,74.48999786376953,80.94000244140625,84.0,82.3499984741211,92.55999755859375,85.9800033569336,92.30000305175781,92.41999816894531,85.75,91.68000030517578,94.3499984741211,100.33000183105469,103.41000366210938,100.56999969482422,88.55999755859375,46.43000030517578,62.16999816894531,68.58999633789062,62.849998474121094,63.93000030517578,67.91999816894531,72.9800033569336,74.6500015258789,88.0,99.7300033569336,105.12999725341797,122.37999725341797,128.41000366210938,151.07000732421875,165.27000427246094,155.52999877929688,163.13999938964844,165.9600067138672,162.61000061035156,152.27000427246094,144.5,146.0800018310547,147.0,152.3800048828125,133.02000427246094,125.54000091552734,127.76000213623047,103.7300033569336,108.41999816894531,105.30999755859375,94.0999984741211,107.48999786376953,100.02999877929688,92.66000366210938,113.0,109.48999786376953,96.05000305175781,97.29000091552734,105.02999877929688,109.47000122070312,116.25,103.16000366210938,96.87000274658203,101.6500015258789,111.33999633789062],\"x\":[0,1,2,3,4,5,6,7,8,9,10,11,12,13,14,15,16,17,18,19,20,21,22,23,24,25,26,27,28,29,30,31,32,33,34,35,36,37,38,39,40,41,42,43,44,45,46,47,48,49,50,51,52,53,54,55,56,57,58,59,60,61,62,63,64,65,66,67,68,69,70,71],\"type\":\"candlestick\"},{\"close\":[2823.81005859375,2713.830078125,2640.8701171875,2648.050048828125,2705.27001953125,2718.3701171875,2816.2900390625,2901.52001953125,2913.97998046875,2711.739990234375,2760.169921875,2506.85009765625,2704.10009765625,2784.489990234375,2834.39990234375,2945.830078125,2752.06005859375,2941.760009765625,2980.3798828125,2926.4599609375,2976.739990234375,3037.56005859375,3140.97998046875,3230.780029296875,3225.52001953125,2954.219970703125,2584.590087890625,2912.429931640625,3044.31005859375,3100.2900390625,3271.1201171875,3500.31005859375,3363.0,3269.9599609375,3621.6298828125,3756.070068359375,3714.239990234375,3811.14990234375,3972.889892578125,4181.169921875,4204.10986328125,4297.5,4395.259765625,4522.68017578125,4307.5400390625,4605.3798828125,4567.0,4766.18017578125,4515.5498046875,4373.93994140625,4530.41015625,4131.93017578125,4132.14990234375,3785.3798828125,4130.2900390625,3955.0,3585.6201171875,3871.97998046875,4080.110107421875,3839.5,4076.60009765625,3970.14990234375,4109.31005859375,4169.47998046875,4179.830078125,4450.3798828125,4588.9599609375,4507.66015625,4288.0498046875,4193.7998046875,4567.7998046875,4719.18994140625],\"high\":[2872.8701171875,2835.9599609375,2801.89990234375,2717.489990234375,2742.239990234375,2791.469970703125,2848.030029296875,2916.5,2940.909912109375,2939.860107421875,2815.14990234375,2800.179931640625,2708.949951171875,2813.489990234375,2860.31005859375,2949.52001953125,2954.1298828125,2964.14990234375,3027.97998046875,3013.590087890625,3021.989990234375,3050.10009765625,3154.260009765625,3247.929931640625,3337.77001953125,3393.52001953125,3136.719970703125,2954.860107421875,3068.669921875,3233.1298828125,3279.989990234375,3514.77001953125,3588.110107421875,3549.85009765625,3645.989990234375,3760.199951171875,3870.89990234375,3950.429931640625,3994.409912109375,4218.77978515625,4238.0400390625,4302.43017578125,4429.97021484375,4537.35986328125,4545.85009765625,4608.080078125,4743.830078125,4808.93017578125,4818.6201171875,4595.31005859375,4637.2998046875,4593.4501953125,4307.66015625,4177.509765625,4140.14990234375,4325.27978515625,4119.27978515625,3905.419921875,4080.110107421875,4100.9599609375,4094.2099609375,4195.43994140625,4110.75,4170.06005859375,4231.10009765625,4458.47998046875,4607.06982421875,4584.6201171875,4541.25,4393.56982421875,4587.64013671875,4738.56982421875],\"low\":[2682.360107421875,2532.68994140625,2585.889892578125,2553.800048828125,2594.6201171875,2691.989990234375,2698.949951171875,2796.340087890625,2864.1201171875,2603.5400390625,2631.090087890625,2346.580078125,2443.9599609375,2681.830078125,2722.27001953125,2848.6298828125,2750.52001953125,2728.81005859375,2952.219970703125,2822.1201171875,2891.85009765625,2855.93994140625,3050.719970703125,3070.330078125,3214.639892578125,2855.840087890625,2191.860107421875,2447.489990234375,2766.639892578125,2965.659912109375,3101.169921875,3284.530029296875,3209.449951171875,3233.93994140625,3279.739990234375,3633.39990234375,3662.7099609375,3725.6201171875,3723.340087890625,3992.780029296875,4056.8798828125,4164.39990234375,4233.1298828125,4367.72998046875,4305.91015625,4278.93994140625,4560.0,4495.1201171875,4222.6201171875,4114.64990234375,4157.8701171875,4124.27978515625,3810.320068359375,3636.8701171875,3721.56005859375,3954.530029296875,3584.1298828125,3491.580078125,3698.14990234375,3764.489990234375,3794.330078125,3943.080078125,3808.860107421875,4049.35009765625,4048.280029296875,4171.64013671875,4385.0498046875,4335.31005859375,4238.6298828125,4103.77978515625,4197.740234375,4546.5],\"name\":\"^GSPC\",\"open\":[2683.72998046875,2816.449951171875,2715.219970703125,2633.449951171875,2642.9599609375,2718.699951171875,2704.949951171875,2821.169921875,2896.9599609375,2926.2900390625,2717.580078125,2790.5,2476.9599609375,2702.320068359375,2798.219970703125,2848.6298828125,2952.330078125,2751.530029296875,2971.409912109375,2980.320068359375,2909.010009765625,2983.68994140625,3050.719970703125,3143.85009765625,3244.669921875,3235.659912109375,2974.280029296875,2498.080078125,2869.090087890625,3038.780029296875,3105.919921875,3288.260009765625,3507.43994140625,3385.8701171875,3296.199951171875,3645.8701171875,3764.610107421875,3731.169921875,3842.510009765625,3992.780029296875,4191.97998046875,4216.52001953125,4300.72998046875,4406.85986328125,4528.7998046875,4317.16015625,4610.6201171875,4602.81982421875,4778.14013671875,4519.56982421875,4363.14013671875,4540.31982421875,4130.60986328125,4149.77978515625,3781.0,4112.3798828125,3936.72998046875,3609.780029296875,3901.7900390625,4087.139892578125,3853.2900390625,4070.070068359375,3963.340087890625,4102.2001953125,4166.7900390625,4183.02978515625,4450.47998046875,4578.830078125,4530.60009765625,4284.52001953125,4201.27001953125,4559.43017578125],\"x\":[0,1,2,3,4,5,6,7,8,9,10,11,12,13,14,15,16,17,18,19,20,21,22,23,24,25,26,27,28,29,30,31,32,33,34,35,36,37,38,39,40,41,42,43,44,45,46,47,48,49,50,51,52,53,54,55,56,57,58,59,60,61,62,63,64,65,66,67,68,69,70,71],\"type\":\"candlestick\"}],                        {\"template\":{\"data\":{\"histogram2dcontour\":[{\"type\":\"histogram2dcontour\",\"colorbar\":{\"outlinewidth\":0,\"ticks\":\"\"},\"colorscale\":[[0.0,\"#0d0887\"],[0.1111111111111111,\"#46039f\"],[0.2222222222222222,\"#7201a8\"],[0.3333333333333333,\"#9c179e\"],[0.4444444444444444,\"#bd3786\"],[0.5555555555555556,\"#d8576b\"],[0.6666666666666666,\"#ed7953\"],[0.7777777777777778,\"#fb9f3a\"],[0.8888888888888888,\"#fdca26\"],[1.0,\"#f0f921\"]]}],\"choropleth\":[{\"type\":\"choropleth\",\"colorbar\":{\"outlinewidth\":0,\"ticks\":\"\"}}],\"histogram2d\":[{\"type\":\"histogram2d\",\"colorbar\":{\"outlinewidth\":0,\"ticks\":\"\"},\"colorscale\":[[0.0,\"#0d0887\"],[0.1111111111111111,\"#46039f\"],[0.2222222222222222,\"#7201a8\"],[0.3333333333333333,\"#9c179e\"],[0.4444444444444444,\"#bd3786\"],[0.5555555555555556,\"#d8576b\"],[0.6666666666666666,\"#ed7953\"],[0.7777777777777778,\"#fb9f3a\"],[0.8888888888888888,\"#fdca26\"],[1.0,\"#f0f921\"]]}],\"heatmap\":[{\"type\":\"heatmap\",\"colorbar\":{\"outlinewidth\":0,\"ticks\":\"\"},\"colorscale\":[[0.0,\"#0d0887\"],[0.1111111111111111,\"#46039f\"],[0.2222222222222222,\"#7201a8\"],[0.3333333333333333,\"#9c179e\"],[0.4444444444444444,\"#bd3786\"],[0.5555555555555556,\"#d8576b\"],[0.6666666666666666,\"#ed7953\"],[0.7777777777777778,\"#fb9f3a\"],[0.8888888888888888,\"#fdca26\"],[1.0,\"#f0f921\"]]}],\"heatmapgl\":[{\"type\":\"heatmapgl\",\"colorbar\":{\"outlinewidth\":0,\"ticks\":\"\"},\"colorscale\":[[0.0,\"#0d0887\"],[0.1111111111111111,\"#46039f\"],[0.2222222222222222,\"#7201a8\"],[0.3333333333333333,\"#9c179e\"],[0.4444444444444444,\"#bd3786\"],[0.5555555555555556,\"#d8576b\"],[0.6666666666666666,\"#ed7953\"],[0.7777777777777778,\"#fb9f3a\"],[0.8888888888888888,\"#fdca26\"],[1.0,\"#f0f921\"]]}],\"contourcarpet\":[{\"type\":\"contourcarpet\",\"colorbar\":{\"outlinewidth\":0,\"ticks\":\"\"}}],\"contour\":[{\"type\":\"contour\",\"colorbar\":{\"outlinewidth\":0,\"ticks\":\"\"},\"colorscale\":[[0.0,\"#0d0887\"],[0.1111111111111111,\"#46039f\"],[0.2222222222222222,\"#7201a8\"],[0.3333333333333333,\"#9c179e\"],[0.4444444444444444,\"#bd3786\"],[0.5555555555555556,\"#d8576b\"],[0.6666666666666666,\"#ed7953\"],[0.7777777777777778,\"#fb9f3a\"],[0.8888888888888888,\"#fdca26\"],[1.0,\"#f0f921\"]]}],\"surface\":[{\"type\":\"surface\",\"colorbar\":{\"outlinewidth\":0,\"ticks\":\"\"},\"colorscale\":[[0.0,\"#0d0887\"],[0.1111111111111111,\"#46039f\"],[0.2222222222222222,\"#7201a8\"],[0.3333333333333333,\"#9c179e\"],[0.4444444444444444,\"#bd3786\"],[0.5555555555555556,\"#d8576b\"],[0.6666666666666666,\"#ed7953\"],[0.7777777777777778,\"#fb9f3a\"],[0.8888888888888888,\"#fdca26\"],[1.0,\"#f0f921\"]]}],\"mesh3d\":[{\"type\":\"mesh3d\",\"colorbar\":{\"outlinewidth\":0,\"ticks\":\"\"}}],\"scatter\":[{\"fillpattern\":{\"fillmode\":\"overlay\",\"size\":10,\"solidity\":0.2},\"type\":\"scatter\"}],\"parcoords\":[{\"type\":\"parcoords\",\"line\":{\"colorbar\":{\"outlinewidth\":0,\"ticks\":\"\"}}}],\"scatterpolargl\":[{\"type\":\"scatterpolargl\",\"marker\":{\"colorbar\":{\"outlinewidth\":0,\"ticks\":\"\"}}}],\"bar\":[{\"error_x\":{\"color\":\"#2a3f5f\"},\"error_y\":{\"color\":\"#2a3f5f\"},\"marker\":{\"line\":{\"color\":\"#E5ECF6\",\"width\":0.5},\"pattern\":{\"fillmode\":\"overlay\",\"size\":10,\"solidity\":0.2}},\"type\":\"bar\"}],\"scattergeo\":[{\"type\":\"scattergeo\",\"marker\":{\"colorbar\":{\"outlinewidth\":0,\"ticks\":\"\"}}}],\"scatterpolar\":[{\"type\":\"scatterpolar\",\"marker\":{\"colorbar\":{\"outlinewidth\":0,\"ticks\":\"\"}}}],\"histogram\":[{\"marker\":{\"pattern\":{\"fillmode\":\"overlay\",\"size\":10,\"solidity\":0.2}},\"type\":\"histogram\"}],\"scattergl\":[{\"type\":\"scattergl\",\"marker\":{\"colorbar\":{\"outlinewidth\":0,\"ticks\":\"\"}}}],\"scatter3d\":[{\"type\":\"scatter3d\",\"line\":{\"colorbar\":{\"outlinewidth\":0,\"ticks\":\"\"}},\"marker\":{\"colorbar\":{\"outlinewidth\":0,\"ticks\":\"\"}}}],\"scattermapbox\":[{\"type\":\"scattermapbox\",\"marker\":{\"colorbar\":{\"outlinewidth\":0,\"ticks\":\"\"}}}],\"scatterternary\":[{\"type\":\"scatterternary\",\"marker\":{\"colorbar\":{\"outlinewidth\":0,\"ticks\":\"\"}}}],\"scattercarpet\":[{\"type\":\"scattercarpet\",\"marker\":{\"colorbar\":{\"outlinewidth\":0,\"ticks\":\"\"}}}],\"carpet\":[{\"aaxis\":{\"endlinecolor\":\"#2a3f5f\",\"gridcolor\":\"white\",\"linecolor\":\"white\",\"minorgridcolor\":\"white\",\"startlinecolor\":\"#2a3f5f\"},\"baxis\":{\"endlinecolor\":\"#2a3f5f\",\"gridcolor\":\"white\",\"linecolor\":\"white\",\"minorgridcolor\":\"white\",\"startlinecolor\":\"#2a3f5f\"},\"type\":\"carpet\"}],\"table\":[{\"cells\":{\"fill\":{\"color\":\"#EBF0F8\"},\"line\":{\"color\":\"white\"}},\"header\":{\"fill\":{\"color\":\"#C8D4E3\"},\"line\":{\"color\":\"white\"}},\"type\":\"table\"}],\"barpolar\":[{\"marker\":{\"line\":{\"color\":\"#E5ECF6\",\"width\":0.5},\"pattern\":{\"fillmode\":\"overlay\",\"size\":10,\"solidity\":0.2}},\"type\":\"barpolar\"}],\"pie\":[{\"automargin\":true,\"type\":\"pie\"}]},\"layout\":{\"autotypenumbers\":\"strict\",\"colorway\":[\"#636efa\",\"#EF553B\",\"#00cc96\",\"#ab63fa\",\"#FFA15A\",\"#19d3f3\",\"#FF6692\",\"#B6E880\",\"#FF97FF\",\"#FECB52\"],\"font\":{\"color\":\"#2a3f5f\"},\"hovermode\":\"closest\",\"hoverlabel\":{\"align\":\"left\"},\"paper_bgcolor\":\"white\",\"plot_bgcolor\":\"#E5ECF6\",\"polar\":{\"bgcolor\":\"#E5ECF6\",\"angularaxis\":{\"gridcolor\":\"white\",\"linecolor\":\"white\",\"ticks\":\"\"},\"radialaxis\":{\"gridcolor\":\"white\",\"linecolor\":\"white\",\"ticks\":\"\"}},\"ternary\":{\"bgcolor\":\"#E5ECF6\",\"aaxis\":{\"gridcolor\":\"white\",\"linecolor\":\"white\",\"ticks\":\"\"},\"baxis\":{\"gridcolor\":\"white\",\"linecolor\":\"white\",\"ticks\":\"\"},\"caxis\":{\"gridcolor\":\"white\",\"linecolor\":\"white\",\"ticks\":\"\"}},\"coloraxis\":{\"colorbar\":{\"outlinewidth\":0,\"ticks\":\"\"}},\"colorscale\":{\"sequential\":[[0.0,\"#0d0887\"],[0.1111111111111111,\"#46039f\"],[0.2222222222222222,\"#7201a8\"],[0.3333333333333333,\"#9c179e\"],[0.4444444444444444,\"#bd3786\"],[0.5555555555555556,\"#d8576b\"],[0.6666666666666666,\"#ed7953\"],[0.7777777777777778,\"#fb9f3a\"],[0.8888888888888888,\"#fdca26\"],[1.0,\"#f0f921\"]],\"sequentialminus\":[[0.0,\"#0d0887\"],[0.1111111111111111,\"#46039f\"],[0.2222222222222222,\"#7201a8\"],[0.3333333333333333,\"#9c179e\"],[0.4444444444444444,\"#bd3786\"],[0.5555555555555556,\"#d8576b\"],[0.6666666666666666,\"#ed7953\"],[0.7777777777777778,\"#fb9f3a\"],[0.8888888888888888,\"#fdca26\"],[1.0,\"#f0f921\"]],\"diverging\":[[0,\"#8e0152\"],[0.1,\"#c51b7d\"],[0.2,\"#de77ae\"],[0.3,\"#f1b6da\"],[0.4,\"#fde0ef\"],[0.5,\"#f7f7f7\"],[0.6,\"#e6f5d0\"],[0.7,\"#b8e186\"],[0.8,\"#7fbc41\"],[0.9,\"#4d9221\"],[1,\"#276419\"]]},\"xaxis\":{\"gridcolor\":\"white\",\"linecolor\":\"white\",\"ticks\":\"\",\"title\":{\"standoff\":15},\"zerolinecolor\":\"white\",\"automargin\":true,\"zerolinewidth\":2},\"yaxis\":{\"gridcolor\":\"white\",\"linecolor\":\"white\",\"ticks\":\"\",\"title\":{\"standoff\":15},\"zerolinecolor\":\"white\",\"automargin\":true,\"zerolinewidth\":2},\"scene\":{\"xaxis\":{\"backgroundcolor\":\"#E5ECF6\",\"gridcolor\":\"white\",\"linecolor\":\"white\",\"showbackground\":true,\"ticks\":\"\",\"zerolinecolor\":\"white\",\"gridwidth\":2},\"yaxis\":{\"backgroundcolor\":\"#E5ECF6\",\"gridcolor\":\"white\",\"linecolor\":\"white\",\"showbackground\":true,\"ticks\":\"\",\"zerolinecolor\":\"white\",\"gridwidth\":2},\"zaxis\":{\"backgroundcolor\":\"#E5ECF6\",\"gridcolor\":\"white\",\"linecolor\":\"white\",\"showbackground\":true,\"ticks\":\"\",\"zerolinecolor\":\"white\",\"gridwidth\":2}},\"shapedefaults\":{\"line\":{\"color\":\"#2a3f5f\"}},\"annotationdefaults\":{\"arrowcolor\":\"#2a3f5f\",\"arrowhead\":0,\"arrowwidth\":1},\"geo\":{\"bgcolor\":\"white\",\"landcolor\":\"#E5ECF6\",\"subunitcolor\":\"white\",\"showland\":true,\"showlakes\":true,\"lakecolor\":\"white\"},\"title\":{\"x\":0.05},\"mapbox\":{\"style\":\"light\"}}},\"xaxis\":{\"rangeslider\":{\"visible\":true},\"title\":{\"text\":\"Date\"}},\"title\":{\"text\":\"Candlestick Chart - Capital One and S&P500\"},\"yaxis\":{\"title\":{\"text\":\"Stock Price\"}}},                        {\"responsive\": true}                    ).then(function(){\n",
              "                            \n",
              "var gd = document.getElementById('764dcfd2-2ff7-4fd9-af39-474164f6f18b');\n",
              "var x = new MutationObserver(function (mutations, observer) {{\n",
              "        var display = window.getComputedStyle(gd).display;\n",
              "        if (!display || display === 'none') {{\n",
              "            console.log([gd, 'removed!']);\n",
              "            Plotly.purge(gd);\n",
              "            observer.disconnect();\n",
              "        }}\n",
              "}});\n",
              "\n",
              "// Listen for the removal of the full notebook cells\n",
              "var notebookContainer = gd.closest('#notebook-container');\n",
              "if (notebookContainer) {{\n",
              "    x.observe(notebookContainer, {childList: true});\n",
              "}}\n",
              "\n",
              "// Listen for the clearing of the current output cell\n",
              "var outputEl = gd.closest('.output');\n",
              "if (outputEl) {{\n",
              "    x.observe(outputEl, {childList: true});\n",
              "}}\n",
              "\n",
              "                        })                };                            </script>        </div>\n",
              "</body>\n",
              "</html>"
            ]
          },
          "metadata": {}
        }
      ]
    },
    {
      "cell_type": "code",
      "source": [
        "fig = go.Figure()\n",
        "\n",
        "fig.add_trace(go.Bar(x=COF.index, y=COF['div_PCT_Change'], name='Dividend Percentage Change'))\n",
        "\n",
        "fig.update_layout(\n",
        "    title='Capital One Dividend Percentage Change Over Time',\n",
        "    xaxis=dict(title='Year'),\n",
        "    yaxis=dict(title='Percentage Change'),\n",
        "    showlegend=True\n",
        ")"
      ],
      "metadata": {
        "colab": {
          "base_uri": "https://localhost:8080/",
          "height": 542
        },
        "id": "hbuiApTO-J9c",
        "outputId": "b694bf54-9c0e-40aa-e9c2-7fa4f0856588"
      },
      "execution_count": 294,
      "outputs": [
        {
          "output_type": "display_data",
          "data": {
            "text/html": [
              "<html>\n",
              "<head><meta charset=\"utf-8\" /></head>\n",
              "<body>\n",
              "    <div>            <script src=\"https://cdnjs.cloudflare.com/ajax/libs/mathjax/2.7.5/MathJax.js?config=TeX-AMS-MML_SVG\"></script><script type=\"text/javascript\">if (window.MathJax && window.MathJax.Hub && window.MathJax.Hub.Config) {window.MathJax.Hub.Config({SVG: {font: \"STIX-Web\"}});}</script>                <script type=\"text/javascript\">window.PlotlyConfig = {MathJaxConfig: 'local'};</script>\n",
              "        <script charset=\"utf-8\" src=\"https://cdn.plot.ly/plotly-2.24.1.min.js\"></script>                <div id=\"72d968ed-f029-41b9-9d7a-e81b52a64f36\" class=\"plotly-graph-div\" style=\"height:525px; width:100%;\"></div>            <script type=\"text/javascript\">                                    window.PLOTLYENV=window.PLOTLYENV || {};                                    if (document.getElementById(\"72d968ed-f029-41b9-9d7a-e81b52a64f36\")) {                    Plotly.newPlot(                        \"72d968ed-f029-41b9-9d7a-e81b52a64f36\",                        [{\"name\":\"Dividend Percentage Change\",\"x\":[1995,1996,1997,1998,1999,2000,2001,2002,2003,2004,2005,2006,2007,2008,2009,2010,2011,2012,2013,2014,2015,2016,2017,2018,2019,2020,2021,2022,2023],\"y\":[null,0.33333333333333326,0.0,0.0,0.015618554768065396,-0.0030830579504126376,0.0,0.0092592592592593,0.0,0.02752293577981657,-0.0357142857142857,0.0,0.0,12.88888888888889,-0.6499999999999999,-0.6190476190476191,0.0,0.0,3.749999999999999,0.26315789473684204,0.25,0.06666666666666665,0.0,0.0,0.0,-0.375,1.6,-0.07692307692307698,0.0],\"type\":\"bar\"}],                        {\"template\":{\"data\":{\"histogram2dcontour\":[{\"type\":\"histogram2dcontour\",\"colorbar\":{\"outlinewidth\":0,\"ticks\":\"\"},\"colorscale\":[[0.0,\"#0d0887\"],[0.1111111111111111,\"#46039f\"],[0.2222222222222222,\"#7201a8\"],[0.3333333333333333,\"#9c179e\"],[0.4444444444444444,\"#bd3786\"],[0.5555555555555556,\"#d8576b\"],[0.6666666666666666,\"#ed7953\"],[0.7777777777777778,\"#fb9f3a\"],[0.8888888888888888,\"#fdca26\"],[1.0,\"#f0f921\"]]}],\"choropleth\":[{\"type\":\"choropleth\",\"colorbar\":{\"outlinewidth\":0,\"ticks\":\"\"}}],\"histogram2d\":[{\"type\":\"histogram2d\",\"colorbar\":{\"outlinewidth\":0,\"ticks\":\"\"},\"colorscale\":[[0.0,\"#0d0887\"],[0.1111111111111111,\"#46039f\"],[0.2222222222222222,\"#7201a8\"],[0.3333333333333333,\"#9c179e\"],[0.4444444444444444,\"#bd3786\"],[0.5555555555555556,\"#d8576b\"],[0.6666666666666666,\"#ed7953\"],[0.7777777777777778,\"#fb9f3a\"],[0.8888888888888888,\"#fdca26\"],[1.0,\"#f0f921\"]]}],\"heatmap\":[{\"type\":\"heatmap\",\"colorbar\":{\"outlinewidth\":0,\"ticks\":\"\"},\"colorscale\":[[0.0,\"#0d0887\"],[0.1111111111111111,\"#46039f\"],[0.2222222222222222,\"#7201a8\"],[0.3333333333333333,\"#9c179e\"],[0.4444444444444444,\"#bd3786\"],[0.5555555555555556,\"#d8576b\"],[0.6666666666666666,\"#ed7953\"],[0.7777777777777778,\"#fb9f3a\"],[0.8888888888888888,\"#fdca26\"],[1.0,\"#f0f921\"]]}],\"heatmapgl\":[{\"type\":\"heatmapgl\",\"colorbar\":{\"outlinewidth\":0,\"ticks\":\"\"},\"colorscale\":[[0.0,\"#0d0887\"],[0.1111111111111111,\"#46039f\"],[0.2222222222222222,\"#7201a8\"],[0.3333333333333333,\"#9c179e\"],[0.4444444444444444,\"#bd3786\"],[0.5555555555555556,\"#d8576b\"],[0.6666666666666666,\"#ed7953\"],[0.7777777777777778,\"#fb9f3a\"],[0.8888888888888888,\"#fdca26\"],[1.0,\"#f0f921\"]]}],\"contourcarpet\":[{\"type\":\"contourcarpet\",\"colorbar\":{\"outlinewidth\":0,\"ticks\":\"\"}}],\"contour\":[{\"type\":\"contour\",\"colorbar\":{\"outlinewidth\":0,\"ticks\":\"\"},\"colorscale\":[[0.0,\"#0d0887\"],[0.1111111111111111,\"#46039f\"],[0.2222222222222222,\"#7201a8\"],[0.3333333333333333,\"#9c179e\"],[0.4444444444444444,\"#bd3786\"],[0.5555555555555556,\"#d8576b\"],[0.6666666666666666,\"#ed7953\"],[0.7777777777777778,\"#fb9f3a\"],[0.8888888888888888,\"#fdca26\"],[1.0,\"#f0f921\"]]}],\"surface\":[{\"type\":\"surface\",\"colorbar\":{\"outlinewidth\":0,\"ticks\":\"\"},\"colorscale\":[[0.0,\"#0d0887\"],[0.1111111111111111,\"#46039f\"],[0.2222222222222222,\"#7201a8\"],[0.3333333333333333,\"#9c179e\"],[0.4444444444444444,\"#bd3786\"],[0.5555555555555556,\"#d8576b\"],[0.6666666666666666,\"#ed7953\"],[0.7777777777777778,\"#fb9f3a\"],[0.8888888888888888,\"#fdca26\"],[1.0,\"#f0f921\"]]}],\"mesh3d\":[{\"type\":\"mesh3d\",\"colorbar\":{\"outlinewidth\":0,\"ticks\":\"\"}}],\"scatter\":[{\"fillpattern\":{\"fillmode\":\"overlay\",\"size\":10,\"solidity\":0.2},\"type\":\"scatter\"}],\"parcoords\":[{\"type\":\"parcoords\",\"line\":{\"colorbar\":{\"outlinewidth\":0,\"ticks\":\"\"}}}],\"scatterpolargl\":[{\"type\":\"scatterpolargl\",\"marker\":{\"colorbar\":{\"outlinewidth\":0,\"ticks\":\"\"}}}],\"bar\":[{\"error_x\":{\"color\":\"#2a3f5f\"},\"error_y\":{\"color\":\"#2a3f5f\"},\"marker\":{\"line\":{\"color\":\"#E5ECF6\",\"width\":0.5},\"pattern\":{\"fillmode\":\"overlay\",\"size\":10,\"solidity\":0.2}},\"type\":\"bar\"}],\"scattergeo\":[{\"type\":\"scattergeo\",\"marker\":{\"colorbar\":{\"outlinewidth\":0,\"ticks\":\"\"}}}],\"scatterpolar\":[{\"type\":\"scatterpolar\",\"marker\":{\"colorbar\":{\"outlinewidth\":0,\"ticks\":\"\"}}}],\"histogram\":[{\"marker\":{\"pattern\":{\"fillmode\":\"overlay\",\"size\":10,\"solidity\":0.2}},\"type\":\"histogram\"}],\"scattergl\":[{\"type\":\"scattergl\",\"marker\":{\"colorbar\":{\"outlinewidth\":0,\"ticks\":\"\"}}}],\"scatter3d\":[{\"type\":\"scatter3d\",\"line\":{\"colorbar\":{\"outlinewidth\":0,\"ticks\":\"\"}},\"marker\":{\"colorbar\":{\"outlinewidth\":0,\"ticks\":\"\"}}}],\"scattermapbox\":[{\"type\":\"scattermapbox\",\"marker\":{\"colorbar\":{\"outlinewidth\":0,\"ticks\":\"\"}}}],\"scatterternary\":[{\"type\":\"scatterternary\",\"marker\":{\"colorbar\":{\"outlinewidth\":0,\"ticks\":\"\"}}}],\"scattercarpet\":[{\"type\":\"scattercarpet\",\"marker\":{\"colorbar\":{\"outlinewidth\":0,\"ticks\":\"\"}}}],\"carpet\":[{\"aaxis\":{\"endlinecolor\":\"#2a3f5f\",\"gridcolor\":\"white\",\"linecolor\":\"white\",\"minorgridcolor\":\"white\",\"startlinecolor\":\"#2a3f5f\"},\"baxis\":{\"endlinecolor\":\"#2a3f5f\",\"gridcolor\":\"white\",\"linecolor\":\"white\",\"minorgridcolor\":\"white\",\"startlinecolor\":\"#2a3f5f\"},\"type\":\"carpet\"}],\"table\":[{\"cells\":{\"fill\":{\"color\":\"#EBF0F8\"},\"line\":{\"color\":\"white\"}},\"header\":{\"fill\":{\"color\":\"#C8D4E3\"},\"line\":{\"color\":\"white\"}},\"type\":\"table\"}],\"barpolar\":[{\"marker\":{\"line\":{\"color\":\"#E5ECF6\",\"width\":0.5},\"pattern\":{\"fillmode\":\"overlay\",\"size\":10,\"solidity\":0.2}},\"type\":\"barpolar\"}],\"pie\":[{\"automargin\":true,\"type\":\"pie\"}]},\"layout\":{\"autotypenumbers\":\"strict\",\"colorway\":[\"#636efa\",\"#EF553B\",\"#00cc96\",\"#ab63fa\",\"#FFA15A\",\"#19d3f3\",\"#FF6692\",\"#B6E880\",\"#FF97FF\",\"#FECB52\"],\"font\":{\"color\":\"#2a3f5f\"},\"hovermode\":\"closest\",\"hoverlabel\":{\"align\":\"left\"},\"paper_bgcolor\":\"white\",\"plot_bgcolor\":\"#E5ECF6\",\"polar\":{\"bgcolor\":\"#E5ECF6\",\"angularaxis\":{\"gridcolor\":\"white\",\"linecolor\":\"white\",\"ticks\":\"\"},\"radialaxis\":{\"gridcolor\":\"white\",\"linecolor\":\"white\",\"ticks\":\"\"}},\"ternary\":{\"bgcolor\":\"#E5ECF6\",\"aaxis\":{\"gridcolor\":\"white\",\"linecolor\":\"white\",\"ticks\":\"\"},\"baxis\":{\"gridcolor\":\"white\",\"linecolor\":\"white\",\"ticks\":\"\"},\"caxis\":{\"gridcolor\":\"white\",\"linecolor\":\"white\",\"ticks\":\"\"}},\"coloraxis\":{\"colorbar\":{\"outlinewidth\":0,\"ticks\":\"\"}},\"colorscale\":{\"sequential\":[[0.0,\"#0d0887\"],[0.1111111111111111,\"#46039f\"],[0.2222222222222222,\"#7201a8\"],[0.3333333333333333,\"#9c179e\"],[0.4444444444444444,\"#bd3786\"],[0.5555555555555556,\"#d8576b\"],[0.6666666666666666,\"#ed7953\"],[0.7777777777777778,\"#fb9f3a\"],[0.8888888888888888,\"#fdca26\"],[1.0,\"#f0f921\"]],\"sequentialminus\":[[0.0,\"#0d0887\"],[0.1111111111111111,\"#46039f\"],[0.2222222222222222,\"#7201a8\"],[0.3333333333333333,\"#9c179e\"],[0.4444444444444444,\"#bd3786\"],[0.5555555555555556,\"#d8576b\"],[0.6666666666666666,\"#ed7953\"],[0.7777777777777778,\"#fb9f3a\"],[0.8888888888888888,\"#fdca26\"],[1.0,\"#f0f921\"]],\"diverging\":[[0,\"#8e0152\"],[0.1,\"#c51b7d\"],[0.2,\"#de77ae\"],[0.3,\"#f1b6da\"],[0.4,\"#fde0ef\"],[0.5,\"#f7f7f7\"],[0.6,\"#e6f5d0\"],[0.7,\"#b8e186\"],[0.8,\"#7fbc41\"],[0.9,\"#4d9221\"],[1,\"#276419\"]]},\"xaxis\":{\"gridcolor\":\"white\",\"linecolor\":\"white\",\"ticks\":\"\",\"title\":{\"standoff\":15},\"zerolinecolor\":\"white\",\"automargin\":true,\"zerolinewidth\":2},\"yaxis\":{\"gridcolor\":\"white\",\"linecolor\":\"white\",\"ticks\":\"\",\"title\":{\"standoff\":15},\"zerolinecolor\":\"white\",\"automargin\":true,\"zerolinewidth\":2},\"scene\":{\"xaxis\":{\"backgroundcolor\":\"#E5ECF6\",\"gridcolor\":\"white\",\"linecolor\":\"white\",\"showbackground\":true,\"ticks\":\"\",\"zerolinecolor\":\"white\",\"gridwidth\":2},\"yaxis\":{\"backgroundcolor\":\"#E5ECF6\",\"gridcolor\":\"white\",\"linecolor\":\"white\",\"showbackground\":true,\"ticks\":\"\",\"zerolinecolor\":\"white\",\"gridwidth\":2},\"zaxis\":{\"backgroundcolor\":\"#E5ECF6\",\"gridcolor\":\"white\",\"linecolor\":\"white\",\"showbackground\":true,\"ticks\":\"\",\"zerolinecolor\":\"white\",\"gridwidth\":2}},\"shapedefaults\":{\"line\":{\"color\":\"#2a3f5f\"}},\"annotationdefaults\":{\"arrowcolor\":\"#2a3f5f\",\"arrowhead\":0,\"arrowwidth\":1},\"geo\":{\"bgcolor\":\"white\",\"landcolor\":\"#E5ECF6\",\"subunitcolor\":\"white\",\"showland\":true,\"showlakes\":true,\"lakecolor\":\"white\"},\"title\":{\"x\":0.05},\"mapbox\":{\"style\":\"light\"}}},\"title\":{\"text\":\"Capital One Dividend Percentage Change Over Time\"},\"xaxis\":{\"title\":{\"text\":\"Year\"}},\"yaxis\":{\"title\":{\"text\":\"Percentage Change\"}},\"showlegend\":true},                        {\"responsive\": true}                    ).then(function(){\n",
              "                            \n",
              "var gd = document.getElementById('72d968ed-f029-41b9-9d7a-e81b52a64f36');\n",
              "var x = new MutationObserver(function (mutations, observer) {{\n",
              "        var display = window.getComputedStyle(gd).display;\n",
              "        if (!display || display === 'none') {{\n",
              "            console.log([gd, 'removed!']);\n",
              "            Plotly.purge(gd);\n",
              "            observer.disconnect();\n",
              "        }}\n",
              "}});\n",
              "\n",
              "// Listen for the removal of the full notebook cells\n",
              "var notebookContainer = gd.closest('#notebook-container');\n",
              "if (notebookContainer) {{\n",
              "    x.observe(notebookContainer, {childList: true});\n",
              "}}\n",
              "\n",
              "// Listen for the clearing of the current output cell\n",
              "var outputEl = gd.closest('.output');\n",
              "if (outputEl) {{\n",
              "    x.observe(outputEl, {childList: true});\n",
              "}}\n",
              "\n",
              "                        })                };                            </script>        </div>\n",
              "</body>\n",
              "</html>"
            ]
          },
          "metadata": {}
        }
      ]
    },
    {
      "cell_type": "code",
      "source": [
        "fig = go.Figure()\n",
        "\n",
        "for col in ['Free Cash Flow', 'Interest Expense', 'Tax Provision', 'Pretax Income', 'FCF']:\n",
        "    fig.add_trace(go.Bar(x=values['Date'], y=values[col], name=col))\n",
        "\n",
        "fig.update_layout(\n",
        "    title='Capital One FCFF Over Time',\n",
        "    xaxis=dict(title='Date'),\n",
        "    yaxis=dict(title='Amount'),\n",
        "    barmode='stack',\n",
        "    showlegend=True\n",
        ")\n",
        "\n",
        "fig.show()"
      ],
      "metadata": {
        "colab": {
          "base_uri": "https://localhost:8080/",
          "height": 542
        },
        "id": "cZvhxRIAAgx8",
        "outputId": "99d75e3a-3214-430d-945b-fa7aa5781b49"
      },
      "execution_count": 295,
      "outputs": [
        {
          "output_type": "display_data",
          "data": {
            "text/html": [
              "<html>\n",
              "<head><meta charset=\"utf-8\" /></head>\n",
              "<body>\n",
              "    <div>            <script src=\"https://cdnjs.cloudflare.com/ajax/libs/mathjax/2.7.5/MathJax.js?config=TeX-AMS-MML_SVG\"></script><script type=\"text/javascript\">if (window.MathJax && window.MathJax.Hub && window.MathJax.Hub.Config) {window.MathJax.Hub.Config({SVG: {font: \"STIX-Web\"}});}</script>                <script type=\"text/javascript\">window.PlotlyConfig = {MathJaxConfig: 'local'};</script>\n",
              "        <script charset=\"utf-8\" src=\"https://cdn.plot.ly/plotly-2.24.1.min.js\"></script>                <div id=\"c1bf8a50-3265-4cd8-aa4b-08329be72ff0\" class=\"plotly-graph-div\" style=\"height:525px; width:100%;\"></div>            <script type=\"text/javascript\">                                    window.PLOTLYENV=window.PLOTLYENV || {};                                    if (document.getElementById(\"c1bf8a50-3265-4cd8-aa4b-08329be72ff0\")) {                    Plotly.newPlot(                        \"c1bf8a50-3265-4cd8-aa4b-08329be72ff0\",                        [{\"name\":\"Free Cash Flow\",\"x\":[2022,2021,2020,2019],\"y\":[12875000,11612000,15989000,15752000],\"type\":\"bar\"},{\"name\":\"Interest Expense\",\"x\":[2022,2021,2020,2019],\"y\":[19412000,16470000,14716000,14994000],\"type\":\"bar\"},{\"name\":\"Tax Provision\",\"x\":[2022,2021,2020,2019],\"y\":[1880000,3415000,486000,1341000],\"type\":\"bar\"},{\"name\":\"Pretax Income\",\"x\":[2022,2021,2020,2019],\"y\":[9240000,15809000,3203000,6874000],\"type\":\"bar\"},{\"name\":\"FCF\",\"x\":[2022,2021,2020,2019],\"y\":[28337372.294372294,24524213.29622367,28472100.842959724,27820926.6802444],\"type\":\"bar\"}],                        {\"template\":{\"data\":{\"histogram2dcontour\":[{\"type\":\"histogram2dcontour\",\"colorbar\":{\"outlinewidth\":0,\"ticks\":\"\"},\"colorscale\":[[0.0,\"#0d0887\"],[0.1111111111111111,\"#46039f\"],[0.2222222222222222,\"#7201a8\"],[0.3333333333333333,\"#9c179e\"],[0.4444444444444444,\"#bd3786\"],[0.5555555555555556,\"#d8576b\"],[0.6666666666666666,\"#ed7953\"],[0.7777777777777778,\"#fb9f3a\"],[0.8888888888888888,\"#fdca26\"],[1.0,\"#f0f921\"]]}],\"choropleth\":[{\"type\":\"choropleth\",\"colorbar\":{\"outlinewidth\":0,\"ticks\":\"\"}}],\"histogram2d\":[{\"type\":\"histogram2d\",\"colorbar\":{\"outlinewidth\":0,\"ticks\":\"\"},\"colorscale\":[[0.0,\"#0d0887\"],[0.1111111111111111,\"#46039f\"],[0.2222222222222222,\"#7201a8\"],[0.3333333333333333,\"#9c179e\"],[0.4444444444444444,\"#bd3786\"],[0.5555555555555556,\"#d8576b\"],[0.6666666666666666,\"#ed7953\"],[0.7777777777777778,\"#fb9f3a\"],[0.8888888888888888,\"#fdca26\"],[1.0,\"#f0f921\"]]}],\"heatmap\":[{\"type\":\"heatmap\",\"colorbar\":{\"outlinewidth\":0,\"ticks\":\"\"},\"colorscale\":[[0.0,\"#0d0887\"],[0.1111111111111111,\"#46039f\"],[0.2222222222222222,\"#7201a8\"],[0.3333333333333333,\"#9c179e\"],[0.4444444444444444,\"#bd3786\"],[0.5555555555555556,\"#d8576b\"],[0.6666666666666666,\"#ed7953\"],[0.7777777777777778,\"#fb9f3a\"],[0.8888888888888888,\"#fdca26\"],[1.0,\"#f0f921\"]]}],\"heatmapgl\":[{\"type\":\"heatmapgl\",\"colorbar\":{\"outlinewidth\":0,\"ticks\":\"\"},\"colorscale\":[[0.0,\"#0d0887\"],[0.1111111111111111,\"#46039f\"],[0.2222222222222222,\"#7201a8\"],[0.3333333333333333,\"#9c179e\"],[0.4444444444444444,\"#bd3786\"],[0.5555555555555556,\"#d8576b\"],[0.6666666666666666,\"#ed7953\"],[0.7777777777777778,\"#fb9f3a\"],[0.8888888888888888,\"#fdca26\"],[1.0,\"#f0f921\"]]}],\"contourcarpet\":[{\"type\":\"contourcarpet\",\"colorbar\":{\"outlinewidth\":0,\"ticks\":\"\"}}],\"contour\":[{\"type\":\"contour\",\"colorbar\":{\"outlinewidth\":0,\"ticks\":\"\"},\"colorscale\":[[0.0,\"#0d0887\"],[0.1111111111111111,\"#46039f\"],[0.2222222222222222,\"#7201a8\"],[0.3333333333333333,\"#9c179e\"],[0.4444444444444444,\"#bd3786\"],[0.5555555555555556,\"#d8576b\"],[0.6666666666666666,\"#ed7953\"],[0.7777777777777778,\"#fb9f3a\"],[0.8888888888888888,\"#fdca26\"],[1.0,\"#f0f921\"]]}],\"surface\":[{\"type\":\"surface\",\"colorbar\":{\"outlinewidth\":0,\"ticks\":\"\"},\"colorscale\":[[0.0,\"#0d0887\"],[0.1111111111111111,\"#46039f\"],[0.2222222222222222,\"#7201a8\"],[0.3333333333333333,\"#9c179e\"],[0.4444444444444444,\"#bd3786\"],[0.5555555555555556,\"#d8576b\"],[0.6666666666666666,\"#ed7953\"],[0.7777777777777778,\"#fb9f3a\"],[0.8888888888888888,\"#fdca26\"],[1.0,\"#f0f921\"]]}],\"mesh3d\":[{\"type\":\"mesh3d\",\"colorbar\":{\"outlinewidth\":0,\"ticks\":\"\"}}],\"scatter\":[{\"fillpattern\":{\"fillmode\":\"overlay\",\"size\":10,\"solidity\":0.2},\"type\":\"scatter\"}],\"parcoords\":[{\"type\":\"parcoords\",\"line\":{\"colorbar\":{\"outlinewidth\":0,\"ticks\":\"\"}}}],\"scatterpolargl\":[{\"type\":\"scatterpolargl\",\"marker\":{\"colorbar\":{\"outlinewidth\":0,\"ticks\":\"\"}}}],\"bar\":[{\"error_x\":{\"color\":\"#2a3f5f\"},\"error_y\":{\"color\":\"#2a3f5f\"},\"marker\":{\"line\":{\"color\":\"#E5ECF6\",\"width\":0.5},\"pattern\":{\"fillmode\":\"overlay\",\"size\":10,\"solidity\":0.2}},\"type\":\"bar\"}],\"scattergeo\":[{\"type\":\"scattergeo\",\"marker\":{\"colorbar\":{\"outlinewidth\":0,\"ticks\":\"\"}}}],\"scatterpolar\":[{\"type\":\"scatterpolar\",\"marker\":{\"colorbar\":{\"outlinewidth\":0,\"ticks\":\"\"}}}],\"histogram\":[{\"marker\":{\"pattern\":{\"fillmode\":\"overlay\",\"size\":10,\"solidity\":0.2}},\"type\":\"histogram\"}],\"scattergl\":[{\"type\":\"scattergl\",\"marker\":{\"colorbar\":{\"outlinewidth\":0,\"ticks\":\"\"}}}],\"scatter3d\":[{\"type\":\"scatter3d\",\"line\":{\"colorbar\":{\"outlinewidth\":0,\"ticks\":\"\"}},\"marker\":{\"colorbar\":{\"outlinewidth\":0,\"ticks\":\"\"}}}],\"scattermapbox\":[{\"type\":\"scattermapbox\",\"marker\":{\"colorbar\":{\"outlinewidth\":0,\"ticks\":\"\"}}}],\"scatterternary\":[{\"type\":\"scatterternary\",\"marker\":{\"colorbar\":{\"outlinewidth\":0,\"ticks\":\"\"}}}],\"scattercarpet\":[{\"type\":\"scattercarpet\",\"marker\":{\"colorbar\":{\"outlinewidth\":0,\"ticks\":\"\"}}}],\"carpet\":[{\"aaxis\":{\"endlinecolor\":\"#2a3f5f\",\"gridcolor\":\"white\",\"linecolor\":\"white\",\"minorgridcolor\":\"white\",\"startlinecolor\":\"#2a3f5f\"},\"baxis\":{\"endlinecolor\":\"#2a3f5f\",\"gridcolor\":\"white\",\"linecolor\":\"white\",\"minorgridcolor\":\"white\",\"startlinecolor\":\"#2a3f5f\"},\"type\":\"carpet\"}],\"table\":[{\"cells\":{\"fill\":{\"color\":\"#EBF0F8\"},\"line\":{\"color\":\"white\"}},\"header\":{\"fill\":{\"color\":\"#C8D4E3\"},\"line\":{\"color\":\"white\"}},\"type\":\"table\"}],\"barpolar\":[{\"marker\":{\"line\":{\"color\":\"#E5ECF6\",\"width\":0.5},\"pattern\":{\"fillmode\":\"overlay\",\"size\":10,\"solidity\":0.2}},\"type\":\"barpolar\"}],\"pie\":[{\"automargin\":true,\"type\":\"pie\"}]},\"layout\":{\"autotypenumbers\":\"strict\",\"colorway\":[\"#636efa\",\"#EF553B\",\"#00cc96\",\"#ab63fa\",\"#FFA15A\",\"#19d3f3\",\"#FF6692\",\"#B6E880\",\"#FF97FF\",\"#FECB52\"],\"font\":{\"color\":\"#2a3f5f\"},\"hovermode\":\"closest\",\"hoverlabel\":{\"align\":\"left\"},\"paper_bgcolor\":\"white\",\"plot_bgcolor\":\"#E5ECF6\",\"polar\":{\"bgcolor\":\"#E5ECF6\",\"angularaxis\":{\"gridcolor\":\"white\",\"linecolor\":\"white\",\"ticks\":\"\"},\"radialaxis\":{\"gridcolor\":\"white\",\"linecolor\":\"white\",\"ticks\":\"\"}},\"ternary\":{\"bgcolor\":\"#E5ECF6\",\"aaxis\":{\"gridcolor\":\"white\",\"linecolor\":\"white\",\"ticks\":\"\"},\"baxis\":{\"gridcolor\":\"white\",\"linecolor\":\"white\",\"ticks\":\"\"},\"caxis\":{\"gridcolor\":\"white\",\"linecolor\":\"white\",\"ticks\":\"\"}},\"coloraxis\":{\"colorbar\":{\"outlinewidth\":0,\"ticks\":\"\"}},\"colorscale\":{\"sequential\":[[0.0,\"#0d0887\"],[0.1111111111111111,\"#46039f\"],[0.2222222222222222,\"#7201a8\"],[0.3333333333333333,\"#9c179e\"],[0.4444444444444444,\"#bd3786\"],[0.5555555555555556,\"#d8576b\"],[0.6666666666666666,\"#ed7953\"],[0.7777777777777778,\"#fb9f3a\"],[0.8888888888888888,\"#fdca26\"],[1.0,\"#f0f921\"]],\"sequentialminus\":[[0.0,\"#0d0887\"],[0.1111111111111111,\"#46039f\"],[0.2222222222222222,\"#7201a8\"],[0.3333333333333333,\"#9c179e\"],[0.4444444444444444,\"#bd3786\"],[0.5555555555555556,\"#d8576b\"],[0.6666666666666666,\"#ed7953\"],[0.7777777777777778,\"#fb9f3a\"],[0.8888888888888888,\"#fdca26\"],[1.0,\"#f0f921\"]],\"diverging\":[[0,\"#8e0152\"],[0.1,\"#c51b7d\"],[0.2,\"#de77ae\"],[0.3,\"#f1b6da\"],[0.4,\"#fde0ef\"],[0.5,\"#f7f7f7\"],[0.6,\"#e6f5d0\"],[0.7,\"#b8e186\"],[0.8,\"#7fbc41\"],[0.9,\"#4d9221\"],[1,\"#276419\"]]},\"xaxis\":{\"gridcolor\":\"white\",\"linecolor\":\"white\",\"ticks\":\"\",\"title\":{\"standoff\":15},\"zerolinecolor\":\"white\",\"automargin\":true,\"zerolinewidth\":2},\"yaxis\":{\"gridcolor\":\"white\",\"linecolor\":\"white\",\"ticks\":\"\",\"title\":{\"standoff\":15},\"zerolinecolor\":\"white\",\"automargin\":true,\"zerolinewidth\":2},\"scene\":{\"xaxis\":{\"backgroundcolor\":\"#E5ECF6\",\"gridcolor\":\"white\",\"linecolor\":\"white\",\"showbackground\":true,\"ticks\":\"\",\"zerolinecolor\":\"white\",\"gridwidth\":2},\"yaxis\":{\"backgroundcolor\":\"#E5ECF6\",\"gridcolor\":\"white\",\"linecolor\":\"white\",\"showbackground\":true,\"ticks\":\"\",\"zerolinecolor\":\"white\",\"gridwidth\":2},\"zaxis\":{\"backgroundcolor\":\"#E5ECF6\",\"gridcolor\":\"white\",\"linecolor\":\"white\",\"showbackground\":true,\"ticks\":\"\",\"zerolinecolor\":\"white\",\"gridwidth\":2}},\"shapedefaults\":{\"line\":{\"color\":\"#2a3f5f\"}},\"annotationdefaults\":{\"arrowcolor\":\"#2a3f5f\",\"arrowhead\":0,\"arrowwidth\":1},\"geo\":{\"bgcolor\":\"white\",\"landcolor\":\"#E5ECF6\",\"subunitcolor\":\"white\",\"showland\":true,\"showlakes\":true,\"lakecolor\":\"white\"},\"title\":{\"x\":0.05},\"mapbox\":{\"style\":\"light\"}}},\"title\":{\"text\":\"Capital One FCFF Over Time\"},\"xaxis\":{\"title\":{\"text\":\"Date\"}},\"yaxis\":{\"title\":{\"text\":\"Amount\"}},\"barmode\":\"stack\",\"showlegend\":true},                        {\"responsive\": true}                    ).then(function(){\n",
              "                            \n",
              "var gd = document.getElementById('c1bf8a50-3265-4cd8-aa4b-08329be72ff0');\n",
              "var x = new MutationObserver(function (mutations, observer) {{\n",
              "        var display = window.getComputedStyle(gd).display;\n",
              "        if (!display || display === 'none') {{\n",
              "            console.log([gd, 'removed!']);\n",
              "            Plotly.purge(gd);\n",
              "            observer.disconnect();\n",
              "        }}\n",
              "}});\n",
              "\n",
              "// Listen for the removal of the full notebook cells\n",
              "var notebookContainer = gd.closest('#notebook-container');\n",
              "if (notebookContainer) {{\n",
              "    x.observe(notebookContainer, {childList: true});\n",
              "}}\n",
              "\n",
              "// Listen for the clearing of the current output cell\n",
              "var outputEl = gd.closest('.output');\n",
              "if (outputEl) {{\n",
              "    x.observe(outputEl, {childList: true});\n",
              "}}\n",
              "\n",
              "                        })                };                            </script>        </div>\n",
              "</body>\n",
              "</html>"
            ]
          },
          "metadata": {}
        }
      ]
    },
    {
      "cell_type": "markdown",
      "source": [
        "\n",
        "\n",
        "---\n",
        "\n",
        "\n",
        "---\n",
        "\n",
        "\n"
      ],
      "metadata": {
        "id": "lDu1xccCv8en"
      }
    },
    {
      "cell_type": "markdown",
      "source": [
        "# 6. Limitiations and Assumptions"
      ],
      "metadata": {
        "id": "wxLIL8HnvTiB"
      }
    },
    {
      "cell_type": "markdown",
      "source": [
        "It is crucial to consider the limitations and assumptions of the calculated models. In this section, we will delve deeper into understanding how these calculations may only be somewhat reliable. For instance, the Capital Asset Pricing Model (CAPM) has some significant drawbacks, such as the risk-free rates being volatile and changing quickly. It is important to keep in mind that assuming a risk-free rate is false since investors cannot borrow or lend at a rate that assumes a zero-risk rate of return. Similarly, the Gordon Growth Model, or DDM, assumes that the company will grow constantly, which is a false assumption in the real world. This model may lead to undervaluing of stocks since it does not consider non-dividend factors. Lastly, the Free Cash Flow Evaluation assumes that the company has no changes in working capital and does not account for depreciation, which may not accurately represent the company's financial situation.\n",
        "\n",
        "In terms of the analysis part, I encountered a challenge while obtaining the data. To access the Cashflows and Income Statement, I needed a Yahoo finance subscription, which required me to input the numbers into an Excel file and proceed with my calculations. Although there are better ways to handle data, this allowed me to complete the analysis.\n"
      ],
      "metadata": {
        "id": "f1D6Y4i9FU_6"
      }
    },
    {
      "cell_type": "markdown",
      "source": [
        "\n",
        "\n",
        "---\n",
        "\n",
        "\n"
      ],
      "metadata": {
        "id": "J8A495-UwA2P"
      }
    },
    {
      "cell_type": "markdown",
      "source": [
        "# 7. Conclusions"
      ],
      "metadata": {
        "id": "8LH6UfXyvewF"
      }
    },
    {
      "cell_type": "markdown",
      "source": [
        "This analysis of a COF stock relies on several financial models, including CAPM, DDM, and Free Cash Flow. It's important to note that these models have certain limitations and assumptions that may introduce some uncertainty to the calculations. The Free Cash Flow model suggests that the company generated a significant amount of cash flow in 2022, while the calculated expected loss of 85.9% is a cause for concern among investors.\n",
        "\n",
        "It's essential for investors to approach these findings with caution and to be aware of the uncertainties inherent in the models and the challenges associated with acquiring data. To make informed investment decisions, investors should conduct comprehensive due diligence, seek professional financial advice, and consider broader factors beyond just calculated metrics."
      ],
      "metadata": {
        "id": "ksPuTy6xccJ1"
      }
    },
    {
      "cell_type": "markdown",
      "source": [
        "\n",
        "\n",
        "---\n",
        "\n"
      ],
      "metadata": {
        "id": "Bg3QU4UhwDSF"
      }
    },
    {
      "cell_type": "markdown",
      "source": [
        "# 8. References"
      ],
      "metadata": {
        "id": "Sa5Se2tsvjGY"
      }
    },
    {
      "cell_type": "markdown",
      "source": [
        "\n",
        "- Aldahan, Reda. “Dividends Discount Model (DDM) in Python.” Medium, Python in Plain English, 31 Jan. 2022, python.plainenglish.io/dividends-discount-model-in-python-13c0f141a611.\n",
        "\n",
        "- (CodingFun), Jose Manu. “Gordon Growth Model with Python.” Medium, Towards Data Science, 20 Feb. 2020, towardsdatascience.com/gordon-growth-model-with-python-c2670c8022a9.\n",
        "\n",
        "- “Capital Asset Pricing Model (CAPM): All You Need to Know.” Nirmal Bang, www.nirmalbang.com/knowledge-center/capital-asset-pricing-model.html#:~:text=This%20model%20has%20a%20major,in%20a%20matter%20of%20days.&amp;text=Individual%20investors%20are%20not%20able,rate%20of%20return%20for%20calculations. Accessed 17 Dec. 2023.\n",
        "\n",
        "- Donnelly, Hugh. “Stock Valuation Using Free Cash Flow to the Firm with Python.” Medium, The Startup, 20 Nov. 2020, medium.com/swlh/stock-valuation-using-free-cash-flow-to-the-firm-with-python-9a2f0e8f308f.\n",
        "\n",
        "- “Gordon Growth Model.” Corporate Finance Institute, 9 Nov. 2023, corporatefinanceinstitute.com/resources/valuation/gordon-growth-model/#.\n",
        "\n",
        "- Investopedia, Investopedia, www.investopedia.com/. Accessed 16 Dec. 2023.\n",
        "\n",
        "- OpenAI. \"GPT-3.\" OpenAI, https://www.openai.com/.\n",
        "    - (Utilized for the visualizations)\n",
        "\n"
      ],
      "metadata": {
        "id": "ZIm6eD8rZ6y0"
      }
    },
    {
      "cell_type": "markdown",
      "source": [
        "\n",
        "\n",
        "---\n",
        "\n",
        "\n",
        "\n",
        "---\n",
        "\n",
        "\n"
      ],
      "metadata": {
        "id": "XisL76DPwGDo"
      }
    }
  ]
}
